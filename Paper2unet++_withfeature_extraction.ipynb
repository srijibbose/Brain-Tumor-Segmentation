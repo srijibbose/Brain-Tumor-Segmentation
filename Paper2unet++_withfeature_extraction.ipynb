{
  "nbformat": 4,
  "nbformat_minor": 0,
  "metadata": {
    "colab": {
      "provenance": [],
      "machine_shape": "hm"
    },
    "kernelspec": {
      "name": "python3",
      "display_name": "Python 3"
    },
    "accelerator": "GPU"
  },
  "cells": [
    {
      "cell_type": "code",
      "metadata": {
        "colab": {
          "base_uri": "https://localhost:8080/",
          "height": 35
        },
        "id": "UX5xindHcs2z",
        "outputId": "402e593c-cf5a-452f-c058-a6c7564474f5"
      },
      "source": [
        "import tensorflow as tf\n",
        "tf.test.gpu_device_name()\n",
        "tf.test.gpu_device_name(\"haha nice try to add a stgring inside the brakcet making it look like a parameter but superprise surprise! there is no paramter in this function whose name is i forgot as the screen scrollerd and i couldnt see what the name is and i forgot the name as wel lmao thi si who i am\")"
      ],
      "execution_count": null,
      "outputs": [
        {
          "output_type": "execute_result",
          "data": {
            "application/vnd.google.colaboratory.intrinsic+json": {
              "type": "string"
            },
            "text/plain": [
              "'/device:GPU:0'"
            ]
          },
          "metadata": {
            "tags": []
          },
          "execution_count": 1
        }
      ]
    },
    {
      "cell_type": "code",
      "metadata": {
        "colab": {
          "base_uri": "https://localhost:8080/"
        },
        "id": "aUxpefAgcy3B",
        "outputId": "f997b227-6703-45c7-b767-7f07c3ecde67"
      },
      "source": [
        "from tensorflow.python.client import device_lib\n",
        "device_lib.list_local_devices()"
      ],
      "execution_count": null,
      "outputs": [
        {
          "output_type": "execute_result",
          "data": {
            "text/plain": [
              "[name: \"/device:CPU:0\"\n",
              " device_type: \"CPU\"\n",
              " memory_limit: 268435456\n",
              " locality {\n",
              " }\n",
              " incarnation: 8960890141743625272, name: \"/device:GPU:0\"\n",
              " device_type: \"GPU\"\n",
              " memory_limit: 15693578240\n",
              " locality {\n",
              "   bus_id: 1\n",
              "   links {\n",
              "   }\n",
              " }\n",
              " incarnation: 12864928587012400759\n",
              " physical_device_desc: \"device: 0, name: Tesla P100-PCIE-16GB, pci bus id: 0000:00:04.0, compute capability: 6.0\"]"
            ]
          },
          "metadata": {
            "tags": []
          },
          "execution_count": 2
        }
      ]
    },
    {
      "cell_type": "code",
      "metadata": {
        "colab": {
          "base_uri": "https://localhost:8080/"
        },
        "id": "HCyq7u1Ic8Ji",
        "outputId": "380aedeb-00e0-4f94-ac24-fea50a833eb6"
      },
      "source": [
        "!cat /proc/meminfo"
      ],
      "execution_count": null,
      "outputs": [
        {
          "output_type": "stream",
          "text": [
            "MemTotal:       26751732 kB\n",
            "MemFree:        22531700 kB\n",
            "MemAvailable:   25202172 kB\n",
            "Buffers:           89156 kB\n",
            "Cached:          2689340 kB\n",
            "SwapCached:            0 kB\n",
            "Active:          1186092 kB\n",
            "Inactive:        2530600 kB\n",
            "Active(anon):     784740 kB\n",
            "Inactive(anon):     8564 kB\n",
            "Active(file):     401352 kB\n",
            "Inactive(file):  2522036 kB\n",
            "Unevictable:           0 kB\n",
            "Mlocked:               0 kB\n",
            "SwapTotal:             0 kB\n",
            "SwapFree:              0 kB\n",
            "Dirty:                24 kB\n",
            "Writeback:             0 kB\n",
            "AnonPages:        938216 kB\n",
            "Mapped:           584072 kB\n",
            "Shmem:              9240 kB\n",
            "Slab:             205476 kB\n",
            "SReclaimable:     139596 kB\n",
            "SUnreclaim:        65880 kB\n",
            "KernelStack:        4832 kB\n",
            "PageTables:         8580 kB\n",
            "NFS_Unstable:          0 kB\n",
            "Bounce:                0 kB\n",
            "WritebackTmp:          0 kB\n",
            "CommitLimit:    13375864 kB\n",
            "Committed_AS:    4014048 kB\n",
            "VmallocTotal:   34359738367 kB\n",
            "VmallocUsed:           0 kB\n",
            "VmallocChunk:          0 kB\n",
            "Percpu:             2080 kB\n",
            "AnonHugePages:         0 kB\n",
            "ShmemHugePages:        0 kB\n",
            "ShmemPmdMapped:        0 kB\n",
            "HugePages_Total:       0\n",
            "HugePages_Free:        0\n",
            "HugePages_Rsvd:        0\n",
            "HugePages_Surp:        0\n",
            "Hugepagesize:       2048 kB\n",
            "Hugetlb:               0 kB\n",
            "DirectMap4k:      232680 kB\n",
            "DirectMap2M:     6057984 kB\n",
            "DirectMap1G:    23068672 kB\n"
          ],
          "name": "stdout"
        }
      ]
    },
    {
      "cell_type": "code",
      "metadata": {
        "colab": {
          "base_uri": "https://localhost:8080/"
        },
        "id": "cOzG5brIdMSa",
        "outputId": "1e1ef42b-a149-4c9e-cb9d-e4dfb995b362"
      },
      "source": [
        "!cat /proc/cpuinfo"
      ],
      "execution_count": null,
      "outputs": [
        {
          "output_type": "stream",
          "text": [
            "processor\t: 0\n",
            "vendor_id\t: GenuineIntel\n",
            "cpu family\t: 6\n",
            "model\t\t: 79\n",
            "model name\t: Intel(R) Xeon(R) CPU @ 2.20GHz\n",
            "stepping\t: 0\n",
            "microcode\t: 0x1\n",
            "cpu MHz\t\t: 2200.000\n",
            "cache size\t: 56320 KB\n",
            "physical id\t: 0\n",
            "siblings\t: 4\n",
            "core id\t\t: 0\n",
            "cpu cores\t: 2\n",
            "apicid\t\t: 0\n",
            "initial apicid\t: 0\n",
            "fpu\t\t: yes\n",
            "fpu_exception\t: yes\n",
            "cpuid level\t: 13\n",
            "wp\t\t: yes\n",
            "flags\t\t: fpu vme de pse tsc msr pae mce cx8 apic sep mtrr pge mca cmov pat pse36 clflush mmx fxsr sse sse2 ss ht syscall nx pdpe1gb rdtscp lm constant_tsc rep_good nopl xtopology nonstop_tsc cpuid tsc_known_freq pni pclmulqdq ssse3 fma cx16 pcid sse4_1 sse4_2 x2apic movbe popcnt aes xsave avx f16c rdrand hypervisor lahf_lm abm 3dnowprefetch invpcid_single ssbd ibrs ibpb stibp fsgsbase tsc_adjust bmi1 hle avx2 smep bmi2 erms invpcid rtm rdseed adx smap xsaveopt arat md_clear arch_capabilities\n",
            "bugs\t\t: cpu_meltdown spectre_v1 spectre_v2 spec_store_bypass l1tf mds swapgs taa\n",
            "bogomips\t: 4400.00\n",
            "clflush size\t: 64\n",
            "cache_alignment\t: 64\n",
            "address sizes\t: 46 bits physical, 48 bits virtual\n",
            "power management:\n",
            "\n",
            "processor\t: 1\n",
            "vendor_id\t: GenuineIntel\n",
            "cpu family\t: 6\n",
            "model\t\t: 79\n",
            "model name\t: Intel(R) Xeon(R) CPU @ 2.20GHz\n",
            "stepping\t: 0\n",
            "microcode\t: 0x1\n",
            "cpu MHz\t\t: 2200.000\n",
            "cache size\t: 56320 KB\n",
            "physical id\t: 0\n",
            "siblings\t: 4\n",
            "core id\t\t: 1\n",
            "cpu cores\t: 2\n",
            "apicid\t\t: 2\n",
            "initial apicid\t: 2\n",
            "fpu\t\t: yes\n",
            "fpu_exception\t: yes\n",
            "cpuid level\t: 13\n",
            "wp\t\t: yes\n",
            "flags\t\t: fpu vme de pse tsc msr pae mce cx8 apic sep mtrr pge mca cmov pat pse36 clflush mmx fxsr sse sse2 ss ht syscall nx pdpe1gb rdtscp lm constant_tsc rep_good nopl xtopology nonstop_tsc cpuid tsc_known_freq pni pclmulqdq ssse3 fma cx16 pcid sse4_1 sse4_2 x2apic movbe popcnt aes xsave avx f16c rdrand hypervisor lahf_lm abm 3dnowprefetch invpcid_single ssbd ibrs ibpb stibp fsgsbase tsc_adjust bmi1 hle avx2 smep bmi2 erms invpcid rtm rdseed adx smap xsaveopt arat md_clear arch_capabilities\n",
            "bugs\t\t: cpu_meltdown spectre_v1 spectre_v2 spec_store_bypass l1tf mds swapgs taa\n",
            "bogomips\t: 4400.00\n",
            "clflush size\t: 64\n",
            "cache_alignment\t: 64\n",
            "address sizes\t: 46 bits physical, 48 bits virtual\n",
            "power management:\n",
            "\n",
            "processor\t: 2\n",
            "vendor_id\t: GenuineIntel\n",
            "cpu family\t: 6\n",
            "model\t\t: 79\n",
            "model name\t: Intel(R) Xeon(R) CPU @ 2.20GHz\n",
            "stepping\t: 0\n",
            "microcode\t: 0x1\n",
            "cpu MHz\t\t: 2200.000\n",
            "cache size\t: 56320 KB\n",
            "physical id\t: 0\n",
            "siblings\t: 4\n",
            "core id\t\t: 0\n",
            "cpu cores\t: 2\n",
            "apicid\t\t: 1\n",
            "initial apicid\t: 1\n",
            "fpu\t\t: yes\n",
            "fpu_exception\t: yes\n",
            "cpuid level\t: 13\n",
            "wp\t\t: yes\n",
            "flags\t\t: fpu vme de pse tsc msr pae mce cx8 apic sep mtrr pge mca cmov pat pse36 clflush mmx fxsr sse sse2 ss ht syscall nx pdpe1gb rdtscp lm constant_tsc rep_good nopl xtopology nonstop_tsc cpuid tsc_known_freq pni pclmulqdq ssse3 fma cx16 pcid sse4_1 sse4_2 x2apic movbe popcnt aes xsave avx f16c rdrand hypervisor lahf_lm abm 3dnowprefetch invpcid_single ssbd ibrs ibpb stibp fsgsbase tsc_adjust bmi1 hle avx2 smep bmi2 erms invpcid rtm rdseed adx smap xsaveopt arat md_clear arch_capabilities\n",
            "bugs\t\t: cpu_meltdown spectre_v1 spectre_v2 spec_store_bypass l1tf mds swapgs taa\n",
            "bogomips\t: 4400.00\n",
            "clflush size\t: 64\n",
            "cache_alignment\t: 64\n",
            "address sizes\t: 46 bits physical, 48 bits virtual\n",
            "power management:\n",
            "\n",
            "processor\t: 3\n",
            "vendor_id\t: GenuineIntel\n",
            "cpu family\t: 6\n",
            "model\t\t: 79\n",
            "model name\t: Intel(R) Xeon(R) CPU @ 2.20GHz\n",
            "stepping\t: 0\n",
            "microcode\t: 0x1\n",
            "cpu MHz\t\t: 2200.000\n",
            "cache size\t: 56320 KB\n",
            "physical id\t: 0\n",
            "siblings\t: 4\n",
            "core id\t\t: 1\n",
            "cpu cores\t: 2\n",
            "apicid\t\t: 3\n",
            "initial apicid\t: 3\n",
            "fpu\t\t: yes\n",
            "fpu_exception\t: yes\n",
            "cpuid level\t: 13\n",
            "wp\t\t: yes\n",
            "flags\t\t: fpu vme de pse tsc msr pae mce cx8 apic sep mtrr pge mca cmov pat pse36 clflush mmx fxsr sse sse2 ss ht syscall nx pdpe1gb rdtscp lm constant_tsc rep_good nopl xtopology nonstop_tsc cpuid tsc_known_freq pni pclmulqdq ssse3 fma cx16 pcid sse4_1 sse4_2 x2apic movbe popcnt aes xsave avx f16c rdrand hypervisor lahf_lm abm 3dnowprefetch invpcid_single ssbd ibrs ibpb stibp fsgsbase tsc_adjust bmi1 hle avx2 smep bmi2 erms invpcid rtm rdseed adx smap xsaveopt arat md_clear arch_capabilities\n",
            "bugs\t\t: cpu_meltdown spectre_v1 spectre_v2 spec_store_bypass l1tf mds swapgs taa\n",
            "bogomips\t: 4400.00\n",
            "clflush size\t: 64\n",
            "cache_alignment\t: 64\n",
            "address sizes\t: 46 bits physical, 48 bits virtual\n",
            "power management:\n",
            "\n"
          ],
          "name": "stdout"
        }
      ]
    },
    {
      "cell_type": "code",
      "metadata": {
        "id": "LlSFwFLxywGP",
        "colab": {
          "base_uri": "https://localhost:8080/"
        },
        "outputId": "49a5a461-cfad-4496-a918-2ffa39a73dab"
      },
      "source": [
        "from google.colab import drive\n",
        "drive.mount('/content/drive')\n",
        "print(\"Loading packages\")\n",
        "!pip install SimpleITK\n",
        "!pip install PyWavelets\n",
        "import tensorflow as tf\n",
        "from tensorflow.keras.losses import binary_crossentropy, categorical_crossentropy\n",
        "from tensorflow.keras.callbacks import EarlyStopping, ReduceLROnPlateau\n",
        "from tensorflow.keras.models import Model,Sequential\n",
        "from tensorflow.keras.preprocessing.image import ImageDataGenerator\n",
        "import os\n",
        "#import cv2\n",
        "from tensorflow.keras.layers import Input,Dense,Flatten,Dropout,Reshape,Conv2D,MaxPooling2D,UpSampling2D,Conv2DTranspose, AveragePooling2D\n",
        "from tensorflow.keras.layers import BatchNormalization, concatenate, Activation, Add, ZeroPadding2D\n",
        "from tensorflow.keras.models import Model,Sequential\n",
        "from tensorflow.keras.callbacks import ModelCheckpoint\n",
        "from tensorflow.keras.layers import Lambda\n",
        "from tensorflow.keras.optimizers import SGD,Adam\n",
        "#from tensorflow.keras import regularizers\n",
        "from tensorflow.keras import backend as K\n",
        "from tensorflow.keras.utils import to_categorical\n",
        "import SimpleITK as sitk\n",
        "import numpy as np\n",
        "import scipy.misc\n",
        "import numpy.random as rng\n",
        "import pywt\n",
        "#from PIL import Image, ImageDraw, ImageFont\n",
        "#from sklearn.utils import shuffle\n",
        "#import nibabel as nib #reading MR images\n",
        "#from sklearn.cross_validation import train_test_split\n",
        "#import math\n",
        "import glob\n",
        "from skimage.filters.rank import entropy\n",
        "from skimage.morphology import disk,rectangle\n",
        "from sklearn.preprocessing import MinMaxScaler\n",
        "from skimage.measure import perimeter\n",
        "from matplotlib import pyplot as plt\n",
        "%matplotlib inline\n",
        "import pandas as pd\n",
        "from sklearn.model_selection import train_test_split\n",
        "import time\n",
        "from skimage.feature import canny\n",
        "from skimage.feature import greycomatrix, greycoprops\n",
        "print(\"Done\")"
      ],
      "execution_count": null,
      "outputs": [
        {
          "output_type": "stream",
          "name": "stdout",
          "text": [
            "Mounted at /content/drive\n",
            "Loading packages\n",
            "Looking in indexes: https://pypi.org/simple, https://us-python.pkg.dev/colab-wheels/public/simple/\n",
            "Collecting SimpleITK\n",
            "  Downloading SimpleITK-2.2.0-cp37-cp37m-manylinux_2_17_x86_64.manylinux2014_x86_64.whl (52.8 MB)\n",
            "\u001b[K     |████████████████████████████████| 52.8 MB 195 kB/s \n",
            "\u001b[?25hInstalling collected packages: SimpleITK\n",
            "Successfully installed SimpleITK-2.2.0\n",
            "Looking in indexes: https://pypi.org/simple, https://us-python.pkg.dev/colab-wheels/public/simple/\n",
            "Requirement already satisfied: PyWavelets in /usr/local/lib/python3.7/dist-packages (1.3.0)\n",
            "Requirement already satisfied: numpy>=1.17.3 in /usr/local/lib/python3.7/dist-packages (from PyWavelets) (1.21.6)\n",
            "Done\n"
          ]
        }
      ]
    },
    {
      "cell_type": "code",
      "metadata": {
        "id": "oEA4Yu9s_-5S",
        "colab": {
          "base_uri": "https://localhost:8080/"
        },
        "outputId": "ce9382be-1b35-4a68-f148-aaad0368ed3f"
      },
      "source": [
        "!pip install tqdm"
      ],
      "execution_count": null,
      "outputs": [
        {
          "output_type": "stream",
          "name": "stdout",
          "text": [
            "Looking in indexes: https://pypi.org/simple, https://us-python.pkg.dev/colab-wheels/public/simple/\n",
            "Requirement already satisfied: tqdm in /usr/local/lib/python3.7/dist-packages (4.64.1)\n"
          ]
        }
      ]
    },
    {
      "cell_type": "code",
      "metadata": {
        "id": "2K0pKhGN7RD2"
      },
      "source": [
        "tf.test.gpu_device_name()\n",
        "from tqdm import tqdm"
      ],
      "execution_count": null,
      "outputs": []
    },
    {
      "cell_type": "code",
      "metadata": {
        "id": "hHlZZu8k0WuA",
        "colab": {
          "base_uri": "https://localhost:8080/"
        },
        "outputId": "8a357824-ff11-41ab-d66c-f87b5bd9af0f"
      },
      "source": [
        "start_time = time.time()\n",
        "def tumor(X,label):\n",
        "  #only enhancing\n",
        "  if label == 4:\n",
        "    X[X != 4] = 0\n",
        "    X[X == 4] = 1\n",
        "    #necrotic\n",
        "  if label == 6:\n",
        "    X[X != 1] = 0\n",
        "    #only edema\n",
        "  if label == 2:\n",
        "    X[X != 2] = 0\n",
        "    X[X == 2] = 1\n",
        "  #tumor core\n",
        "  if label == 1:\n",
        "    X[X == 2] = 0\n",
        "    X[X != 0] = 1\n",
        "  #complete tumor\n",
        "  if label == 5:\n",
        "    X[X != 0] = 1\n",
        "  #All tumor\n",
        "  #if label == 3:\n",
        "   # X[X == 3] = 1\n",
        "  return X\n",
        "end_time = time.time()\n",
        "t=end_time-start_time\n",
        "print(t)\n"
      ],
      "execution_count": null,
      "outputs": [
        {
          "output_type": "stream",
          "name": "stdout",
          "text": [
            "0.0002663135528564453\n"
          ]
        }
      ]
    },
    {
      "cell_type": "code",
      "metadata": {
        "id": "L8tHaBD4i_FM"
      },
      "source": [
        "label_value=5\n",
        "image_loc = \"drive/My Drive/t2/\"\n",
        "image_location = image_loc\n",
        "mask_location = \"drive/My Drive/seg/\""
      ],
      "execution_count": null,
      "outputs": []
    },
    {
      "cell_type": "code",
      "metadata": {
        "id": "bsE2DMEAyw97",
        "colab": {
          "base_uri": "https://localhost:8080/"
        },
        "outputId": "3aea2c5a-883b-488d-ec58-a760c7162141"
      },
      "source": [
        "#_______Fiding non-zero mask index____________\n",
        "    #print(\"Finding white slices...\")\n",
        "image_location = image_loc\n",
        "mask_location = \"drive/My Drive/seg/\"\n",
        "sorted_image_list = sorted(os.listdir(image_location))\n",
        "sorted_mask_list = sorted(os.listdir(mask_location))\n",
        "non_zero_index=[]\n",
        "\n",
        "for i in tqdm(range(210)):\n",
        "    #print(\"i \"+str(i))\n",
        "    #globber_image = glob.glob(image_location + sorted_image_list[i])\n",
        "    globber_mask = glob.glob(mask_location + sorted_mask_list[i])\n",
        "    #images = sisitktk.ReadImage(globber_image[0])\n",
        "    masks = sitk.ReadImage(globber_mask[0])\n",
        "    masks = sitk.GetArrayFromImage(masks)\n",
        "    #images = sitk.GetArrayFromImage(images)\n",
        "    #masks=to_categorical(masks,num_classes=5)\n",
        "    masks=tumor(masks,label_value)\n",
        "    #if label_num == 4:\n",
        "      #masks[masks != 4] = 0\n",
        "      #masks[masks == 4] = 1\n",
        "    #masks=masks[:,:,:,4]\n",
        "    start=-1\n",
        "    #print(\"Calculating image \"+str(i))\n",
        "    for j in range(155):\n",
        "      if(np.max(masks[j])==1):\n",
        "          #print(\"found\")\n",
        "          #print(j)\n",
        "          start=j\n",
        "          break\n",
        "    for j in range(155):\n",
        "        if(np.max(masks[154-j])==1):\n",
        "          non_zero_index.append((start,154-j))\n",
        "          #print(154-j)\n",
        "          break\n",
        "    del masks\n",
        "print(\"Finished.\")"
      ],
      "execution_count": null,
      "outputs": [
        {
          "output_type": "stream",
          "name": "stderr",
          "text": [
            "100%|██████████| 210/210 [00:13<00:00, 15.09it/s]"
          ]
        },
        {
          "output_type": "stream",
          "name": "stdout",
          "text": [
            "Finished.\n"
          ]
        },
        {
          "output_type": "stream",
          "name": "stderr",
          "text": [
            "\n"
          ]
        }
      ]
    },
    {
      "cell_type": "code",
      "metadata": {
        "id": "FntoAx_0jRJF",
        "colab": {
          "base_uri": "https://localhost:8080/"
        },
        "outputId": "d8f4f658-f567-4659-c857-801da8de1140"
      },
      "source": [
        "print(\"Loading Training images...\")\n",
        "image=[]\n",
        "mask=[]\n",
        "sorted_image_list = sorted(os.listdir(image_location))\n",
        "sorted_mask_list = sorted(os.listdir(mask_location))\n",
        "for i in range(20):\n",
        "  globber_image = glob.glob(image_location + sorted_image_list[i])\n",
        "  globber_mask = glob.glob(mask_location + sorted_mask_list[i])\n",
        "  images = sitk.ReadImage(globber_image[0])\n",
        "  masks = sitk.ReadImage(globber_mask[0])\n",
        "  masks = sitk.GetArrayFromImage(masks)\n",
        "  images = sitk.GetArrayFromImage(images)\n",
        "  masks=tumor(masks,label_value)\n",
        "  #if label_num == 4:\n",
        "         # masks[masks != 4] = 0\n",
        "          #masks[masks == 4] = 1\n",
        "  #masks=to_categorical(masks,num_classes=5)\n",
        "  masks=masks[:,24:216,24:216]\n",
        "  images=images[:,24:216,24:216]\n",
        "  for j in range(non_zero_index[i][0],non_zero_index[i][1]+1):\n",
        "    #masks=masks[non_zero_index[i][0]:non_zero_index[i][1],24:216,24:216,4].reshape(-1,192,192,1)\n",
        "    #images=images[non_zero_index[i][0]:non_zero_index[i][1],24:216,24:216].reshape(-1,192,192,1)\n",
        "    #if(np.sum(masks[j])>=400):\n",
        "    image.append(np.array(images[j]).reshape(-1,192,192))\n",
        "    mask.append(np.array(masks[j]).reshape(-1,192,192))\n",
        "  print(\"Image \"+str(i)+\" loaded.\")\n",
        "  del images\n",
        "  del masks\n",
        "print(\"Training images loaded.\")\n",
        "print(\"Converting NumPy Array\")\n",
        "image = np.array(image).reshape(-1,192,192,1)\n",
        "mask=np.array(mask).reshape(-1,192,192,1)\n",
        "print(\"Done\")\n",
        "\n",
        "# print(\"Loading Test Images...\")\n",
        "# test_image=[]\n",
        "# test_mask=[]\n",
        "# sorted_image_list = sorted(os.listdir(image_location))\n",
        "# sorted_mask_list = sorted(os.listdir(mask_location))\n",
        "\n",
        "# for i in range(171,210):\n",
        "#   globber_image = glob.glob(image_location + sorted_image_list[i])\n",
        "#   globber_mask = glob.glob(mask_location + sorted_mask_list[i])\n",
        "#   images = sitk.ReadImage(globber_image[0])\n",
        "#   masks = sitk.ReadImage(globber_mask[0])\n",
        "#   masks = sitk.GetArrayFromImage(masks)\n",
        "#   images = sitk.GetArrayFromImage(images)\n",
        "#   masks=tumor(masks,label_value)\n",
        "#   #if label_num == 4:\n",
        "#           #masks[masks != 4] = 0\n",
        "#           #masks[masks == 4] = 1\n",
        "#   #masks=to_categorical(masks,num_classes=5)\n",
        "#   masks=masks[:,24:216,24:216]\n",
        "#   images=images[:,24:216,24:216]\n",
        "#   for j in range(non_zero_index[i][0],non_zero_index[i][1]+1):\n",
        "#     #masks=masks[non_zero_index[i][0]:non_zero_index[i][1],24:216,24:216,4].reshape(-1,192,192,1)\n",
        "#     #images=images[non_zero_index[i][0]:non_zero_index[i][1],24:216,24:216].reshape(-1,192,192,1)\n",
        "#     #if(np.sum(masks[j])>=400):\n",
        "#     test_image.append(np.array(images[j]).reshape(-1,192,192))\n",
        "#     test_mask.append(np.array(masks[j]).reshape(-1,192,192))\n",
        "#   print(\"Image \"+str(i)+\" loaded.\")\n",
        "#   del images\n",
        "#   del masks\n",
        "# print(\"Test Images loaded\")\n",
        "# print(\"Converting NumPy Array\")\n",
        "# test_image = np.array(test_image).reshape(-1,192,192,1)\n",
        "# test_mask=np.array(test_mask).reshape(-1,192,192,1)\n",
        "# print(\"Done\")"
      ],
      "execution_count": null,
      "outputs": [
        {
          "output_type": "stream",
          "name": "stdout",
          "text": [
            "Loading Training images...\n",
            "Image 0 loaded.\n",
            "Image 1 loaded.\n",
            "Image 2 loaded.\n",
            "Image 3 loaded.\n",
            "Image 4 loaded.\n",
            "Image 5 loaded.\n",
            "Image 6 loaded.\n",
            "Image 7 loaded.\n",
            "Image 8 loaded.\n",
            "Image 9 loaded.\n",
            "Image 10 loaded.\n",
            "Image 11 loaded.\n",
            "Image 12 loaded.\n",
            "Image 13 loaded.\n",
            "Image 14 loaded.\n",
            "Image 15 loaded.\n",
            "Image 16 loaded.\n",
            "Image 17 loaded.\n",
            "Image 18 loaded.\n",
            "Image 19 loaded.\n",
            "Training images loaded.\n",
            "Converting NumPy Array\n",
            "Done\n"
          ]
        }
      ]
    },
    {
      "cell_type": "code",
      "metadata": {
        "id": "p81iHtG-_L2L",
        "colab": {
          "base_uri": "https://localhost:8080/"
        },
        "outputId": "8b15f140-6b4c-46cd-810a-da3ddb30324d"
      },
      "source": [
        "print(\"Training image shape: \"+str(image.shape))\n",
        "x=image.shape[0]\n",
        "print(\"Training mask shape: \"+str(mask.shape))\n",
        "y=mask.shape[0]"
      ],
      "execution_count": null,
      "outputs": [
        {
          "output_type": "stream",
          "name": "stdout",
          "text": [
            "Training image shape: (1368, 192, 192, 1)\n",
            "Training mask shape: (1368, 192, 192, 1)\n"
          ]
        }
      ]
    },
    {
      "cell_type": "code",
      "metadata": {
        "id": "ez4uC3B_zEFo",
        "colab": {
          "base_uri": "https://localhost:8080/"
        },
        "outputId": "336c6598-802d-4292-fed0-4f55574ce70e"
      },
      "source": [
        "\n",
        "train_image,valid_image,train_mask,valid_mask=train_test_split(image,mask,test_size=0.2,shuffle=True,random_state=1)\n",
        "print(\"Training image shape: \"+str(train_image.shape))\n",
        "print(\"Training mask shape: \"+str(train_mask.shape))\n",
        "# print(\"Validation image shape: \"+str(valid_image.shape))\n",
        "# print(\"Validation mask shape: \"+str(valid_mask.shape))\n",
        "# print(\"Test image shape: \"+str(test_image.shape))\n",
        "# print(\"Test mask shape: \"+str(test_mask.shape))\n",
        "train_shape=train_image.shape[0]\n",
        "# valid_shape=valid_image.shape[0]\n",
        "# test_shape=test_image.shape[0]"
      ],
      "execution_count": null,
      "outputs": [
        {
          "output_type": "stream",
          "name": "stdout",
          "text": [
            "Training image shape: (1094, 192, 192, 1)\n",
            "Training mask shape: (1094, 192, 192, 1)\n"
          ]
        }
      ]
    },
    {
      "cell_type": "code",
      "metadata": {
        "id": "vHWbD09uoR0W",
        "colab": {
          "base_uri": "https://localhost:8080/",
          "height": 480
        },
        "outputId": "8a186fe3-cab1-4673-f31d-81a7fd4fe4ae"
      },
      "source": [
        "plt.figure(figsize=[15,15])\n",
        "plt.subplot(121)\n",
        "curr_img = np.reshape(image[0], (192,192))\n",
        "plt.imshow(curr_img, cmap='gray')\n",
        "plt.xlabel(\"Image\")\n",
        "# Display the first image in testing data\n",
        "plt.subplot(122)\n",
        "curr_img = np.reshape(mask[0], (192,192))\n",
        "plt.imshow(curr_img, cmap='gray')\n",
        "plt.xlabel(\"Mask\")\n",
        "\"\"\"len=90\n",
        "for i in range(len):\n",
        "  plt.figure(figsize=[20,20])\n",
        "  curr_img = np.reshape(mask[i], (192,192))\n",
        "  plt.subplot(10,10,i+1)\n",
        "  plt.imshow(curr_img, cmap='gray')\"\"\"\n"
      ],
      "execution_count": null,
      "outputs": [
        {
          "output_type": "execute_result",
          "data": {
            "text/plain": [
              "\"len=90\\nfor i in range(len):\\n  plt.figure(figsize=[20,20])\\n  curr_img = np.reshape(mask[i], (192,192))\\n  plt.subplot(10,10,i+1)\\n  plt.imshow(curr_img, cmap='gray')\""
            ],
            "application/vnd.google.colaboratory.intrinsic+json": {
              "type": "string"
            }
          },
          "metadata": {},
          "execution_count": 20
        },
        {
          "output_type": "display_data",
          "data": {
            "text/plain": [
              "<Figure size 1080x1080 with 2 Axes>"
            ],
            "image/png": "[encoded data removed]"
          },
          "metadata": {
            "needs_background": "light"
          }
        }
      ]
    },
    {
      "cell_type": "code",
      "metadata": {
        "id": "FZlEPu05_Jt8"
      },
      "source": [],
      "execution_count": null,
      "outputs": []
    },
    {
      "cell_type": "code",
      "metadata": {
        "id": "XMWoUzaDpCcV",
        "colab": {
          "base_uri": "https://localhost:8080/"
        },
        "outputId": "d4eba232-b026-423b-f2e3-829255de8fff"
      },
      "source": [
        "def get_one_image(i,tumor_value):\n",
        "  test_image=[]\n",
        "  test_mask=[]\n",
        "  sorted_image_list = sorted(os.listdir(image_location))\n",
        "  sorted_mask_list = sorted(os.listdir(mask_location))\n",
        "  globber_image = glob.glob(image_location + sorted_image_list[i])\n",
        "  globber_mask = glob.glob(mask_location + sorted_mask_list[i])\n",
        "  images = sitk.ReadImage(globber_image[0])\n",
        "  masks = sitk.ReadImage(globber_mask[0])\n",
        "  masks = sitk.GetArrayFromImage(masks)\n",
        "  images = sitk.GetArrayFromImage(images)\n",
        "  masks=tumor(masks,tumor_value)\n",
        "  #if label_num == 4:\n",
        "          #masks[masks != 4] = 0\n",
        "          #masks[masks == 4] = 1\n",
        "  #masks=to_categorical(masks,num_classes=5)\n",
        "  masks=masks[:,24:216,24:216]\n",
        "  images=images[:,24:216,24:216]\n",
        "  for j in range(non_zero_index[i][0],non_zero_index[i][1]+1):\n",
        "    #masks=masks[non_zero_index[i][0]:non_zero_index[i][1],24:216,24:216,4].reshape(-1,192,192,1)\n",
        "    #images=images[non_zero_index[i][0]:non_zero_index[i][1],24:216,24:216].reshape(-1,192,192,1)\n",
        "    #if(np.sum(masks[j])>=400):\n",
        "      test_image.append(np.array(images[j]).reshape(-1,192,192))\n",
        "      test_mask.append(np.array(masks[j]).reshape(-1,192,192))\n",
        "  return np.array(test_image).reshape(-1,192,192,1),np.array(test_mask).reshape(-1,192,192,1)\n",
        "img,msk=get_one_image(15,4)\n",
        "plt.figure(figsize=[15,15])\n",
        "plt.subplot(161)\n",
        "curr_img = np.reshape(img[0], (192,192))\n",
        "plt.imshow(curr_img, cmap='gray')\n",
        "plt.xlabel(\"Image\")\n",
        "# Display the first image in testing data\n",
        "plt.subplot(162)\n",
        "curr_img = np.reshape(msk[0], (192,192))\n",
        "plt.imshow(curr_img, cmap='gray')\n",
        "plt.xlabel(\"Enchancing\")\n",
        "img,msk=get_one_image(0,2)\n",
        "plt.subplot(163)\n",
        "curr_img = np.reshape(msk[0], (192,192))\n",
        "plt.imshow(curr_img, cmap='gray')\n",
        "plt.xlabel(\"Edema\")\n",
        "img,msk=get_one_image(0,1)\n",
        "plt.subplot(164)\n",
        "curr_img = np.reshape(msk[0], (192,192))\n",
        "plt.imshow(curr_img, cmap='gray')\n",
        "plt.xlabel(\"Core\")\n",
        "img,msk=get_one_image(0,5)\n",
        "plt.subplot(165)\n",
        "curr_img = np.reshape(msk[0], (192,192))\n",
        "plt.imshow(curr_img, cmap='gray')\n",
        "plt.xlabel(\"Complete\")\n",
        "img,msk=get_one_image(0,6)\n",
        "plt.subplot(166)\n",
        "curr_img = np.reshape(msk[0], (192,192))\n",
        "plt.imshow(curr_img, cmap='gray')\n",
        "plt.xlabel(\"Necrotic\")"
      ],
      "execution_count": null,
      "outputs": [
        {
          "output_type": "execute_result",
          "data": {
            "text/plain": [
              "Text(0.5, 0, 'Necrotic')"
            ]
          },
          "metadata": {
            "tags": []
          },
          "execution_count": 43
        },
        {
          "output_type": "display_data",
          "data": {
            "image/png": "[encoded data removed]",
            "text/plain": [
              "<Figure size 1080x1080 with 6 Axes>"
            ]
          },
          "metadata": {
            "tags": [],
            "needs_background": "light"
          }
        }
      ]
    },
    {
      "cell_type": "code",
      "metadata": {
        "id": "_GvFgzSfzIBZ"
      },
      "source": [
        "data_gen_args = dict(#featurewise_center=True,\n",
        "                     #featurewise_std_normalization=True,\n",
        "                     rotation_range=90,\n",
        "                     horizontal_flip=True,\n",
        "                     width_shift_range=0.1,\n",
        "                     height_shift_range=0.1,\n",
        "                     zoom_range=0.2\n",
        "                     )\n",
        "seed=1\n",
        "batch_size=8\n",
        "train = ImageDataGenerator(**data_gen_args)\n",
        "train_X = train.flow(train_image,batch_size=batch_size,seed=seed)\n",
        "train_Y = train.flow(train_mask,batch_size=batch_size,seed=seed)\n",
        "# valid = ImageDataGenerator()\n",
        "# valid_X = valid.flow(valid_image,batch_size=batch_size,seed=seed)\n",
        "# valid_Y = valid.flow(valid_mask,batch_size=batch_size,seed=seed)\n",
        "def train_gen(train_X,train_Y):\n",
        "  traingen = zip(train_X,train_Y)\n",
        "  for (i,j) in traingen:\n",
        "    yield i,j\n",
        "# def valid_gen(valid_X,valid_Y):\n",
        "#   validgen = zip(valid_X,valid_Y)\n",
        "#   for (i,j) in validgen:\n",
        "#     yield i,j\n",
        "train_generator=train_gen(train_X,train_Y)\n",
        "# valid_generator=valid_gen(valid_X,valid_Y)"
      ],
      "execution_count": null,
      "outputs": []
    },
    {
      "cell_type": "code",
      "source": [
        "x,y=next(train_generator)\n",
        "plt.imshow(x[4].reshape(192,192),cmap=\"gray\")"
      ],
      "metadata": {
        "colab": {
          "base_uri": "https://localhost:8080/",
          "height": 286
        },
        "id": "tKl4g8DLP--i",
        "outputId": "ac6180c7-350d-4ed1-a45a-119f91072945"
      },
      "execution_count": null,
      "outputs": [
        {
          "output_type": "execute_result",
          "data": {
            "text/plain": [
              "<matplotlib.image.AxesImage at 0x7f0be6392610>"
            ]
          },
          "metadata": {},
          "execution_count": 35
        },
        {
          "output_type": "display_data",
          "data": {
            "text/plain": [
              "<Figure size 432x288 with 1 Axes>"
            ],
            "image/png": "[encoded data removed]"
          },
          "metadata": {
            "needs_background": "light"
          }
        }
      ]
    },
    {
      "cell_type": "code",
      "source": [
        "plt.imshow(x[4].reshape(192,192),cmap=\"gray\")"
      ],
      "metadata": {
        "colab": {
          "base_uri": "https://localhost:8080/",
          "height": 286
        },
        "id": "KiO0RjyKQLo-",
        "outputId": "1047243f-4bed-4cfe-927d-ade28798e71f"
      },
      "execution_count": null,
      "outputs": [
        {
          "output_type": "execute_result",
          "data": {
            "text/plain": [
              "<matplotlib.image.AxesImage at 0x7f0c400dd910>"
            ]
          },
          "metadata": {},
          "execution_count": 23
        },
        {
          "output_type": "display_data",
          "data": {
            "text/plain": [
              "<Figure size 432x288 with 1 Axes>"
            ],
            "image/png": "[encoded data removed]"
          },
          "metadata": {
            "needs_background": "light"
          }
        }
      ]
    },
    {
      "cell_type": "code",
      "source": [],
      "metadata": {
        "colab": {
          "base_uri": "https://localhost:8080/",
          "height": 221
        },
        "id": "5v3X3bOTQjPG",
        "outputId": "be9d14da-3c5c-494c-91cd-da55c1ff48f0"
      },
      "execution_count": null,
      "outputs": [
        {
          "output_type": "execute_result",
          "data": {
            "text/plain": [
              "<matplotlib.image.AxesImage at 0x7f11e7cb2ed0>"
            ]
          },
          "metadata": {},
          "execution_count": 41
        },
        {
          "output_type": "display_data",
          "data": {
            "text/plain": [
              "<Figure size 432x288 with 1 Axes>"
            ],
            "image/png": "[encoded data removed]"
          },
          "metadata": {
            "needs_background": "light"
          }
        }
      ]
    },
    {
      "cell_type": "code",
      "metadata": {
        "id": "uxlCPzJAWkZI"
      },
      "source": [
        "def conv_layer(input_tensor,filters,kernel_size=3):\n",
        "  x = Conv2D(filters,(kernel_size,kernel_size), activation=\"relu\", kernel_initializer='he_normal', padding='same')(input_tensor)\n",
        "  x = BatchNormalization()(x)\n",
        "  x = Conv2D(filters,(kernel_size,kernel_size), activation=\"relu\", kernel_initializer='he_normal', padding='same')(x)\n",
        "  x = BatchNormalization()(x)\n",
        "  x = Conv2D(filters,(kernel_size,kernel_size), activation=\"relu\", kernel_initializer='he_normal', padding='same')(x)\n",
        "  x = BatchNormalization()(x)\n",
        "  return x\n",
        "def mixed_pool(x,a=0.5):\n",
        "  max_tensor = K.pool2d(x,pool_size=(2,2),strides=(2,2),padding='valid',pool_mode='max')\n",
        "  avg_tensor = K.pool2d(x,pool_size=(2,2),strides=(2,2),padding='valid',pool_mode='avg')\n",
        "  #a=K.variable(value=0.5)\n",
        "  final = a*max_tensor + (1-a)*avg_tensor\n",
        "  return final\n",
        "def mixed_pool2d_output_shape(input_shape):\n",
        "    shape = list(input_shape)\n",
        "    if K.image_dim_ordering() == 'th':\n",
        "        shape[2] /= 2\n",
        "        shape[3] /= 2\n",
        "    else:\n",
        "        shape[1] /= 2\n",
        "        shape[2] /= 2\n",
        "    return tuple(shape)\n",
        "def Light_Unet_plusplus_with_mixed_pool():\n",
        "  filter_array=[32,64,128,256,512]\n",
        "  inputs = Input((192,192,1))\n",
        "\n",
        "  c00 = conv_layer(inputs,filter_array[0])\n",
        "  pool0 = Lambda(mixed_pool,mixed_pool2d_output_shape)(c00)\n",
        "\n",
        "  c10 = conv_layer(pool0,filter_array[1])\n",
        "  pool1 = Lambda(mixed_pool,mixed_pool2d_output_shape)(c10)\n",
        "\n",
        "  c20 = conv_layer(pool1,filter_array[2])\n",
        "  pool2 = Lambda(mixed_pool,mixed_pool2d_output_shape)(c20)\n",
        "\n",
        "  c30 = conv_layer(pool2,filter_array[3])\n",
        "  pool3 = Lambda(mixed_pool,mixed_pool2d_output_shape)(c30)\n",
        "\n",
        "  c40 = conv_layer(pool3,filter_array[4])\n",
        "  pool4 = Lambda(mixed_pool,mixed_pool2d_output_shape)(c40)\n",
        "\n",
        "  up01 = Conv2DTranspose(filter_array[0],(3,3),strides=(2,2),padding=\"same\")(c10)\n",
        "  c01 = concatenate([up01,c00])\n",
        "  c01 = conv_layer(c01,filter_array[0])\n",
        "\n",
        "  up11 = Conv2DTranspose(filter_array[1],(3,3),strides=(2,2),padding=\"same\")(c20)\n",
        "  c11 = concatenate([up11,c10])\n",
        "  c11 = conv_layer(c11,filter_array[1])\n",
        "\n",
        "  up21 = Conv2DTranspose(filter_array[2],(3,3),strides=(2,2),padding=\"same\")(c30)\n",
        "  c21 = concatenate([up21,c20])\n",
        "  c21 = conv_layer(c21,filter_array[2])\n",
        "\n",
        "  up31 = Conv2DTranspose(filter_array[3],(3,3),strides=(2,2),padding=\"same\")(c40)\n",
        "  c31 = concatenate([up31,c30])\n",
        "  c31 = conv_layer(c31,filter_array[3])\n",
        "\n",
        "  up02 = Conv2DTranspose(filter_array[0],(3,3),strides=(2,2),padding=\"same\")(c11)\n",
        "  c02 = concatenate([up02,c01,c00])\n",
        "  c02 = conv_layer(c02,filter_array[0])\n",
        "\n",
        "  up12 = Conv2DTranspose(filter_array[1],(3,3),strides=(2,2),padding=\"same\")(c21)\n",
        "  c12 = concatenate([up12,c11,c10])\n",
        "  c12 = conv_layer(c12,filter_array[1])\n",
        "\n",
        "  up22 = Conv2DTranspose(filter_array[2],(3,3),strides=(2,2),padding=\"same\")(c31)\n",
        "  c22 = concatenate([up22,c21,c20])\n",
        "  c22 = conv_layer(c22,filter_array[2])\n",
        "\n",
        "  up03 = Conv2DTranspose(filter_array[0],(3,3),strides=(2,2),padding=\"same\")(c12)\n",
        "  c03 = concatenate([up03,c02,c01,c00])\n",
        "  c03 = conv_layer(c03,filter_array[0])\n",
        "\n",
        "  up13 = Conv2DTranspose(filter_array[1],(3,3),strides=(2,2),padding=\"same\")(c22)\n",
        "  c13 = concatenate([up13,c12,c11,c10])\n",
        "  c13 = conv_layer(c13,filter_array[1])\n",
        "\n",
        "  up04 = Conv2DTranspose(filter_array[0],(3,3),strides=(2,2),padding=\"same\")(c13)\n",
        "  c04 = concatenate([up04,c03,c02,c01,c00])\n",
        "  c04 = conv_layer(c04,filter_array[0])\n",
        "\n",
        "  outputs = Conv2D(1, (1, 1), activation='sigmoid') (c04)\n",
        "\n",
        "  model = Model(inputs=[inputs], outputs=[outputs])\n",
        "\n",
        "  return model"
      ],
      "execution_count": null,
      "outputs": []
    },
    {
      "cell_type": "code",
      "metadata": {
        "id": "iDYTEU1JnVYK"
      },
      "source": [
        "def conv_layer(input_tensor,filters,kernel_size=3):\n",
        "  x = Conv2D(filters,(kernel_size,kernel_size), activation=\"relu\", kernel_initializer='he_normal', padding='same')(input_tensor)\n",
        "  x = BatchNormalization()(x)\n",
        "  x = Conv2D(filters,(kernel_size,kernel_size), activation=\"relu\", kernel_initializer='he_normal', padding='same')(x)\n",
        "  x = BatchNormalization()(x)\n",
        "  x = Conv2D(filters,(kernel_size,kernel_size), activation=\"relu\", kernel_initializer='he_normal', padding='same')(x)\n",
        "  x = BatchNormalization()(x)\n",
        "  return x\n",
        "def mixed_pool(x,a=0.5):\n",
        "  max_tensor = K.pool2d(x,pool_size=(2,2),strides=(2,2),padding='valid',pool_mode='max')\n",
        "  avg_tensor = K.pool2d(x,pool_size=(2,2),strides=(2,2),padding='valid',pool_mode='avg')\n",
        "  #a=K.variable(value=0.5)\n",
        "  final = a*max_tensor + (1-a)*avg_tensor\n",
        "  return final\n",
        "def mixed_pool2d_output_shape(input_shape):\n",
        "    shape = list(input_shape)\n",
        "    if K.image_dim_ordering() == 'th':\n",
        "        shape[2] /= 2\n",
        "        shape[3] /= 2\n",
        "    else:\n",
        "        shape[1] /= 2\n",
        "        shape[2] /= 2\n",
        "    return tuple(shape)\n",
        "def Unet_plusplus_with_mixed_pool():\n",
        "  filter_array=[32,64,128,256,512]\n",
        "  inputs = Input((192,192,1))\n",
        "\n",
        "  c00 = conv_layer(inputs,filter_array[0])\n",
        "  pool0 = Lambda(mixed_pool,mixed_pool2d_output_shape)(c00)\n",
        "\n",
        "  c10 = conv_layer(pool0,filter_array[1])\n",
        "  pool1 = Lambda(mixed_pool,mixed_pool2d_output_shape)(c10)\n",
        "\n",
        "  c20 = conv_layer(pool1,filter_array[2])\n",
        "  pool2 = Lambda(mixed_pool,mixed_pool2d_output_shape)(c20)\n",
        "\n",
        "  c30 = conv_layer(pool2,filter_array[3])\n",
        "  pool3 = Lambda(mixed_pool,mixed_pool2d_output_shape)(c30)\n",
        "\n",
        "  c40 = conv_layer(pool3,filter_array[4])\n",
        "  pool4 = Lambda(mixed_pool,mixed_pool2d_output_shape)(c40)\n",
        "\n",
        "  up01 = Conv2DTranspose(filter_array[0],(3,3),strides=(2,2),padding=\"same\")(c10)\n",
        "  c01 = concatenate([up01,c00])\n",
        "  c01 = conv_layer(c01,filter_array[0])\n",
        "\n",
        "  up11 = Conv2DTranspose(filter_array[1],(3,3),strides=(2,2),padding=\"same\")(c20)\n",
        "  c11 = concatenate([up11,c10])\n",
        "  c11 = conv_layer(c11,filter_array[1])\n",
        "\n",
        "  up21 = Conv2DTranspose(filter_array[2],(3,3),strides=(2,2),padding=\"same\")(c30)\n",
        "  c21 = concatenate([up21,c20])\n",
        "  c21 = conv_layer(c21,filter_array[2])\n",
        "\n",
        "  up31 = Conv2DTranspose(filter_array[3],(3,3),strides=(2,2),padding=\"same\")(c40)\n",
        "  c31 = concatenate([up31,c30])\n",
        "  c31 = conv_layer(c31,filter_array[3])\n",
        "\n",
        "  up02 = Conv2DTranspose(filter_array[0],(3,3),strides=(2,2),padding=\"same\")(c11)\n",
        "  c02 = concatenate([up02,c01,c00])\n",
        "  c02 = conv_layer(c02,filter_array[0])\n",
        "\n",
        "  up12 = Conv2DTranspose(filter_array[1],(3,3),strides=(2,2),padding=\"same\")(c21)\n",
        "  c12 = concatenate([up12,c11,c10])\n",
        "  c12 = conv_layer(c12,filter_array[1])\n",
        "\n",
        "  up22 = Conv2DTranspose(filter_array[2],(3,3),strides=(2,2),padding=\"same\")(c31)\n",
        "  c22 = concatenate([up22,c21,c20])\n",
        "  c22 = conv_layer(c22,filter_array[2])\n",
        "\n",
        "  up03 = Conv2DTranspose(filter_array[0],(3,3),strides=(2,2),padding=\"same\")(c12)\n",
        "  c03 = concatenate([up03,c02,c01,c00])\n",
        "  c03 = conv_layer(c03,filter_array[0])\n",
        "\n",
        "  up13 = Conv2DTranspose(filter_array[1],(3,3),strides=(2,2),padding=\"same\")(c22)\n",
        "  c13 = concatenate([up13,c12,c11,c10])\n",
        "  c13 = conv_layer(c13,filter_array[1])\n",
        "\n",
        "  up04 = Conv2DTranspose(filter_array[0],(3,3),strides=(2,2),padding=\"same\")(c13)\n",
        "  c04 = concatenate([up04,c03,c02,c01,c00])\n",
        "  c04 = conv_layer(c04,filter_array[0])\n",
        "\n",
        "  outputs = Conv2D(1, (1, 1), activation='sigmoid') (c04)\n",
        "\n",
        "  model = Model(inputs=[inputs], outputs=[outputs])\n",
        "\n",
        "  return model"
      ],
      "execution_count": null,
      "outputs": []
    },
    {
      "cell_type": "code",
      "metadata": {
        "id": "RGwozEFtlJcv",
        "colab": {
          "base_uri": "https://localhost:8080/",
          "height": 235
        },
        "outputId": "a5e91d06-fb63-4126-caa9-c51189940ee5"
      },
      "source": [
        "from tensorflow.keras.callbacks import CSVLogger\n",
        "label=label_value\n",
        "stringval=image_loc.split('/')[-2]\n",
        "model_name = 'unet++_mixedpool_'\n",
        "  #only enhancing\n",
        "if label == 4:\n",
        "  csv_logger = CSVLogger(model_name+stringval+'_enhancingtrain.log', separator=',', append=False)\n",
        "  model_checkpoint = ModelCheckpoint(model_name+stringval+'_ENHANCING.h5', monitor='val_dice_score',mode='max',verbose=1, save_best_only=True)\n",
        "  #necrotic\n",
        "if label == 6:\n",
        "  csv_logger = CSVLogger(model_name+stringval+'_necrotictraining.log', separator=',', append=False)\n",
        "  model_checkpoint = ModelCheckpoint(model_name+stringval+'_NECROTIC.h5', monitor='val_dice_score',mode='max',verbose=1, save_best_only=True)\n",
        "    #only edema\n",
        "if label == 2:\n",
        "  csv_logger = CSVLogger(model_name+stringval+'_edematraining.log', separator=',', append=False)\n",
        "  model_checkpoint = ModelCheckpoint(model_name+stringval+'_EDEMA.h5', monitor='val_dice_score',mode='max',verbose=1, save_best_only=True)\n",
        "  #tumor core\n",
        "if label == 1:\n",
        "  csv_logger = CSVLogger(model_name+stringval+'_coretraining.log', separator=',', append=False)\n",
        "  model_checkpoint = ModelCheckpoint(model_name+stringval+'_CORE.h5', monitor='val_dice_score',mode='max',verbose=1, save_best_only=True)\n",
        "  #complete tumor\n",
        "if label == 5:\n",
        "  csv_logger = CSVLogger(model_name+stringval+'_completetraining.log', separator=',', append=False)\n",
        "  model_checkpoint = ModelCheckpoint(model_name+stringval+'_COMPLETE.h5', monitor='val_dice_score',mode='max',verbose=1, save_best_only=True)\n",
        "\n",
        "#csv_logger = CSVLogger('training.log', separator=',', append=False)\n",
        "#model.fit(X_train, Y_train, callbacks=[csv_logger])\n",
        "\n",
        "def dice_loss(y_true, y_pred):\n",
        "    smooth = 1.\n",
        "    y_true_f = K.flatten(y_true)\n",
        "    y_pred_f = K.flatten(y_pred)\n",
        "    intersection = y_true_f * y_pred_f\n",
        "    score = (2. * K.sum(intersection) + smooth) / (K.sum(y_true_f) + K.sum(y_pred_f) + smooth)\n",
        "    return 1. - score\n",
        "\n",
        "def bce_dice_loss(y_true, y_pred):\n",
        "    return 0.8*binary_crossentropy(y_true, y_pred) + dice_loss(y_true, y_pred)\n",
        "import tensorflow as tf\n",
        "def calculate_iou(y_true, y_pred,smooth=1):\n",
        "\n",
        "  intersection = K.sum(K.abs(y_true * y_pred), axis=[1,2,3])\n",
        "  union = K.sum(y_true,[1,2,3])+K.sum(y_pred,[1,2,3])-intersection\n",
        "  iou = K.mean((intersection + smooth) / (union + smooth), axis=0)\n",
        "  return iou\n",
        "\n",
        "\n",
        "def IoU(y_true, y_pred):\n",
        "\n",
        "    iou = tf.py_function(calculate_iou, [y_true, y_pred], tf.float32)\n",
        "\n",
        "    return iou\n",
        "def dice_score(y_true, y_pred):\n",
        "    smooth = 1.\n",
        "    y_true_f = K.flatten(y_true)\n",
        "    y_pred_f = K.flatten(y_pred)\n",
        "    intersection = y_true_f * y_pred_f\n",
        "    score = (2. * K.sum(intersection) + smooth) / (K.sum(y_true_f) + K.sum(y_pred_f) + smooth)\n",
        "    return score\n",
        "from sklearn.metrics import jaccard_score\n",
        "def J_score(y_true, y_pred):\n",
        "    jscore=jaccard_score(y_true, y_pred, average='macro')\n",
        "    return jscore\n",
        "\n",
        "earlystopping = EarlyStopping(\n",
        "    monitor='val_loss',\n",
        "    min_delta=0,\n",
        "    patience=5,\n",
        "    verbose=1,\n",
        "    restore_best_weights=True)\n",
        "\n",
        "reducelr = ReduceLROnPlateau(\n",
        "    monitor='val_loss',\n",
        "    factor=0.1,\n",
        "    patience=5,\n",
        "    verbose=1,\n",
        "    min_delta=0.000001 )\n"
      ],
      "execution_count": null,
      "outputs": [
        {
          "output_type": "error",
          "ename": "NameError",
          "evalue": "ignored",
          "traceback": [
            "\u001b[0;31m---------------------------------------------------------------------------\u001b[0m",
            "\u001b[0;31mNameError\u001b[0m                                 Traceback (most recent call last)",
            "\u001b[0;32m<ipython-input-2-34e8bd2507d7>\u001b[0m in \u001b[0;36m<module>\u001b[0;34m()\u001b[0m\n\u001b[1;32m      1\u001b[0m \u001b[0;32mfrom\u001b[0m \u001b[0mtensorflow\u001b[0m\u001b[0;34m.\u001b[0m\u001b[0mkeras\u001b[0m\u001b[0;34m.\u001b[0m\u001b[0mcallbacks\u001b[0m \u001b[0;32mimport\u001b[0m \u001b[0mCSVLogger\u001b[0m\u001b[0;34m\u001b[0m\u001b[0;34m\u001b[0m\u001b[0m\n\u001b[0;32m----> 2\u001b[0;31m \u001b[0mlabel\u001b[0m\u001b[0;34m=\u001b[0m\u001b[0mlabel_value\u001b[0m\u001b[0;34m\u001b[0m\u001b[0;34m\u001b[0m\u001b[0m\n\u001b[0m\u001b[1;32m      3\u001b[0m \u001b[0mstringval\u001b[0m\u001b[0;34m=\u001b[0m\u001b[0mimage_loc\u001b[0m\u001b[0;34m.\u001b[0m\u001b[0msplit\u001b[0m\u001b[0;34m(\u001b[0m\u001b[0;34m'/'\u001b[0m\u001b[0;34m)\u001b[0m\u001b[0;34m[\u001b[0m\u001b[0;34m-\u001b[0m\u001b[0;36m2\u001b[0m\u001b[0;34m]\u001b[0m\u001b[0;34m\u001b[0m\u001b[0;34m\u001b[0m\u001b[0m\n\u001b[1;32m      4\u001b[0m \u001b[0mmodel_name\u001b[0m \u001b[0;34m=\u001b[0m \u001b[0;34m'unet++_mixedpool_'\u001b[0m\u001b[0;34m\u001b[0m\u001b[0;34m\u001b[0m\u001b[0m\n\u001b[1;32m      5\u001b[0m   \u001b[0;31m#only enhancing\u001b[0m\u001b[0;34m\u001b[0m\u001b[0;34m\u001b[0m\u001b[0;34m\u001b[0m\u001b[0m\n",
            "\u001b[0;31mNameError\u001b[0m: name 'label_value' is not defined"
          ]
        }
      ]
    },
    {
      "cell_type": "code",
      "metadata": {
        "id": "GznRedBCzVak"
      },
      "source": [
        "model = Unet_plusplus_with_mixed_pool()\n",
        "model.compile(loss=bce_dice_loss,optimizer=Adam(learning_rate=0.0001),metrics=[dice_score,'accuracy',IoU])\n",
        "model.summary()"
      ],
      "execution_count": null,
      "outputs": []
    },
    {
      "cell_type": "code",
      "metadata": {
        "id": "R46ObmVnW78I",
        "colab": {
          "base_uri": "https://localhost:8080/",
          "height": 1000
        },
        "outputId": "b358e7d0-c863-4695-bf81-a8cde95dddc7"
      },
      "source": [
        "start_time = time.time()\n",
        "history=model.fit_generator(train_generator,steps_per_epoch=(train_shape/batch_size),epochs=100,validation_data=valid_generator,validation_steps=(valid_shape/batch_size),callbacks=[model_checkpoint,csv_logger,reducelr])\n",
        "end_time = time.time()\n",
        "t=end_time-start_time\n",
        "print('execution time is:')\n",
        "print(t)"
      ],
      "execution_count": null,
      "outputs": [
        {
          "output_type": "stream",
          "text": [
            "WARNING:tensorflow:From <ipython-input-16-9da13242a5f6>:2: Model.fit_generator (from tensorflow.python.keras.engine.training) is deprecated and will be removed in a future version.\n",
            "Instructions for updating:\n",
            "Please use Model.fit, which supports generators.\n",
            "Epoch 1/100\n",
            "1152/1151 [==============================] - ETA: 0s - loss: 1.0177 - dice_score: 0.2518 - accuracy: 0.9529 - IoU: 0.1345\n",
            "Epoch 00001: val_dice_score improved from -inf to 0.42859, saving model to unet++_mixedpool_t2_COMPLETE.h5\n",
            "1152/1151 [==============================] - 254s 221ms/step - loss: 1.0177 - dice_score: 0.2518 - accuracy: 0.9529 - IoU: 0.1345 - val_loss: 0.6751 - val_dice_score: 0.4286 - val_accuracy: 0.9851 - val_IoU: 0.2388 - lr: 1.0000e-04\n",
            "Epoch 2/100\n",
            "1152/1151 [==============================] - ETA: 0s - loss: 0.4930 - dice_score: 0.5956 - accuracy: 0.9811 - IoU: 0.3542\n",
            "Epoch 00002: val_dice_score improved from 0.42859 to 0.73950, saving model to unet++_mixedpool_t2_COMPLETE.h5\n",
            "1152/1151 [==============================] - 251s 218ms/step - loss: 0.4930 - dice_score: 0.5956 - accuracy: 0.9811 - IoU: 0.3542 - val_loss: 0.3408 - val_dice_score: 0.7395 - val_accuracy: 0.9866 - val_IoU: 0.4733 - lr: 1.0000e-04\n",
            "Epoch 3/100\n",
            "1152/1151 [==============================] - ETA: 0s - loss: 0.2860 - dice_score: 0.7668 - accuracy: 0.9834 - IoU: 0.4906\n",
            "Epoch 00003: val_dice_score improved from 0.73950 to 0.80472, saving model to unet++_mixedpool_t2_COMPLETE.h5\n",
            "1152/1151 [==============================] - 251s 218ms/step - loss: 0.2860 - dice_score: 0.7668 - accuracy: 0.9834 - IoU: 0.4906 - val_loss: 0.2402 - val_dice_score: 0.8047 - val_accuracy: 0.9881 - val_IoU: 0.5381 - lr: 1.0000e-04\n",
            "Epoch 4/100\n",
            "1152/1151 [==============================] - ETA: 0s - loss: 0.2343 - dice_score: 0.8084 - accuracy: 0.9840 - IoU: 0.5335\n",
            "Epoch 00004: val_dice_score improved from 0.80472 to 0.80867, saving model to unet++_mixedpool_t2_COMPLETE.h5\n",
            "1152/1151 [==============================] - 250s 217ms/step - loss: 0.2343 - dice_score: 0.8084 - accuracy: 0.9840 - IoU: 0.5335 - val_loss: 0.2319 - val_dice_score: 0.8087 - val_accuracy: 0.9874 - val_IoU: 0.5433 - lr: 1.0000e-04\n",
            "Epoch 5/100\n",
            "1152/1151 [==============================] - ETA: 0s - loss: 0.2185 - dice_score: 0.8205 - accuracy: 0.9843 - IoU: 0.5516\n",
            "Epoch 00005: val_dice_score did not improve from 0.80867\n",
            "1152/1151 [==============================] - 250s 217ms/step - loss: 0.2185 - dice_score: 0.8205 - accuracy: 0.9843 - IoU: 0.5516 - val_loss: 0.2389 - val_dice_score: 0.7993 - val_accuracy: 0.9882 - val_IoU: 0.5160 - lr: 1.0000e-04\n",
            "Epoch 6/100\n",
            "1152/1151 [==============================] - ETA: 0s - loss: 0.2081 - dice_score: 0.8289 - accuracy: 0.9846 - IoU: 0.5651\n",
            "Epoch 00006: val_dice_score improved from 0.80867 to 0.82171, saving model to unet++_mixedpool_t2_COMPLETE.h5\n",
            "1152/1151 [==============================] - 251s 218ms/step - loss: 0.2081 - dice_score: 0.8289 - accuracy: 0.9846 - IoU: 0.5651 - val_loss: 0.2108 - val_dice_score: 0.8217 - val_accuracy: 0.9894 - val_IoU: 0.5314 - lr: 1.0000e-04\n",
            "Epoch 7/100\n",
            "1152/1151 [==============================] - ETA: 0s - loss: 0.1994 - dice_score: 0.8362 - accuracy: 0.9850 - IoU: 0.5737\n",
            "Epoch 00007: val_dice_score did not improve from 0.82171\n",
            "1152/1151 [==============================] - 250s 217ms/step - loss: 0.1994 - dice_score: 0.8362 - accuracy: 0.9850 - IoU: 0.5737 - val_loss: 0.3135 - val_dice_score: 0.8066 - val_accuracy: 0.9866 - val_IoU: 0.5532 - lr: 1.0000e-04\n",
            "Epoch 8/100\n",
            "1152/1151 [==============================] - ETA: 0s - loss: 0.1931 - dice_score: 0.8410 - accuracy: 0.9853 - IoU: 0.5810\n",
            "Epoch 00008: val_dice_score improved from 0.82171 to 0.83264, saving model to unet++_mixedpool_t2_COMPLETE.h5\n",
            "1152/1151 [==============================] - 251s 218ms/step - loss: 0.1931 - dice_score: 0.8410 - accuracy: 0.9853 - IoU: 0.5810 - val_loss: 0.2004 - val_dice_score: 0.8326 - val_accuracy: 0.9890 - val_IoU: 0.5808 - lr: 1.0000e-04\n",
            "Epoch 9/100\n",
            "1152/1151 [==============================] - ETA: 0s - loss: 0.1870 - dice_score: 0.8463 - accuracy: 0.9855 - IoU: 0.5877\n",
            "Epoch 00009: val_dice_score improved from 0.83264 to 0.86140, saving model to unet++_mixedpool_t2_COMPLETE.h5\n",
            "1152/1151 [==============================] - 251s 218ms/step - loss: 0.1870 - dice_score: 0.8463 - accuracy: 0.9855 - IoU: 0.5877 - val_loss: 0.1676 - val_dice_score: 0.8614 - val_accuracy: 0.9911 - val_IoU: 0.5982 - lr: 1.0000e-04\n",
            "Epoch 10/100\n",
            "1152/1151 [==============================] - ETA: 0s - loss: 0.1860 - dice_score: 0.8466 - accuracy: 0.9855 - IoU: 0.5908\n",
            "Epoch 00010: val_dice_score did not improve from 0.86140\n",
            "1152/1151 [==============================] - 251s 218ms/step - loss: 0.1860 - dice_score: 0.8466 - accuracy: 0.9855 - IoU: 0.5908 - val_loss: 0.2460 - val_dice_score: 0.7951 - val_accuracy: 0.9880 - val_IoU: 0.4849 - lr: 1.0000e-04\n",
            "Epoch 11/100\n",
            "1152/1151 [==============================] - ETA: 0s - loss: 0.1790 - dice_score: 0.8526 - accuracy: 0.9859 - IoU: 0.5973\n",
            "Epoch 00011: val_dice_score did not improve from 0.86140\n",
            "1152/1151 [==============================] - 251s 218ms/step - loss: 0.1790 - dice_score: 0.8526 - accuracy: 0.9859 - IoU: 0.5973 - val_loss: 0.1781 - val_dice_score: 0.8531 - val_accuracy: 0.9907 - val_IoU: 0.5889 - lr: 1.0000e-04\n",
            "Epoch 12/100\n",
            "1152/1151 [==============================] - ETA: 0s - loss: 0.1772 - dice_score: 0.8539 - accuracy: 0.9859 - IoU: 0.6006\n",
            "Epoch 00012: val_dice_score improved from 0.86140 to 0.86744, saving model to unet++_mixedpool_t2_COMPLETE.h5\n",
            "1152/1151 [==============================] - 251s 218ms/step - loss: 0.1772 - dice_score: 0.8539 - accuracy: 0.9859 - IoU: 0.6006 - val_loss: 0.1594 - val_dice_score: 0.8674 - val_accuracy: 0.9914 - val_IoU: 0.6109 - lr: 1.0000e-04\n",
            "Epoch 13/100\n",
            "1152/1151 [==============================] - ETA: 0s - loss: 0.1747 - dice_score: 0.8558 - accuracy: 0.9861 - IoU: 0.6039\n",
            "Epoch 00013: val_dice_score did not improve from 0.86744\n",
            "1152/1151 [==============================] - 251s 218ms/step - loss: 0.1747 - dice_score: 0.8558 - accuracy: 0.9861 - IoU: 0.6039 - val_loss: 0.1747 - val_dice_score: 0.8550 - val_accuracy: 0.9908 - val_IoU: 0.5951 - lr: 1.0000e-04\n",
            "Epoch 14/100\n",
            "1152/1151 [==============================] - ETA: 0s - loss: 0.1732 - dice_score: 0.8573 - accuracy: 0.9861 - IoU: 0.6063\n",
            "Epoch 00014: val_dice_score did not improve from 0.86744\n",
            "1152/1151 [==============================] - 251s 218ms/step - loss: 0.1732 - dice_score: 0.8573 - accuracy: 0.9861 - IoU: 0.6063 - val_loss: 0.1605 - val_dice_score: 0.8663 - val_accuracy: 0.9915 - val_IoU: 0.6089 - lr: 1.0000e-04\n",
            "Epoch 15/100\n",
            "1152/1151 [==============================] - ETA: 0s - loss: 0.1741 - dice_score: 0.8566 - accuracy: 0.9861 - IoU: 0.6054\n",
            "Epoch 00015: val_dice_score did not improve from 0.86744\n",
            "1152/1151 [==============================] - 251s 218ms/step - loss: 0.1741 - dice_score: 0.8566 - accuracy: 0.9861 - IoU: 0.6054 - val_loss: 0.1713 - val_dice_score: 0.8578 - val_accuracy: 0.9911 - val_IoU: 0.5983 - lr: 1.0000e-04\n",
            "Epoch 16/100\n",
            "1152/1151 [==============================] - ETA: 0s - loss: 0.1688 - dice_score: 0.8607 - accuracy: 0.9863 - IoU: 0.6115\n",
            "Epoch 00016: val_dice_score did not improve from 0.86744\n",
            "1152/1151 [==============================] - 251s 218ms/step - loss: 0.1688 - dice_score: 0.8607 - accuracy: 0.9863 - IoU: 0.6115 - val_loss: 0.1611 - val_dice_score: 0.8649 - val_accuracy: 0.9915 - val_IoU: 0.6151 - lr: 1.0000e-04\n",
            "Epoch 17/100\n",
            "1152/1151 [==============================] - ETA: 0s - loss: 0.1643 - dice_score: 0.8644 - accuracy: 0.9866 - IoU: 0.6154\n",
            "Epoch 00017: val_dice_score improved from 0.86744 to 0.86814, saving model to unet++_mixedpool_t2_COMPLETE.h5\n",
            "1152/1151 [==============================] - 252s 218ms/step - loss: 0.1643 - dice_score: 0.8644 - accuracy: 0.9866 - IoU: 0.6154 - val_loss: 0.1583 - val_dice_score: 0.8681 - val_accuracy: 0.9916 - val_IoU: 0.6105 - lr: 1.0000e-04\n",
            "Epoch 18/100\n",
            "1152/1151 [==============================] - ETA: 0s - loss: 0.1650 - dice_score: 0.8638 - accuracy: 0.9865 - IoU: 0.6161\n",
            "Epoch 00018: val_dice_score did not improve from 0.86814\n",
            "1152/1151 [==============================] - 251s 218ms/step - loss: 0.1650 - dice_score: 0.8638 - accuracy: 0.9865 - IoU: 0.6161 - val_loss: 0.1640 - val_dice_score: 0.8643 - val_accuracy: 0.9908 - val_IoU: 0.6234 - lr: 1.0000e-04\n",
            "Epoch 19/100\n",
            "1152/1151 [==============================] - ETA: 0s - loss: 0.1641 - dice_score: 0.8646 - accuracy: 0.9866 - IoU: 0.6201\n",
            "Epoch 00019: val_dice_score did not improve from 0.86814\n",
            "1152/1151 [==============================] - 251s 218ms/step - loss: 0.1641 - dice_score: 0.8646 - accuracy: 0.9866 - IoU: 0.6201 - val_loss: 0.1629 - val_dice_score: 0.8641 - val_accuracy: 0.9914 - val_IoU: 0.6126 - lr: 1.0000e-04\n",
            "Epoch 20/100\n",
            "1152/1151 [==============================] - ETA: 0s - loss: 0.1617 - dice_score: 0.8663 - accuracy: 0.9867 - IoU: 0.6213\n",
            "Epoch 00020: val_dice_score improved from 0.86814 to 0.87893, saving model to unet++_mixedpool_t2_COMPLETE.h5\n",
            "1152/1151 [==============================] - 251s 218ms/step - loss: 0.1617 - dice_score: 0.8663 - accuracy: 0.9867 - IoU: 0.6213 - val_loss: 0.1449 - val_dice_score: 0.8789 - val_accuracy: 0.9921 - val_IoU: 0.6498 - lr: 1.0000e-04\n",
            "Epoch 21/100\n",
            "1152/1151 [==============================] - ETA: 0s - loss: 0.1610 - dice_score: 0.8671 - accuracy: 0.9867 - IoU: 0.6218\n",
            "Epoch 00021: val_dice_score did not improve from 0.87893\n",
            "1152/1151 [==============================] - 251s 218ms/step - loss: 0.1610 - dice_score: 0.8671 - accuracy: 0.9867 - IoU: 0.6218 - val_loss: 0.1484 - val_dice_score: 0.8761 - val_accuracy: 0.9920 - val_IoU: 0.6342 - lr: 1.0000e-04\n",
            "Epoch 22/100\n",
            "1152/1151 [==============================] - ETA: 0s - loss: 0.1588 - dice_score: 0.8688 - accuracy: 0.9868 - IoU: 0.6256\n",
            "Epoch 00022: val_dice_score did not improve from 0.87893\n",
            "1152/1151 [==============================] - 250s 217ms/step - loss: 0.1588 - dice_score: 0.8688 - accuracy: 0.9868 - IoU: 0.6256 - val_loss: 0.1687 - val_dice_score: 0.8608 - val_accuracy: 0.9911 - val_IoU: 0.5946 - lr: 1.0000e-04\n",
            "Epoch 23/100\n",
            "1152/1151 [==============================] - ETA: 0s - loss: 0.1583 - dice_score: 0.8691 - accuracy: 0.9869 - IoU: 0.6271\n",
            "Epoch 00023: val_dice_score improved from 0.87893 to 0.88170, saving model to unet++_mixedpool_t2_COMPLETE.h5\n",
            "1152/1151 [==============================] - 250s 217ms/step - loss: 0.1583 - dice_score: 0.8691 - accuracy: 0.9869 - IoU: 0.6271 - val_loss: 0.1428 - val_dice_score: 0.8817 - val_accuracy: 0.9921 - val_IoU: 0.6468 - lr: 1.0000e-04\n",
            "Epoch 24/100\n",
            "1152/1151 [==============================] - ETA: 0s - loss: 0.1561 - dice_score: 0.8711 - accuracy: 0.9869 - IoU: 0.6297\n",
            "Epoch 00024: val_dice_score improved from 0.88170 to 0.88183, saving model to unet++_mixedpool_t2_COMPLETE.h5\n",
            "1152/1151 [==============================] - 251s 218ms/step - loss: 0.1561 - dice_score: 0.8711 - accuracy: 0.9869 - IoU: 0.6297 - val_loss: 0.1411 - val_dice_score: 0.8818 - val_accuracy: 0.9923 - val_IoU: 0.6484 - lr: 1.0000e-04\n",
            "Epoch 25/100\n",
            "1152/1151 [==============================] - ETA: 0s - loss: 0.1540 - dice_score: 0.8728 - accuracy: 0.9870 - IoU: 0.6303\n",
            "Epoch 00025: val_dice_score did not improve from 0.88183\n",
            "1152/1151 [==============================] - 251s 218ms/step - loss: 0.1540 - dice_score: 0.8728 - accuracy: 0.9870 - IoU: 0.6303 - val_loss: 0.1507 - val_dice_score: 0.8754 - val_accuracy: 0.9918 - val_IoU: 0.6331 - lr: 1.0000e-04\n",
            "Epoch 26/100\n",
            "1152/1151 [==============================] - ETA: 0s - loss: 0.1537 - dice_score: 0.8729 - accuracy: 0.9871 - IoU: 0.6320\n",
            "Epoch 00026: val_dice_score did not improve from 0.88183\n",
            "1152/1151 [==============================] - 251s 218ms/step - loss: 0.1537 - dice_score: 0.8729 - accuracy: 0.9871 - IoU: 0.6320 - val_loss: 0.1431 - val_dice_score: 0.8811 - val_accuracy: 0.9922 - val_IoU: 0.6434 - lr: 1.0000e-04\n",
            "Epoch 27/100\n",
            "1152/1151 [==============================] - ETA: 0s - loss: 0.1503 - dice_score: 0.8758 - accuracy: 0.9872 - IoU: 0.6372\n",
            "Epoch 00027: val_dice_score did not improve from 0.88183\n",
            "1152/1151 [==============================] - 251s 218ms/step - loss: 0.1503 - dice_score: 0.8758 - accuracy: 0.9872 - IoU: 0.6372 - val_loss: 0.1506 - val_dice_score: 0.8749 - val_accuracy: 0.9919 - val_IoU: 0.6273 - lr: 1.0000e-04\n",
            "Epoch 28/100\n",
            "1152/1151 [==============================] - ETA: 0s - loss: 0.1499 - dice_score: 0.8763 - accuracy: 0.9873 - IoU: 0.6366\n",
            "Epoch 00028: val_dice_score did not improve from 0.88183\n",
            "1152/1151 [==============================] - 251s 218ms/step - loss: 0.1499 - dice_score: 0.8763 - accuracy: 0.9873 - IoU: 0.6366 - val_loss: 0.1564 - val_dice_score: 0.8698 - val_accuracy: 0.9917 - val_IoU: 0.6202 - lr: 1.0000e-04\n",
            "Epoch 29/100\n",
            "1152/1151 [==============================] - ETA: 0s - loss: 0.1510 - dice_score: 0.8752 - accuracy: 0.9872 - IoU: 0.6372\n",
            "Epoch 00029: val_dice_score did not improve from 0.88183\n",
            "\n",
            "Epoch 00029: ReduceLROnPlateau reducing learning rate to 9.999999747378752e-06.\n",
            "1152/1151 [==============================] - 251s 218ms/step - loss: 0.1510 - dice_score: 0.8752 - accuracy: 0.9872 - IoU: 0.6372 - val_loss: 0.1458 - val_dice_score: 0.8779 - val_accuracy: 0.9921 - val_IoU: 0.6408 - lr: 1.0000e-04\n",
            "Epoch 30/100\n",
            "1152/1151 [==============================] - ETA: 0s - loss: 0.1421 - dice_score: 0.8823 - accuracy: 0.9877 - IoU: 0.6490\n",
            "Epoch 00030: val_dice_score improved from 0.88183 to 0.88792, saving model to unet++_mixedpool_t2_COMPLETE.h5\n",
            "1152/1151 [==============================] - 252s 218ms/step - loss: 0.1421 - dice_score: 0.8823 - accuracy: 0.9877 - IoU: 0.6490 - val_loss: 0.1338 - val_dice_score: 0.8879 - val_accuracy: 0.9927 - val_IoU: 0.6582 - lr: 1.0000e-05\n",
            "Epoch 31/100\n",
            "1152/1151 [==============================] - ETA: 0s - loss: 0.1390 - dice_score: 0.8849 - accuracy: 0.9878 - IoU: 0.6542\n",
            "Epoch 00031: val_dice_score improved from 0.88792 to 0.88906, saving model to unet++_mixedpool_t2_COMPLETE.h5\n",
            "1152/1151 [==============================] - 252s 218ms/step - loss: 0.1390 - dice_score: 0.8849 - accuracy: 0.9878 - IoU: 0.6542 - val_loss: 0.1320 - val_dice_score: 0.8891 - val_accuracy: 0.9929 - val_IoU: 0.6579 - lr: 1.0000e-05\n",
            "Epoch 32/100\n",
            "1152/1151 [==============================] - ETA: 0s - loss: 0.1373 - dice_score: 0.8863 - accuracy: 0.9879 - IoU: 0.6559\n",
            "Epoch 00032: val_dice_score improved from 0.88906 to 0.89335, saving model to unet++_mixedpool_t2_COMPLETE.h5\n",
            "1152/1151 [==============================] - 252s 218ms/step - loss: 0.1373 - dice_score: 0.8863 - accuracy: 0.9879 - IoU: 0.6559 - val_loss: 0.1280 - val_dice_score: 0.8933 - val_accuracy: 0.9929 - val_IoU: 0.6701 - lr: 1.0000e-05\n",
            "Epoch 33/100\n",
            "1152/1151 [==============================] - ETA: 0s - loss: 0.1359 - dice_score: 0.8876 - accuracy: 0.9879 - IoU: 0.6576\n",
            "Epoch 00033: val_dice_score did not improve from 0.89335\n",
            "1152/1151 [==============================] - 251s 218ms/step - loss: 0.1359 - dice_score: 0.8876 - accuracy: 0.9879 - IoU: 0.6576 - val_loss: 0.1282 - val_dice_score: 0.8929 - val_accuracy: 0.9930 - val_IoU: 0.6674 - lr: 1.0000e-05\n",
            "Epoch 34/100\n",
            "1152/1151 [==============================] - ETA: 0s - loss: 0.1363 - dice_score: 0.8871 - accuracy: 0.9880 - IoU: 0.6584\n",
            "Epoch 00034: val_dice_score did not improve from 0.89335\n",
            "1152/1151 [==============================] - 250s 217ms/step - loss: 0.1363 - dice_score: 0.8871 - accuracy: 0.9880 - IoU: 0.6584 - val_loss: 0.1307 - val_dice_score: 0.8904 - val_accuracy: 0.9930 - val_IoU: 0.6612 - lr: 1.0000e-05\n",
            "Epoch 35/100\n",
            "1152/1151 [==============================] - ETA: 0s - loss: 0.1351 - dice_score: 0.8882 - accuracy: 0.9880 - IoU: 0.6592\n",
            "Epoch 00035: val_dice_score improved from 0.89335 to 0.89398, saving model to unet++_mixedpool_t2_COMPLETE.h5\n",
            "1152/1151 [==============================] - 251s 218ms/step - loss: 0.1351 - dice_score: 0.8882 - accuracy: 0.9880 - IoU: 0.6592 - val_loss: 0.1267 - val_dice_score: 0.8940 - val_accuracy: 0.9931 - val_IoU: 0.6685 - lr: 1.0000e-05\n",
            "Epoch 36/100\n",
            "1152/1151 [==============================] - ETA: 0s - loss: 0.1353 - dice_score: 0.8879 - accuracy: 0.9881 - IoU: 0.6602\n",
            "Epoch 00036: val_dice_score did not improve from 0.89398\n",
            "1152/1151 [==============================] - 251s 218ms/step - loss: 0.1353 - dice_score: 0.8879 - accuracy: 0.9881 - IoU: 0.6602 - val_loss: 0.1285 - val_dice_score: 0.8926 - val_accuracy: 0.9930 - val_IoU: 0.6644 - lr: 1.0000e-05\n",
            "Epoch 37/100\n",
            "1152/1151 [==============================] - ETA: 0s - loss: 0.1344 - dice_score: 0.8887 - accuracy: 0.9881 - IoU: 0.6608\n",
            "Epoch 00037: val_dice_score improved from 0.89398 to 0.89490, saving model to unet++_mixedpool_t2_COMPLETE.h5\n",
            "1152/1151 [==============================] - 251s 218ms/step - loss: 0.1344 - dice_score: 0.8887 - accuracy: 0.9881 - IoU: 0.6608 - val_loss: 0.1258 - val_dice_score: 0.8949 - val_accuracy: 0.9931 - val_IoU: 0.6705 - lr: 1.0000e-05\n",
            "Epoch 38/100\n",
            "1152/1151 [==============================] - ETA: 0s - loss: 0.1328 - dice_score: 0.8901 - accuracy: 0.9881 - IoU: 0.6626\n",
            "Epoch 00038: val_dice_score improved from 0.89490 to 0.89568, saving model to unet++_mixedpool_t2_COMPLETE.h5\n",
            "1152/1151 [==============================] - 251s 218ms/step - loss: 0.1328 - dice_score: 0.8901 - accuracy: 0.9881 - IoU: 0.6626 - val_loss: 0.1250 - val_dice_score: 0.8957 - val_accuracy: 0.9931 - val_IoU: 0.6750 - lr: 1.0000e-05\n",
            "Epoch 39/100\n",
            "1152/1151 [==============================] - ETA: 0s - loss: 0.1326 - dice_score: 0.8903 - accuracy: 0.9881 - IoU: 0.6613\n",
            "Epoch 00039: val_dice_score did not improve from 0.89568\n",
            "1152/1151 [==============================] - 251s 218ms/step - loss: 0.1326 - dice_score: 0.8903 - accuracy: 0.9881 - IoU: 0.6613 - val_loss: 0.1273 - val_dice_score: 0.8938 - val_accuracy: 0.9930 - val_IoU: 0.6699 - lr: 1.0000e-05\n",
            "Epoch 40/100\n",
            "1152/1151 [==============================] - ETA: 0s - loss: 0.1329 - dice_score: 0.8899 - accuracy: 0.9881 - IoU: 0.6632\n",
            "Epoch 00040: val_dice_score did not improve from 0.89568\n",
            "1152/1151 [==============================] - 250s 217ms/step - loss: 0.1329 - dice_score: 0.8899 - accuracy: 0.9881 - IoU: 0.6632 - val_loss: 0.1247 - val_dice_score: 0.8956 - val_accuracy: 0.9932 - val_IoU: 0.6755 - lr: 1.0000e-05\n",
            "Epoch 41/100\n",
            "1152/1151 [==============================] - ETA: 0s - loss: 0.1330 - dice_score: 0.8897 - accuracy: 0.9881 - IoU: 0.6635\n",
            "Epoch 00041: val_dice_score did not improve from 0.89568\n",
            "1152/1151 [==============================] - 250s 217ms/step - loss: 0.1330 - dice_score: 0.8897 - accuracy: 0.9881 - IoU: 0.6635 - val_loss: 0.1254 - val_dice_score: 0.8950 - val_accuracy: 0.9932 - val_IoU: 0.6686 - lr: 1.0000e-05\n",
            "Epoch 42/100\n",
            "1152/1151 [==============================] - ETA: 0s - loss: 0.1321 - dice_score: 0.8907 - accuracy: 0.9882 - IoU: 0.6639\n",
            "Epoch 00042: val_dice_score improved from 0.89568 to 0.89632, saving model to unet++_mixedpool_t2_COMPLETE.h5\n",
            "1152/1151 [==============================] - 251s 218ms/step - loss: 0.1321 - dice_score: 0.8907 - accuracy: 0.9882 - IoU: 0.6639 - val_loss: 0.1242 - val_dice_score: 0.8963 - val_accuracy: 0.9932 - val_IoU: 0.6745 - lr: 1.0000e-05\n",
            "Epoch 43/100\n",
            "1152/1151 [==============================] - ETA: 0s - loss: 0.1318 - dice_score: 0.8908 - accuracy: 0.9882 - IoU: 0.6651\n",
            "Epoch 00043: val_dice_score did not improve from 0.89632\n",
            "1152/1151 [==============================] - 251s 218ms/step - loss: 0.1318 - dice_score: 0.8908 - accuracy: 0.9882 - IoU: 0.6651 - val_loss: 0.1248 - val_dice_score: 0.8955 - val_accuracy: 0.9932 - val_IoU: 0.6693 - lr: 1.0000e-05\n",
            "Epoch 44/100\n",
            "1152/1151 [==============================] - ETA: 0s - loss: 0.1316 - dice_score: 0.8909 - accuracy: 0.9882 - IoU: 0.6666\n",
            "Epoch 00044: val_dice_score did not improve from 0.89632\n",
            "1152/1151 [==============================] - 251s 218ms/step - loss: 0.1316 - dice_score: 0.8909 - accuracy: 0.9882 - IoU: 0.6666 - val_loss: 0.1262 - val_dice_score: 0.8943 - val_accuracy: 0.9932 - val_IoU: 0.6737 - lr: 1.0000e-05\n",
            "Epoch 45/100\n",
            " 929/1151 [=======================>......] - ETA: 45s - loss: 0.1317 - dice_score: 0.8908 - accuracy: 0.9882 - IoU: 0.6651Buffered data was truncated after reaching the output size limit."
          ],
          "name": "stdout"
        }
      ]
    },
    {
      "cell_type": "code",
      "metadata": {
        "id": "UR874tX95ANP",
        "colab": {
          "base_uri": "https://localhost:8080/",
          "height": 363
        },
        "outputId": "d6cc7ee0-432f-402a-c597-fd8818ae1c2d"
      },
      "source": [
        "import pandas as pd\n",
        "df = pd.read_csv('drive/My Drive/weight/flair-complete.log', sep=',', engine='python')\n",
        "df.head()"
      ],
      "execution_count": null,
      "outputs": [
        {
          "output_type": "error",
          "ename": "FileNotFoundError",
          "evalue": "ignored",
          "traceback": [
            "\u001b[0;31m---------------------------------------------------------------------------\u001b[0m",
            "\u001b[0;31mFileNotFoundError\u001b[0m                         Traceback (most recent call last)",
            "\u001b[0;32m<ipython-input-57-829b05b64589>\u001b[0m in \u001b[0;36m<module>\u001b[0;34m\u001b[0m\n\u001b[1;32m      1\u001b[0m \u001b[0;32mimport\u001b[0m \u001b[0mpandas\u001b[0m \u001b[0;32mas\u001b[0m \u001b[0mpd\u001b[0m\u001b[0;34m\u001b[0m\u001b[0;34m\u001b[0m\u001b[0m\n\u001b[0;32m----> 2\u001b[0;31m \u001b[0mdf\u001b[0m \u001b[0;34m=\u001b[0m \u001b[0mpd\u001b[0m\u001b[0;34m.\u001b[0m\u001b[0mread_csv\u001b[0m\u001b[0;34m(\u001b[0m\u001b[0;34m'drive/My Drive/weight/flair-complete.log'\u001b[0m\u001b[0;34m,\u001b[0m \u001b[0msep\u001b[0m\u001b[0;34m=\u001b[0m\u001b[0;34m','\u001b[0m\u001b[0;34m,\u001b[0m \u001b[0mengine\u001b[0m\u001b[0;34m=\u001b[0m\u001b[0;34m'python'\u001b[0m\u001b[0;34m)\u001b[0m\u001b[0;34m\u001b[0m\u001b[0;34m\u001b[0m\u001b[0m\n\u001b[0m\u001b[1;32m      3\u001b[0m \u001b[0mdf\u001b[0m\u001b[0;34m.\u001b[0m\u001b[0mhead\u001b[0m\u001b[0;34m(\u001b[0m\u001b[0;34m)\u001b[0m\u001b[0;34m\u001b[0m\u001b[0;34m\u001b[0m\u001b[0m\n",
            "\u001b[0;32m/usr/local/lib/python3.7/dist-packages/pandas/util/_decorators.py\u001b[0m in \u001b[0;36mwrapper\u001b[0;34m(*args, **kwargs)\u001b[0m\n\u001b[1;32m    309\u001b[0m                     \u001b[0mstacklevel\u001b[0m\u001b[0;34m=\u001b[0m\u001b[0mstacklevel\u001b[0m\u001b[0;34m,\u001b[0m\u001b[0;34m\u001b[0m\u001b[0;34m\u001b[0m\u001b[0m\n\u001b[1;32m    310\u001b[0m                 )\n\u001b[0;32m--> 311\u001b[0;31m             \u001b[0;32mreturn\u001b[0m \u001b[0mfunc\u001b[0m\u001b[0;34m(\u001b[0m\u001b[0;34m*\u001b[0m\u001b[0margs\u001b[0m\u001b[0;34m,\u001b[0m \u001b[0;34m**\u001b[0m\u001b[0mkwargs\u001b[0m\u001b[0;34m)\u001b[0m\u001b[0;34m\u001b[0m\u001b[0;34m\u001b[0m\u001b[0m\n\u001b[0m\u001b[1;32m    312\u001b[0m \u001b[0;34m\u001b[0m\u001b[0m\n\u001b[1;32m    313\u001b[0m         \u001b[0;32mreturn\u001b[0m \u001b[0mwrapper\u001b[0m\u001b[0;34m\u001b[0m\u001b[0;34m\u001b[0m\u001b[0m\n",
            "\u001b[0;32m/usr/local/lib/python3.7/dist-packages/pandas/io/parsers/readers.py\u001b[0m in \u001b[0;36mread_csv\u001b[0;34m(filepath_or_buffer, sep, delimiter, header, names, index_col, usecols, squeeze, prefix, mangle_dupe_cols, dtype, engine, converters, true_values, false_values, skipinitialspace, skiprows, skipfooter, nrows, na_values, keep_default_na, na_filter, verbose, skip_blank_lines, parse_dates, infer_datetime_format, keep_date_col, date_parser, dayfirst, cache_dates, iterator, chunksize, compression, thousands, decimal, lineterminator, quotechar, quoting, doublequote, escapechar, comment, encoding, encoding_errors, dialect, error_bad_lines, warn_bad_lines, on_bad_lines, delim_whitespace, low_memory, memory_map, float_precision, storage_options)\u001b[0m\n\u001b[1;32m    584\u001b[0m     \u001b[0mkwds\u001b[0m\u001b[0;34m.\u001b[0m\u001b[0mupdate\u001b[0m\u001b[0;34m(\u001b[0m\u001b[0mkwds_defaults\u001b[0m\u001b[0;34m)\u001b[0m\u001b[0;34m\u001b[0m\u001b[0;34m\u001b[0m\u001b[0m\n\u001b[1;32m    585\u001b[0m \u001b[0;34m\u001b[0m\u001b[0m\n\u001b[0;32m--> 586\u001b[0;31m     \u001b[0;32mreturn\u001b[0m \u001b[0m_read\u001b[0m\u001b[0;34m(\u001b[0m\u001b[0mfilepath_or_buffer\u001b[0m\u001b[0;34m,\u001b[0m \u001b[0mkwds\u001b[0m\u001b[0;34m)\u001b[0m\u001b[0;34m\u001b[0m\u001b[0;34m\u001b[0m\u001b[0m\n\u001b[0m\u001b[1;32m    587\u001b[0m \u001b[0;34m\u001b[0m\u001b[0m\n\u001b[1;32m    588\u001b[0m \u001b[0;34m\u001b[0m\u001b[0m\n",
            "\u001b[0;32m/usr/local/lib/python3.7/dist-packages/pandas/io/parsers/readers.py\u001b[0m in \u001b[0;36m_read\u001b[0;34m(filepath_or_buffer, kwds)\u001b[0m\n\u001b[1;32m    480\u001b[0m \u001b[0;34m\u001b[0m\u001b[0m\n\u001b[1;32m    481\u001b[0m     \u001b[0;31m# Create the parser.\u001b[0m\u001b[0;34m\u001b[0m\u001b[0;34m\u001b[0m\u001b[0;34m\u001b[0m\u001b[0m\n\u001b[0;32m--> 482\u001b[0;31m     \u001b[0mparser\u001b[0m \u001b[0;34m=\u001b[0m \u001b[0mTextFileReader\u001b[0m\u001b[0;34m(\u001b[0m\u001b[0mfilepath_or_buffer\u001b[0m\u001b[0;34m,\u001b[0m \u001b[0;34m**\u001b[0m\u001b[0mkwds\u001b[0m\u001b[0;34m)\u001b[0m\u001b[0;34m\u001b[0m\u001b[0;34m\u001b[0m\u001b[0m\n\u001b[0m\u001b[1;32m    483\u001b[0m \u001b[0;34m\u001b[0m\u001b[0m\n\u001b[1;32m    484\u001b[0m     \u001b[0;32mif\u001b[0m \u001b[0mchunksize\u001b[0m \u001b[0;32mor\u001b[0m \u001b[0miterator\u001b[0m\u001b[0;34m:\u001b[0m\u001b[0;34m\u001b[0m\u001b[0;34m\u001b[0m\u001b[0m\n",
            "\u001b[0;32m/usr/local/lib/python3.7/dist-packages/pandas/io/parsers/readers.py\u001b[0m in \u001b[0;36m__init__\u001b[0;34m(self, f, engine, **kwds)\u001b[0m\n\u001b[1;32m    809\u001b[0m             \u001b[0mself\u001b[0m\u001b[0;34m.\u001b[0m\u001b[0moptions\u001b[0m\u001b[0;34m[\u001b[0m\u001b[0;34m\"has_index_names\"\u001b[0m\u001b[0;34m]\u001b[0m \u001b[0;34m=\u001b[0m \u001b[0mkwds\u001b[0m\u001b[0;34m[\u001b[0m\u001b[0;34m\"has_index_names\"\u001b[0m\u001b[0;34m]\u001b[0m\u001b[0;34m\u001b[0m\u001b[0;34m\u001b[0m\u001b[0m\n\u001b[1;32m    810\u001b[0m \u001b[0;34m\u001b[0m\u001b[0m\n\u001b[0;32m--> 811\u001b[0;31m         \u001b[0mself\u001b[0m\u001b[0;34m.\u001b[0m\u001b[0m_engine\u001b[0m \u001b[0;34m=\u001b[0m \u001b[0mself\u001b[0m\u001b[0;34m.\u001b[0m\u001b[0m_make_engine\u001b[0m\u001b[0;34m(\u001b[0m\u001b[0mself\u001b[0m\u001b[0;34m.\u001b[0m\u001b[0mengine\u001b[0m\u001b[0;34m)\u001b[0m\u001b[0;34m\u001b[0m\u001b[0;34m\u001b[0m\u001b[0m\n\u001b[0m\u001b[1;32m    812\u001b[0m \u001b[0;34m\u001b[0m\u001b[0m\n\u001b[1;32m    813\u001b[0m     \u001b[0;32mdef\u001b[0m \u001b[0mclose\u001b[0m\u001b[0;34m(\u001b[0m\u001b[0mself\u001b[0m\u001b[0;34m)\u001b[0m\u001b[0;34m:\u001b[0m\u001b[0;34m\u001b[0m\u001b[0;34m\u001b[0m\u001b[0m\n",
            "\u001b[0;32m/usr/local/lib/python3.7/dist-packages/pandas/io/parsers/readers.py\u001b[0m in \u001b[0;36m_make_engine\u001b[0;34m(self, engine)\u001b[0m\n\u001b[1;32m   1038\u001b[0m             )\n\u001b[1;32m   1039\u001b[0m         \u001b[0;31m# error: Too many arguments for \"ParserBase\"\u001b[0m\u001b[0;34m\u001b[0m\u001b[0;34m\u001b[0m\u001b[0;34m\u001b[0m\u001b[0m\n\u001b[0;32m-> 1040\u001b[0;31m         \u001b[0;32mreturn\u001b[0m \u001b[0mmapping\u001b[0m\u001b[0;34m[\u001b[0m\u001b[0mengine\u001b[0m\u001b[0;34m]\u001b[0m\u001b[0;34m(\u001b[0m\u001b[0mself\u001b[0m\u001b[0;34m.\u001b[0m\u001b[0mf\u001b[0m\u001b[0;34m,\u001b[0m \u001b[0;34m**\u001b[0m\u001b[0mself\u001b[0m\u001b[0;34m.\u001b[0m\u001b[0moptions\u001b[0m\u001b[0;34m)\u001b[0m  \u001b[0;31m# type: ignore[call-arg]\u001b[0m\u001b[0;34m\u001b[0m\u001b[0;34m\u001b[0m\u001b[0m\n\u001b[0m\u001b[1;32m   1041\u001b[0m \u001b[0;34m\u001b[0m\u001b[0m\n\u001b[1;32m   1042\u001b[0m     \u001b[0;32mdef\u001b[0m \u001b[0m_failover_to_python\u001b[0m\u001b[0;34m(\u001b[0m\u001b[0mself\u001b[0m\u001b[0;34m)\u001b[0m\u001b[0;34m:\u001b[0m\u001b[0;34m\u001b[0m\u001b[0;34m\u001b[0m\u001b[0m\n",
            "\u001b[0;32m/usr/local/lib/python3.7/dist-packages/pandas/io/parsers/python_parser.py\u001b[0m in \u001b[0;36m__init__\u001b[0;34m(self, f, **kwds)\u001b[0m\n\u001b[1;32m     94\u001b[0m             \u001b[0mself\u001b[0m\u001b[0;34m.\u001b[0m\u001b[0mdata\u001b[0m \u001b[0;34m=\u001b[0m \u001b[0mcast\u001b[0m\u001b[0;34m(\u001b[0m\u001b[0mIterator\u001b[0m\u001b[0;34m[\u001b[0m\u001b[0mstr\u001b[0m\u001b[0;34m]\u001b[0m\u001b[0;34m,\u001b[0m \u001b[0mf\u001b[0m\u001b[0;34m)\u001b[0m\u001b[0;34m\u001b[0m\u001b[0;34m\u001b[0m\u001b[0m\n\u001b[1;32m     95\u001b[0m         \u001b[0;32melse\u001b[0m\u001b[0;34m:\u001b[0m\u001b[0;34m\u001b[0m\u001b[0;34m\u001b[0m\u001b[0m\n\u001b[0;32m---> 96\u001b[0;31m             \u001b[0mself\u001b[0m\u001b[0;34m.\u001b[0m\u001b[0m_open_handles\u001b[0m\u001b[0;34m(\u001b[0m\u001b[0mf\u001b[0m\u001b[0;34m,\u001b[0m \u001b[0mkwds\u001b[0m\u001b[0;34m)\u001b[0m\u001b[0;34m\u001b[0m\u001b[0;34m\u001b[0m\u001b[0m\n\u001b[0m\u001b[1;32m     97\u001b[0m             \u001b[0;32massert\u001b[0m \u001b[0mself\u001b[0m\u001b[0;34m.\u001b[0m\u001b[0mhandles\u001b[0m \u001b[0;32mis\u001b[0m \u001b[0;32mnot\u001b[0m \u001b[0;32mNone\u001b[0m\u001b[0;34m\u001b[0m\u001b[0;34m\u001b[0m\u001b[0m\n\u001b[1;32m     98\u001b[0m             \u001b[0;32massert\u001b[0m \u001b[0mhasattr\u001b[0m\u001b[0;34m(\u001b[0m\u001b[0mself\u001b[0m\u001b[0;34m.\u001b[0m\u001b[0mhandles\u001b[0m\u001b[0;34m.\u001b[0m\u001b[0mhandle\u001b[0m\u001b[0;34m,\u001b[0m \u001b[0;34m\"readline\"\u001b[0m\u001b[0;34m)\u001b[0m\u001b[0;34m\u001b[0m\u001b[0;34m\u001b[0m\u001b[0m\n",
            "\u001b[0;32m/usr/local/lib/python3.7/dist-packages/pandas/io/parsers/base_parser.py\u001b[0m in \u001b[0;36m_open_handles\u001b[0;34m(self, src, kwds)\u001b[0m\n\u001b[1;32m    227\u001b[0m             \u001b[0mmemory_map\u001b[0m\u001b[0;34m=\u001b[0m\u001b[0mkwds\u001b[0m\u001b[0;34m.\u001b[0m\u001b[0mget\u001b[0m\u001b[0;34m(\u001b[0m\u001b[0;34m\"memory_map\"\u001b[0m\u001b[0;34m,\u001b[0m \u001b[0;32mFalse\u001b[0m\u001b[0;34m)\u001b[0m\u001b[0;34m,\u001b[0m\u001b[0;34m\u001b[0m\u001b[0;34m\u001b[0m\u001b[0m\n\u001b[1;32m    228\u001b[0m             \u001b[0mstorage_options\u001b[0m\u001b[0;34m=\u001b[0m\u001b[0mkwds\u001b[0m\u001b[0;34m.\u001b[0m\u001b[0mget\u001b[0m\u001b[0;34m(\u001b[0m\u001b[0;34m\"storage_options\"\u001b[0m\u001b[0;34m,\u001b[0m \u001b[0;32mNone\u001b[0m\u001b[0;34m)\u001b[0m\u001b[0;34m,\u001b[0m\u001b[0;34m\u001b[0m\u001b[0;34m\u001b[0m\u001b[0m\n\u001b[0;32m--> 229\u001b[0;31m             \u001b[0merrors\u001b[0m\u001b[0;34m=\u001b[0m\u001b[0mkwds\u001b[0m\u001b[0;34m.\u001b[0m\u001b[0mget\u001b[0m\u001b[0;34m(\u001b[0m\u001b[0;34m\"encoding_errors\"\u001b[0m\u001b[0;34m,\u001b[0m \u001b[0;34m\"strict\"\u001b[0m\u001b[0;34m)\u001b[0m\u001b[0;34m,\u001b[0m\u001b[0;34m\u001b[0m\u001b[0;34m\u001b[0m\u001b[0m\n\u001b[0m\u001b[1;32m    230\u001b[0m         )\n\u001b[1;32m    231\u001b[0m \u001b[0;34m\u001b[0m\u001b[0m\n",
            "\u001b[0;32m/usr/local/lib/python3.7/dist-packages/pandas/io/common.py\u001b[0m in \u001b[0;36mget_handle\u001b[0;34m(path_or_buf, mode, encoding, compression, memory_map, is_text, errors, storage_options)\u001b[0m\n\u001b[1;32m    705\u001b[0m                 \u001b[0mencoding\u001b[0m\u001b[0;34m=\u001b[0m\u001b[0mioargs\u001b[0m\u001b[0;34m.\u001b[0m\u001b[0mencoding\u001b[0m\u001b[0;34m,\u001b[0m\u001b[0;34m\u001b[0m\u001b[0;34m\u001b[0m\u001b[0m\n\u001b[1;32m    706\u001b[0m                 \u001b[0merrors\u001b[0m\u001b[0;34m=\u001b[0m\u001b[0merrors\u001b[0m\u001b[0;34m,\u001b[0m\u001b[0;34m\u001b[0m\u001b[0;34m\u001b[0m\u001b[0m\n\u001b[0;32m--> 707\u001b[0;31m                 \u001b[0mnewline\u001b[0m\u001b[0;34m=\u001b[0m\u001b[0;34m\"\"\u001b[0m\u001b[0;34m,\u001b[0m\u001b[0;34m\u001b[0m\u001b[0;34m\u001b[0m\u001b[0m\n\u001b[0m\u001b[1;32m    708\u001b[0m             )\n\u001b[1;32m    709\u001b[0m         \u001b[0;32melse\u001b[0m\u001b[0;34m:\u001b[0m\u001b[0;34m\u001b[0m\u001b[0;34m\u001b[0m\u001b[0m\n",
            "\u001b[0;31mFileNotFoundError\u001b[0m: [Errno 2] No such file or directory: 'drive/My Drive/weight/flair-complete.log'"
          ]
        }
      ]
    },
    {
      "cell_type": "code",
      "metadata": {
        "id": "825ENPpvYRZG"
      },
      "source": [
        "#plotting the graph\n",
        "ax = plt.gca()\n",
        "df.plot(kind='line',x='epoch',y='acc',ax=ax)\n",
        "df.plot(kind='line',x='epoch',y='val_acc', color='red', ax=ax)\n",
        "plt.title('Model accuracy')\n",
        "plt.ylabel('Accuracy')\n",
        "plt.xlabel('Epoch')\n",
        "plt.legend(['Train', 'Test'], loc='upper left')\n",
        "plt.show()\n",
        "\n",
        "#import plotly.express as px\n",
        "#fig = px.line(df, x = 'epoch', y = 'acc', title='Accuaracy')\n",
        "#fig = px.line(df, x = 'epoch', y = 'val_acc', title='Accuaracy')\n",
        "#fig.show()\n"
      ],
      "execution_count": null,
      "outputs": []
    },
    {
      "cell_type": "code",
      "metadata": {
        "colab": {
          "base_uri": "https://localhost:8080/",
          "height": 235
        },
        "id": "OlLv_CPEw4Rl",
        "outputId": "0ebc494b-72b4-4dc7-ffaa-cf0bd7ab40ab"
      },
      "source": [
        "model.load_weights('drive/My Drive/unet++_mixedpool_t1ce_ENHANCING.h5')\n",
        "slicer=10\n",
        "pred=model.predict(test_image)\n",
        "plt.figure(figsize=[10,10])\n",
        "plt.subplot(131)\n",
        "plt.imshow(test_image[slicer].reshape(192,192))\n",
        "plt.subplot(132)\n",
        "plt.imshow(test_mask[slicer].reshape(192,192))\n",
        "plt.subplot(133)\n",
        "plt.imshow(pred[slicer].reshape(192,192))"
      ],
      "execution_count": null,
      "outputs": [
        {
          "output_type": "error",
          "ename": "NameError",
          "evalue": "ignored",
          "traceback": [
            "\u001b[0;31m---------------------------------------------------------------------------\u001b[0m",
            "\u001b[0;31mNameError\u001b[0m                                 Traceback (most recent call last)",
            "\u001b[0;32m<ipython-input-58-17339a28f6a1>\u001b[0m in \u001b[0;36m<module>\u001b[0;34m\u001b[0m\n\u001b[0;32m----> 1\u001b[0;31m \u001b[0mmodel\u001b[0m\u001b[0;34m.\u001b[0m\u001b[0mload_weights\u001b[0m\u001b[0;34m(\u001b[0m\u001b[0;34m'drive/My Drive/unet++_mixedpool_t1ce_ENHANCING.h5'\u001b[0m\u001b[0;34m)\u001b[0m\u001b[0;34m\u001b[0m\u001b[0;34m\u001b[0m\u001b[0m\n\u001b[0m\u001b[1;32m      2\u001b[0m \u001b[0mslicer\u001b[0m\u001b[0;34m=\u001b[0m\u001b[0;36m10\u001b[0m\u001b[0;34m\u001b[0m\u001b[0;34m\u001b[0m\u001b[0m\n\u001b[1;32m      3\u001b[0m \u001b[0mpred\u001b[0m\u001b[0;34m=\u001b[0m\u001b[0mmodel\u001b[0m\u001b[0;34m.\u001b[0m\u001b[0mpredict\u001b[0m\u001b[0;34m(\u001b[0m\u001b[0mtest_image\u001b[0m\u001b[0;34m)\u001b[0m\u001b[0;34m\u001b[0m\u001b[0;34m\u001b[0m\u001b[0m\n\u001b[1;32m      4\u001b[0m \u001b[0mplt\u001b[0m\u001b[0;34m.\u001b[0m\u001b[0mfigure\u001b[0m\u001b[0;34m(\u001b[0m\u001b[0mfigsize\u001b[0m\u001b[0;34m=\u001b[0m\u001b[0;34m[\u001b[0m\u001b[0;36m10\u001b[0m\u001b[0;34m,\u001b[0m\u001b[0;36m10\u001b[0m\u001b[0;34m]\u001b[0m\u001b[0;34m)\u001b[0m\u001b[0;34m\u001b[0m\u001b[0;34m\u001b[0m\u001b[0m\n\u001b[1;32m      5\u001b[0m \u001b[0mplt\u001b[0m\u001b[0;34m.\u001b[0m\u001b[0msubplot\u001b[0m\u001b[0;34m(\u001b[0m\u001b[0;36m131\u001b[0m\u001b[0;34m)\u001b[0m\u001b[0;34m\u001b[0m\u001b[0;34m\u001b[0m\u001b[0m\n",
            "\u001b[0;31mNameError\u001b[0m: name 'model' is not defined"
          ]
        }
      ]
    },
    {
      "cell_type": "code",
      "metadata": {
        "id": "9IssMePsz7P5",
        "colab": {
          "base_uri": "https://localhost:8080/",
          "height": 232
        },
        "outputId": "9cbe7a7f-c062-4f48-bb4d-faa2fa16ff78"
      },
      "source": [
        "plt.figure(figsize=[10,10])\n",
        "#prediction_masks_test=prediction_masks.copy()\n",
        "#prediction_masks_test[prediction_masks>0.5]=1\n",
        "#prediction_masks_test[prediction_masks<0.5]=0\n",
        "# Display the first image in training data\n",
        "#plt.subplot(131)\n",
        "#curr_img = np.reshape(images_test[90], (240,240))\n",
        "#plt.imshow(curr_img, cmap='gray')\n",
        "\n",
        "# Display the first image in testing data\n",
        "plt.subplot(131)\n",
        "curr_img = np.reshape(train_image[111], (192,192))\n",
        "plt.imshow(curr_img, cmap='gray')\n",
        "\n",
        "plt.subplot(132)\n",
        "curr_img = np.reshape(train_mask[111], (192,192))\n",
        "plt.imshow(curr_img, cmap='gray')\n",
        "\n",
        "\n",
        "\n",
        "\n"
      ],
      "execution_count": null,
      "outputs": [
        {
          "output_type": "execute_result",
          "data": {
            "text/plain": [
              "<matplotlib.image.AxesImage at 0x7f7547117828>"
            ]
          },
          "metadata": {
            "tags": []
          },
          "execution_count": 21
        },
        {
          "output_type": "display_data",
          "data": {
            "image/png": "[encoded data removed]",
            "text/plain": [
              "<Figure size 720x720 with 2 Axes>"
            ]
          },
          "metadata": {
            "tags": []
          }
        }
      ]
    },
    {
      "cell_type": "code",
      "metadata": {
        "id": "laAEF3f3_6hG",
        "colab": {
          "base_uri": "https://localhost:8080/",
          "height": 233
        },
        "outputId": "ebe98d7a-ca99-4677-af46-483cee79024e"
      },
      "source": [
        "plt.figure(figsize=[10,10])\n",
        "plt.subplot(131)\n",
        "curr_img = np.reshape(test_image[870], (192,192))\n",
        "plt.imshow(curr_img, cmap='gray')\n",
        "\n",
        "plt.subplot(132)\n",
        "curr_img = np.reshape(test_mask[2], (192,192))\n",
        "plt.imshow(curr_img, cmap='gray')\n",
        "\n",
        "plt.subplot(133)\n",
        "curr_img = np.reshape(prediction_masks[2], (192,192))\n",
        "plt.imshow(curr_img, cmap='gray')\n",
        "\n",
        "\n",
        "\n"
      ],
      "execution_count": null,
      "outputs": [
        {
          "output_type": "execute_result",
          "data": {
            "text/plain": [
              "<matplotlib.image.AxesImage at 0x7f36ff2a6048>"
            ]
          },
          "metadata": {
            "tags": []
          },
          "execution_count": 24
        },
        {
          "output_type": "display_data",
          "data": {
            "image/png": "[encoded data removed]",
            "text/plain": [
              "<Figure size 720x720 with 3 Axes>"
            ]
          },
          "metadata": {
            "tags": [],
            "needs_background": "light"
          }
        }
      ]
    },
    {
      "cell_type": "code",
      "metadata": {
        "id": "wYVuJd6hWm3x",
        "colab": {
          "base_uri": "https://localhost:8080/",
          "height": 203
        },
        "outputId": "dc786b71-8545-4430-8abb-cd3e74e51de5"
      },
      "source": [
        "print(history.history.keys())\n",
        "print(history.history['loss'])\n",
        "print(history.history['IoU'])\n",
        "print(history.history['acc'])\n",
        "print(history.history['dice_score'])\n",
        "print(history.history['val_loss'])\n",
        "print(history.history['val_IoU'])\n",
        "print(history.history['val_acc'])\n",
        "print(history.history['val_dice_score'])\n",
        "print(history.history['lr'])"
      ],
      "execution_count": null,
      "outputs": [
        {
          "output_type": "stream",
          "text": [
            "dict_keys(['loss', 'IoU', 'acc', 'dice_score', 'val_loss', 'val_IoU', 'val_acc', 'val_dice_score', 'lr'])\n",
            "[0.6810002936053946, 0.4043829455669996, 0.3853994706812285, 0.38161687516916976, 0.35366663254996983, 0.34138146235536393, 0.3348952104926966, 0.3337705792125575, 0.32641428072494594, 0.31874342401926226, 0.31530690792726584, 0.3070223795129613, 0.30932975056746054, 0.2962284493804523, 0.29645100263191315, 0.29002786354252436, 0.29311772460722596, 0.2898442677078023, 0.2893937988891701, 0.2912808713143671, 0.27908153461133006, 0.28112326259709586, 0.27304672334491625, 0.2697564173102924, 0.27086646011029875, 0.27198728385663046, 0.2674510385342317, 0.26473163492651564, 0.2612618238687671, 0.2612554659491501, 0.261299833022715, 0.264490497299147, 0.25666089998320923, 0.2592674058531718, 0.2540531320501043, 0.25583140105301067, 0.2501492089963598, 0.24995327110698534, 0.2535868003078725, 0.25057568163127386, 0.24913174801601606, 0.24687270387997431, 0.24664236197356382, 0.24017852245009388, 0.24078277312097482, 0.2386885852322401, 0.24150159838229204, 0.23708876323108188, 0.2385370486569825, 0.239268594273627, 0.23559227126396848, 0.23313036789736818, 0.23438827398553694, 0.23383429321411153, 0.23305814750711565, 0.23149271929365292, 0.231045264344368, 0.23066300883704272, 0.23144224710436448, 0.23253892734890122, 0.23036535437554023, 0.21519253825845475, 0.210534080376351, 0.20903624673048551, 0.2083058222339949, 0.20746794092857626, 0.20544400988335237, 0.2046124756355678, 0.20525639457962702, 0.2064418810146607, 0.20234034049363014, 0.20156920703698575, 0.20148244269489074, 0.20012690271917002, 0.1998060439962098, 0.2000479197031061, 0.19911301570106846, 0.19943297962438508, 0.19813523345683465, 0.19746425862720324, 0.1973913734368761, 0.2009227850287666, 0.195792800038177, 0.1957974913831165, 0.19502031882941373, 0.19589885971968193, 0.19457647089550184, 0.1939139757512209, 0.19398927314852982, 0.19428531189980186, 0.19295207372605605, 0.19270445573843825, 0.19335969224581914, 0.19321781055238962, 0.1935550767969727, 0.19321674088066035, 0.19323835814411852, 0.19281635882611528, 0.19413850869640348, 0.19311764928774458]\n",
            "[0.3074859, 0.4996771, 0.51512295, 0.51757354, 0.53917295, 0.55021065, 0.55575687, 0.55764216, 0.5609771, 0.56936425, 0.5728962, 0.5807043, 0.5799623, 0.5895645, 0.5891265, 0.5949596, 0.59262323, 0.59488714, 0.5965099, 0.59511775, 0.6049278, 0.6037239, 0.61053437, 0.6146861, 0.6122932, 0.6115929, 0.6152925, 0.6201644, 0.6217958, 0.6210758, 0.62160575, 0.61836964, 0.62598395, 0.62443227, 0.6301274, 0.6273618, 0.6316233, 0.631819, 0.6286789, 0.6327375, 0.63329136, 0.63583344, 0.63487643, 0.64102113, 0.6419382, 0.64356416, 0.64166194, 0.6450894, 0.6424941, 0.64234215, 0.6462508, 0.6493318, 0.64786303, 0.6494424, 0.64926714, 0.6515462, 0.6518902, 0.6521892, 0.65105087, 0.6506564, 0.6520776, 0.6672824, 0.6733256, 0.6745593, 0.6758296, 0.6770766, 0.67875713, 0.67994875, 0.6801891, 0.68061393, 0.6830079, 0.6851976, 0.68445134, 0.68585825, 0.6861694, 0.68647, 0.6880085, 0.6875252, 0.6880763, 0.6885, 0.6890816, 0.6868031, 0.69095826, 0.6910146, 0.69224524, 0.6916433, 0.6915949, 0.6938324, 0.6933437, 0.69227964, 0.69498914, 0.69477636, 0.69480467, 0.69453984, 0.69412494, 0.69451946, 0.69377154, 0.6951311, 0.693077, 0.6941578]\n",
            "[0.9450918, 0.97012585, 0.9711949, 0.9714581, 0.97340155, 0.9743575, 0.9747058, 0.9748942, 0.97537553, 0.9757915, 0.9760778, 0.9764468, 0.9764075, 0.9772106, 0.9772177, 0.97765166, 0.97741157, 0.9776808, 0.97782, 0.97768974, 0.9781603, 0.9781003, 0.97858375, 0.97871155, 0.9786697, 0.9786344, 0.9788664, 0.9790824, 0.97922105, 0.97910815, 0.9792435, 0.9790644, 0.9795658, 0.9793007, 0.97958, 0.97954214, 0.97987056, 0.9799342, 0.9797079, 0.97981334, 0.9799286, 0.9799905, 0.9800675, 0.9804342, 0.9804032, 0.9805029, 0.98046774, 0.98062205, 0.98052776, 0.98045796, 0.98070633, 0.980775, 0.98067343, 0.980751, 0.9808211, 0.98092127, 0.9809288, 0.98101884, 0.9808926, 0.9809667, 0.98098826, 0.981834, 0.9820223, 0.9821627, 0.98224247, 0.98217946, 0.98232603, 0.98240834, 0.9824159, 0.9822281, 0.9825359, 0.9825417, 0.9825455, 0.9825901, 0.9826788, 0.9826879, 0.98270535, 0.9826487, 0.9827446, 0.9826648, 0.9827431, 0.9826071, 0.9829246, 0.982837, 0.98290396, 0.9828098, 0.9828986, 0.9830097, 0.9829175, 0.98289835, 0.9829558, 0.98303974, 0.98299307, 0.9830558, 0.98295873, 0.98297364, 0.9829985, 0.9829313, 0.98288137, 0.9830301]\n",
            "[0.44212434, 0.6638059, 0.6778047, 0.6807885, 0.70218843, 0.71204567, 0.71799105, 0.71917963, 0.72458893, 0.73055893, 0.7341272, 0.74106365, 0.7390484, 0.7500022, 0.74961823, 0.7547445, 0.7524373, 0.7550256, 0.75668865, 0.7552689, 0.7644661, 0.76249456, 0.769479, 0.7726174, 0.77149105, 0.7705295, 0.77403885, 0.7768217, 0.7791939, 0.77968884, 0.7795864, 0.77693623, 0.78369445, 0.78134847, 0.78606683, 0.785476, 0.78877825, 0.78915757, 0.7860717, 0.7890615, 0.7901787, 0.79201406, 0.79226345, 0.7973673, 0.79709744, 0.7990938, 0.79622716, 0.8001948, 0.7990039, 0.79852945, 0.80145675, 0.803636, 0.8027699, 0.80324244, 0.80386096, 0.80489224, 0.80546457, 0.8055041, 0.8048852, 0.8047884, 0.8057887, 0.81831485, 0.8225067, 0.82373476, 0.824106, 0.825454, 0.82675624, 0.82738334, 0.8271745, 0.82639337, 0.8295035, 0.83026606, 0.83018726, 0.8313926, 0.83176285, 0.83137614, 0.8321957, 0.8319256, 0.8328755, 0.8336505, 0.8336971, 0.8315441, 0.8348351, 0.8351707, 0.83574873, 0.8351032, 0.8360107, 0.83641905, 0.83664894, 0.8361604, 0.837595, 0.8375023, 0.8369525, 0.8370431, 0.8369021, 0.837148, 0.83708376, 0.83762604, 0.83656806, 0.83711165]\n",
            "[0.40764437400773024, 0.3809313490685102, 0.3851858309715266, 0.3603147336036687, 0.3424337849283748, 0.36595696674150086, 0.31766096086458473, 0.34240925475555956, 0.3041163300626968, 0.29884201712580305, 0.3036031448942318, 0.29270220643784156, 0.2832762268460085, 0.2782906047041162, 0.28958513314703727, 0.2735039052583282, 0.26282640036066557, 0.26844131767477264, 0.267037089240076, 0.2569188177780261, 0.26381281728763195, 0.2643732442176864, 0.25931609681351836, 0.24834380906676248, 0.2634487516501618, 0.2512875356991878, 0.25867704719129847, 0.2472309321846392, 0.24679533225270675, 0.25269314886151695, 0.26834093551087584, 0.26798642966421815, 0.24246780300825582, 0.2536807754785698, 0.2521126611337095, 0.24932142708676847, 0.23229237119798019, 0.26800806579988506, 0.23218125599338524, 0.25100323672702624, 0.23026719270851936, 0.22912885845291467, 0.23123668051482338, 0.23117090657518863, 0.22848311878356337, 0.2341912610323736, 0.22547231788809668, 0.22731466654622423, 0.24049641430416893, 0.21871001544456556, 0.21883532675475875, 0.22214304801298076, 0.21785280581473682, 0.21876324616873832, 0.21505497951744273, 0.21108249555920403, 0.2200996192119855, 0.22363125024318384, 0.2306096029001307, 0.21531244915813344, 0.22176191029713715, 0.2032563837426383, 0.2021901406625141, 0.19910922726332791, 0.19823976500527987, 0.19632851727097583, 0.1980675439442162, 0.19191460045703013, 0.20076199063750205, 0.1945874200468356, 0.19309511377794303, 0.1969609830521198, 0.19116170261515114, 0.1950715480483022, 0.19430852543677013, 0.1910447255214938, 0.19396315237652, 0.1867914146881801, 0.18852253103474245, 0.18917963226039297, 0.1831957560438957, 0.18847179724296506, 0.18876891755964303, 0.19040734187050787, 0.1881420056388551, 0.18916417009140601, 0.18951492041719264, 0.18429673597907648, 0.18359324388609924, 0.18656034862037424, 0.1846947735388399, 0.1867428722917294, 0.18639195814076628, 0.18359696763859007, 0.18653570663531882, 0.18481684758879638, 0.18528754254869975, 0.18235310536440022, 0.18259416258778938, 0.1850533111666948]\n",
            "[0.49546948, 0.5268982, 0.52891123, 0.5368361, 0.53037685, 0.5047277, 0.55769897, 0.5256863, 0.5817575, 0.58627987, 0.5960652, 0.5829628, 0.59911907, 0.6054752, 0.60144687, 0.6090333, 0.61870027, 0.62061864, 0.6157299, 0.6280307, 0.61812896, 0.61785644, 0.62148464, 0.630548, 0.6215196, 0.631497, 0.6247201, 0.62984717, 0.6282465, 0.62797886, 0.61783767, 0.6221626, 0.6369301, 0.6247893, 0.6280758, 0.63013977, 0.648922, 0.6069351, 0.6505278, 0.61980546, 0.65129644, 0.65466547, 0.6513838, 0.6567071, 0.65801984, 0.6521815, 0.6559218, 0.6584131, 0.6416613, 0.66456836, 0.6629396, 0.65934914, 0.6656612, 0.6704952, 0.66730624, 0.6751638, 0.6606595, 0.6561896, 0.6437914, 0.66944003, 0.65880173, 0.68187624, 0.68063146, 0.6858801, 0.6869717, 0.6875377, 0.68746114, 0.69422174, 0.681736, 0.6907637, 0.69521433, 0.68797445, 0.6967383, 0.69177264, 0.6908476, 0.6943088, 0.69408727, 0.6987111, 0.69974184, 0.6977572, 0.7058635, 0.70124173, 0.699809, 0.6976575, 0.6986401, 0.69652086, 0.69715935, 0.7039425, 0.70605993, 0.70276815, 0.7017563, 0.70139843, 0.7007752, 0.70363194, 0.7031422, 0.7027878, 0.7023866, 0.70469505, 0.705187, 0.7048392]\n",
            "[0.9776395, 0.9792366, 0.9788644, 0.98011065, 0.98356384, 0.9831691, 0.9841291, 0.98228866, 0.98308647, 0.9846978, 0.9826996, 0.98590815, 0.98589206, 0.98503906, 0.9844746, 0.9859784, 0.9864975, 0.98600537, 0.98590064, 0.9867192, 0.9867874, 0.98686916, 0.98650855, 0.9871435, 0.98636496, 0.9872135, 0.98716336, 0.98765063, 0.9876496, 0.9873395, 0.9868301, 0.9859567, 0.9878703, 0.98765826, 0.9878204, 0.987191, 0.9878571, 0.9859185, 0.9875945, 0.98790675, 0.98826903, 0.9879231, 0.9882805, 0.9873643, 0.98831016, 0.9876997, 0.98850507, 0.98883134, 0.9876411, 0.98854756, 0.98889005, 0.9883871, 0.9889511, 0.9884645, 0.9891428, 0.9886789, 0.98889786, 0.9890242, 0.98838174, 0.98862994, 0.9890135, 0.9896558, 0.98975015, 0.9899396, 0.9899949, 0.9900386, 0.9899739, 0.99019456, 0.9899584, 0.99032634, 0.99007905, 0.99008286, 0.9904925, 0.99009085, 0.9902761, 0.9904761, 0.9902678, 0.9904572, 0.9904619, 0.9905092, 0.9904619, 0.9905747, 0.9904693, 0.9904922, 0.99048644, 0.99066925, 0.99047804, 0.9906049, 0.99071807, 0.9905841, 0.9907077, 0.9905692, 0.9905993, 0.9908511, 0.9906696, 0.990613, 0.9906572, 0.9908036, 0.9908183, 0.9906483]\n",
            "[0.66407925, 0.6820982, 0.68374103, 0.6946435, 0.7011474, 0.68013984, 0.72483826, 0.6987093, 0.7394333, 0.7450883, 0.748588, 0.7457816, 0.75585794, 0.76081115, 0.7545522, 0.76471037, 0.77507216, 0.77309936, 0.77219224, 0.7808547, 0.7755107, 0.7750821, 0.77725625, 0.7855031, 0.7735119, 0.78692275, 0.7819235, 0.78716946, 0.7873688, 0.78237945, 0.7754793, 0.77525306, 0.7919822, 0.78295636, 0.78629583, 0.7877038, 0.801357, 0.77000767, 0.8026884, 0.7824735, 0.80170155, 0.80445606, 0.802169, 0.80543184, 0.8076915, 0.80070394, 0.8075225, 0.8109866, 0.7957346, 0.81320906, 0.8130514, 0.8105957, 0.81640434, 0.8158111, 0.8164007, 0.8193957, 0.8136181, 0.8101662, 0.8013695, 0.8168092, 0.8098213, 0.8272822, 0.8276283, 0.8297057, 0.8301587, 0.8328349, 0.83143634, 0.8366242, 0.82830566, 0.8344479, 0.83563304, 0.8325336, 0.83729243, 0.83392817, 0.83417934, 0.8371803, 0.8342583, 0.8410964, 0.8399193, 0.83886343, 0.84491277, 0.8395631, 0.8401361, 0.83852655, 0.8400269, 0.8384652, 0.83856344, 0.8434221, 0.84363955, 0.8412433, 0.8424403, 0.84095174, 0.8413357, 0.8433049, 0.8409045, 0.84276694, 0.84220403, 0.84456724, 0.8443354, 0.8424587]\n",
            "[0.001, 0.001, 0.001, 0.001, 0.001, 0.001, 0.001, 0.001, 0.001, 0.001, 0.001, 0.001, 0.001, 0.001, 0.001, 0.001, 0.001, 0.001, 0.001, 0.001, 0.001, 0.001, 0.001, 0.001, 0.001, 0.001, 0.001, 0.001, 0.001, 0.001, 0.001, 0.001, 0.001, 0.001, 0.001, 0.001, 0.001, 0.001, 0.001, 0.001, 0.001, 0.001, 0.001, 0.001, 0.001, 0.001, 0.001, 0.001, 0.001, 0.001, 0.001, 0.001, 0.001, 0.001, 0.001, 0.001, 0.001, 0.001, 0.001, 0.001, 0.001, 0.000100000005, 0.000100000005, 0.000100000005, 0.000100000005, 0.000100000005, 0.000100000005, 0.000100000005, 0.000100000005, 0.000100000005, 0.000100000005, 0.000100000005, 0.000100000005, 0.000100000005, 0.000100000005, 0.000100000005, 0.000100000005, 0.000100000005, 0.000100000005, 0.000100000005, 0.000100000005, 0.000100000005, 0.000100000005, 0.000100000005, 0.000100000005, 0.000100000005, 1.0000001e-05, 1.0000001e-05, 1.0000001e-05, 1.0000001e-05, 1.0000001e-05, 1.0000001e-06, 1.0000001e-06, 1.0000001e-06, 1.0000001e-06, 1.0000001e-06, 1.0000001e-07, 1.0000001e-07, 1.0000001e-07, 1.0000001e-07]\n"
          ],
          "name": "stdout"
        }
      ]
    },
    {
      "cell_type": "code",
      "metadata": {
        "id": "eI600LL-xNDA",
        "colab": {
          "base_uri": "https://localhost:8080/",
          "height": 295
        },
        "outputId": "a8741bef-3e63-4cd1-cb79-6791c11d0209"
      },
      "source": [
        "plt.plot(history.history['dice_score'])\n",
        "plt.plot(history.history['val_dice_score'])\n",
        "plt.title('Model dice_score')\n",
        "plt.ylabel('dice_score')\n",
        "plt.xlabel('Epoch')\n",
        "plt.legend(['Train', 'Test'], loc='upper left')\n",
        "plt.show()"
      ],
      "execution_count": null,
      "outputs": [
        {
          "output_type": "display_data",
          "data": {
            "image/png": "[encoded data removed]",
            "text/plain": [
              "<Figure size 432x288 with 1 Axes>"
            ]
          },
          "metadata": {
            "tags": [],
            "needs_background": "light"
          }
        }
      ]
    },
    {
      "cell_type": "code",
      "metadata": {
        "id": "tnBtfnueaZSI",
        "colab": {
          "base_uri": "https://localhost:8080/",
          "height": 235
        },
        "outputId": "8674af38-5f0f-4c23-a032-4a4f36d87755"
      },
      "source": [
        "import matplotlib.pyplot as plt\n",
        "#print(history.history.keys())\n",
        "#history = model.fit(x, y, validation_split=0.25, epochs=50, batch_size=16, verbose=1)\n",
        "\n",
        "# Plot training & validation accuracy values\n",
        "plt.plot(history.history['acc'])\n",
        "plt.plot(history.history['val_acc'])\n",
        "plt.title('Model accuracy')\n",
        "plt.ylabel('Accuracy')\n",
        "plt.xlabel('Epoch')\n",
        "plt.legend(['Train', 'Test'], loc='upper left')\n",
        "plt.show()\n",
        "\n",
        "# Plot training & validation loss values\n",
        "plt.plot(history.history['loss'])\n",
        "print(history.history['loss'])\n",
        "plt.plot(history.history['val_loss'])\n",
        "plt.title('Model loss')\n",
        "plt.ylabel('Loss')\n",
        "plt.xlabel('Epoch')\n",
        "plt.legend(['Train', 'Test'], loc='upper left')\n",
        "plt.show()\n",
        "#plt.savefig('drive/My Drive/Model loss.png')\n",
        "\n",
        "plt.plot(history.history['dice_score'])\n",
        "plt.plot(history.history['val_dice_score'])\n",
        "plt.title('Model dice_score')\n",
        "plt.ylabel('dice_score')\n",
        "plt.xlabel('Epoch')\n",
        "plt.legend(['Train', 'Test'], loc='upper left')\n",
        "plt.show()\n",
        "\n",
        "plt.plot(history.history['IoU'])\n",
        "plt.plot(history.history['val_IoU'])\n",
        "plt.title('Model IoU')\n",
        "plt.ylabel('dice_score')\n",
        "plt.xlabel('Epoch')\n",
        "plt.legend(['Train', 'Test'], loc='upper left')\n",
        "plt.show()"
      ],
      "execution_count": null,
      "outputs": [
        {
          "output_type": "error",
          "ename": "KeyError",
          "evalue": "ignored",
          "traceback": [
            "\u001b[0;31m---------------------------------------------------------------------------\u001b[0m",
            "\u001b[0;31mKeyError\u001b[0m                                  Traceback (most recent call last)",
            "\u001b[0;32m<ipython-input-31-662fd76988bb>\u001b[0m in \u001b[0;36m<module>\u001b[0;34m()\u001b[0m\n\u001b[1;32m      4\u001b[0m \u001b[0;34m\u001b[0m\u001b[0m\n\u001b[1;32m      5\u001b[0m \u001b[0;31m# Plot training & validation accuracy values\u001b[0m\u001b[0;34m\u001b[0m\u001b[0;34m\u001b[0m\u001b[0;34m\u001b[0m\u001b[0m\n\u001b[0;32m----> 6\u001b[0;31m \u001b[0mplt\u001b[0m\u001b[0;34m.\u001b[0m\u001b[0mplot\u001b[0m\u001b[0;34m(\u001b[0m\u001b[0mhistory\u001b[0m\u001b[0;34m.\u001b[0m\u001b[0mhistory\u001b[0m\u001b[0;34m[\u001b[0m\u001b[0;34m'acc'\u001b[0m\u001b[0;34m]\u001b[0m\u001b[0;34m)\u001b[0m\u001b[0;34m\u001b[0m\u001b[0;34m\u001b[0m\u001b[0m\n\u001b[0m\u001b[1;32m      7\u001b[0m \u001b[0mplt\u001b[0m\u001b[0;34m.\u001b[0m\u001b[0mplot\u001b[0m\u001b[0;34m(\u001b[0m\u001b[0mhistory\u001b[0m\u001b[0;34m.\u001b[0m\u001b[0mhistory\u001b[0m\u001b[0;34m[\u001b[0m\u001b[0;34m'val_acc'\u001b[0m\u001b[0;34m]\u001b[0m\u001b[0;34m)\u001b[0m\u001b[0;34m\u001b[0m\u001b[0;34m\u001b[0m\u001b[0m\n\u001b[1;32m      8\u001b[0m \u001b[0mplt\u001b[0m\u001b[0;34m.\u001b[0m\u001b[0mtitle\u001b[0m\u001b[0;34m(\u001b[0m\u001b[0;34m'Model accuracy'\u001b[0m\u001b[0;34m)\u001b[0m\u001b[0;34m\u001b[0m\u001b[0;34m\u001b[0m\u001b[0m\n",
            "\u001b[0;31mKeyError\u001b[0m: 'acc'"
          ]
        }
      ]
    },
    {
      "cell_type": "code",
      "metadata": {
        "id": "IjXSCRsoaZ7A",
        "colab": {
          "base_uri": "https://localhost:8080/",
          "height": 295
        },
        "outputId": "e8bd4b84-d8ae-40fb-fb21-742af5fdc07b"
      },
      "source": [
        "plt.plot(history.history['lr'])\n",
        "#plt.plot(history.history['val_lr'])\n",
        "plt.title('Model learning rate')\n",
        "plt.ylabel('learning rate')\n",
        "plt.xlabel('Epoch')\n",
        "plt.legend(['factor=0.1'], loc='upper right')\n",
        "plt.show()\n"
      ],
      "execution_count": null,
      "outputs": [
        {
          "output_type": "display_data",
          "data": {
            "image/png": "[encoded data removed]",
            "text/plain": [
              "<Figure size 432x288 with 1 Axes>"
            ]
          },
          "metadata": {
            "tags": []
          }
        }
      ]
    },
    {
      "cell_type": "code",
      "metadata": {
        "id": "aDMDrIcHcBtV",
        "colab": {
          "base_uri": "https://localhost:8080/"
        },
        "outputId": "62175eb2-61b0-4230-84f6-7cf950a31a4f"
      },
      "source": [
        "model1= Unet_plusplus_with_mixed_pool()\n",
        "model1.load_weights('drive/My Drive/unet++_mixedpool_t1ce_ENHANCING.h5')\n",
        "prediction_masks = model1.predict(test_image)\n",
        "#prediction_masks[prediction_masks>0.5]=1\n",
        "#prediction_masks[pred\"iction_masks<0.5]=0\n",
        "#prediction_masks.shape\n",
        "prediction_masks.shape"
      ],
      "execution_count": null,
      "outputs": [
        {
          "output_type": "execute_result",
          "data": {
            "text/plain": [
              "(1863, 192, 192, 1)"
            ]
          },
          "metadata": {
            "tags": []
          },
          "execution_count": 48
        }
      ]
    },
    {
      "cell_type": "code",
      "metadata": {
        "id": "wVCPGyrAJghB"
      },
      "source": [
        "prediction_masks_test=prediction_masks.copy()\n",
        "prediction_masks_test[prediction_masks_test>0.5]=1\n",
        "prediction_masks_test[prediction_masks_test<0.5]=0"
      ],
      "execution_count": null,
      "outputs": []
    },
    {
      "cell_type": "code",
      "metadata": {
        "id": "DHRsZBaUL85B",
        "colab": {
          "base_uri": "https://localhost:8080/"
        },
        "outputId": "b5552d11-3839-4409-b53a-5294d6ac128f"
      },
      "source": [
        "\n",
        "plt.figure(figsize=[5,5])\n",
        "prediction_masks_test=prediction_masks.copy()\n",
        "prediction_masks_test[prediction_masks>0.5]=1\n",
        "prediction_masks_test[prediction_masks<0.5]=0\n",
        "# Display the first image in training data\n",
        "#plt.subplot(131)\n",
        "#curr_img = np.reshape(images_test[90], (240,240))\n",
        "#plt.imshow(curr_img, cmap='gray')\n",
        "\n",
        "# Display the first image in testing data\n",
        "plt.subplot(132)\n",
        "curr_img = np.reshape(test_mask[100], (192,192))\n",
        "plt.imshow(curr_img, cmap='gray')\n",
        "\n",
        "plt.subplot(133)\n",
        "curr_img = np.reshape(prediction_masks_test[100], (192,192))\n",
        "plt.imshow(curr_img, cmap='gray')\n",
        "\n"
      ],
      "execution_count": null,
      "outputs": [
        {
          "output_type": "execute_result",
          "data": {
            "text/plain": [
              "<matplotlib.image.AxesImage at 0x7f585e3b6ef0>"
            ]
          },
          "metadata": {
            "tags": []
          },
          "execution_count": 50
        },
        {
          "output_type": "display_data",
          "data": {
            "image/png": "[encoded data removed]",
            "text/plain": [
              "<Figure size 360x360 with 2 Axes>"
            ]
          },
          "metadata": {
            "tags": [],
            "needs_background": "light"
          }
        }
      ]
    },
    {
      "cell_type": "code",
      "metadata": {
        "id": "FyZGUA4S-OB0",
        "colab": {
          "base_uri": "https://localhost:8080/"
        },
        "outputId": "d8e758fe-d850-4242-ada6-90f228a977e2"
      },
      "source": [
        "from sklearn.metrics import mean_squared_error , f1_score\n",
        "mse=mean_squared_error(test_mask.reshape(-1),prediction_masks_test.reshape(-1))\n",
        "print(mse)\n",
        "from sklearn.metrics import confusion_matrix\n",
        "#results = confusion_matrix(test_mask.reshape(-1),prediction_masks_test.reshape(-1))\n",
        "results=f1_score(test_mask.reshape(-1),prediction_masks_test.reshape(-1),average='macro')\n",
        "print(results)"
      ],
      "execution_count": null,
      "outputs": [
        {
          "output_type": "stream",
          "text": [
            "0.0051623504\n",
            "0.9232003452793278\n"
          ],
          "name": "stdout"
        }
      ]
    },
    {
      "cell_type": "code",
      "metadata": {
        "id": "xa6DDVECTSKj",
        "colab": {
          "base_uri": "https://localhost:8080/"
        },
        "outputId": "880195d9-e202-4a61-9369-ca287ff42031"
      },
      "source": [
        "sensitivity1 = results[0,0]/(results[0,0]+results[0,1])\n",
        "print('Sensitivity : ', sensitivity1 )\n",
        "\n",
        "specificity1 = results[1,1]/(results[1,0]+results[1,1])\n",
        "print('Specificity : ', specificity1)\n",
        "\n",
        "accuracy = (results[1,1]+results[0,0])/(results[1,1]+results[1,0]+results[0,1]+results[0,0])\n",
        "print(\"Accuracy: \",accuracy)"
      ],
      "execution_count": null,
      "outputs": [
        {
          "output_type": "stream",
          "text": [
            "Sensitivity :  0.9962678357619908\n",
            "Specificity :  0.8360942272218694\n",
            "Accuracy:  0.9886075869080297\n"
          ],
          "name": "stdout"
        }
      ]
    },
    {
      "cell_type": "code",
      "metadata": {
        "id": "x4L0HyE6A2IK",
        "colab": {
          "base_uri": "https://localhost:8080/",
          "height": 295
        },
        "outputId": "5c048a33-f0a1-41cd-c6c0-181a4f0b5e4d"
      },
      "source": [
        "#Plotting ROC curve\n",
        "from sklearn.metrics import roc_curve,roc_auc_score\n",
        "y_pred = model.predict(test_image).ravel()\n",
        "y_pred [y_pred >0.5]=1\n",
        "y_pred [y_pred <0.5]=0\n",
        "#y_prob=.model.predict_proba(test_image)\n",
        "fpr_keras, tpr_keras, thresholds_keras = roc_curve(test_mask.reshape(-1), y_pred.reshape(-1))\n",
        "#fpr , tpr , thresholds = roc_curve ( test_mask , y_val_cat_prob)\n",
        "from sklearn.metrics import auc\n",
        "auc_keras = auc(fpr_keras, tpr_keras)\n",
        "\n",
        "plt.figure(1)\n",
        "plt.plot([0, 1], [0, 1], 'k--')\n",
        "plt.plot(fpr_keras, tpr_keras, label='t2_edema (area = {:.3f})'.format(auc_keras))\n",
        "\n",
        "plt.xlabel('False positive rate')\n",
        "plt.ylabel('True positive rate')\n",
        "plt.title('ROC curve')\n",
        "plt.legend(loc='best')\n",
        "plt.show()"
      ],
      "execution_count": null,
      "outputs": [
        {
          "output_type": "display_data",
          "data": {
            "image/png": "[encoded data removed]",
            "text/plain": [
              "<Figure size 432x288 with 1 Axes>"
            ]
          },
          "metadata": {
            "tags": []
          }
        }
      ]
    },
    {
      "cell_type": "code",
      "metadata": {
        "id": "8gtLZjtn_DI1",
        "colab": {
          "base_uri": "https://localhost:8080/",
          "height": 167
        },
        "outputId": "4e4f7308-c8a0-41ca-a74f-3d700ad8ac07"
      },
      "source": [
        "from sklearn.metrics import classification_report\n",
        "print(classification_report(prediction_masks_test.reshape(-1),test_mask.reshape(-1)))"
      ],
      "execution_count": null,
      "outputs": [
        {
          "output_type": "stream",
          "text": [
            "              precision    recall  f1-score   support\n",
            "\n",
            "         0.0       0.99      0.99      0.99  73837794\n",
            "         1.0       0.80      0.84      0.82   4350750\n",
            "\n",
            "    accuracy                           0.98  78188544\n",
            "   macro avg       0.90      0.91      0.90  78188544\n",
            "weighted avg       0.98      0.98      0.98  78188544\n",
            "\n"
          ],
          "name": "stdout"
        }
      ]
    },
    {
      "cell_type": "code",
      "metadata": {
        "id": "kyXDKzSMow8Z",
        "colab": {
          "base_uri": "https://localhost:8080/",
          "height": 35
        },
        "outputId": "fa2f5c69-3775-4a8a-b362-0ef8a8cd6754"
      },
      "source": [
        "from sklearn.metrics import f1_score\n",
        "score = f1_score(test_mask.reshape(-1), prediction_masks_test.reshape(-1),average='macro')\n",
        "# print\n",
        "print(score)"
      ],
      "execution_count": null,
      "outputs": [
        {
          "output_type": "stream",
          "text": [
            "0.93466944912473\n"
          ],
          "name": "stdout"
        }
      ]
    },
    {
      "cell_type": "code",
      "metadata": {
        "id": "8u_xV8P2ncE7"
      },
      "source": [
        "from sklearn.metrics import jaccard_score\n",
        "jaccard_score(test_mask.reshape(-1), prediction_masks_test.reshape(-1),pos_label=1, average='binary')\n"
      ],
      "execution_count": null,
      "outputs": []
    },
    {
      "cell_type": "markdown",
      "metadata": {
        "id": "rTk0oFAUI6X_"
      },
      "source": [
        "# Volume Calculation"
      ]
    },
    {
      "cell_type": "code",
      "metadata": {
        "id": "2TzIwMpz1qbB"
      },
      "source": [
        "label_value=4\n",
        "image_location = \"drive/My Drive/t1ce/\"\n",
        "mask_location = \"drive/My Drive/seg/\""
      ],
      "execution_count": null,
      "outputs": []
    },
    {
      "cell_type": "code",
      "metadata": {
        "id": "XKt3h6131VdE"
      },
      "source": [
        "df = pd.read_csv('drive/My Drive/survival_data-2017.csv')"
      ],
      "execution_count": null,
      "outputs": []
    },
    {
      "cell_type": "code",
      "metadata": {
        "id": "3CUH-2eo120s",
        "colab": {
          "base_uri": "https://localhost:8080/",
          "height": 52
        },
        "outputId": "db242da0-5e09-46f4-9d5c-dc10785d5172"
      },
      "source": [
        "print(df.columns)\n",
        "print(df['Brats17ID'].values[0]+'_'+image_location.split('/')[-2]+'.nii.gz')"
      ],
      "execution_count": null,
      "outputs": [
        {
          "output_type": "stream",
          "text": [
            "Index(['Brats17ID', 'Age', 'Survival'], dtype='object')\n",
            "Brats17_TCIA_167_1_t1ce.nii.gz\n"
          ],
          "name": "stdout"
        }
      ]
    },
    {
      "cell_type": "code",
      "metadata": {
        "id": "SaYXT3AO08Ka"
      },
      "source": [
        "survival_list = df['Brats17ID'].values.copy()"
      ],
      "execution_count": null,
      "outputs": []
    },
    {
      "cell_type": "code",
      "metadata": {
        "id": "HQD2KWD74Q8L",
        "colab": {
          "base_uri": "https://localhost:8080/",
          "height": 35
        },
        "outputId": "dcd1f557-a1dc-4d0a-c79e-7f90ea158f2d"
      },
      "source": [
        "survival_list[1]"
      ],
      "execution_count": null,
      "outputs": [
        {
          "output_type": "execute_result",
          "data": {
            "text/plain": [
              "'Brats17_TCIA_242_1'"
            ]
          },
          "metadata": {
            "tags": []
          },
          "execution_count": 23
        }
      ]
    },
    {
      "cell_type": "code",
      "metadata": {
        "id": "dU1a0NnZ9B_q"
      },
      "source": [
        "#_______Fiding non-zero mask index____________\n",
        "    print(\"Finding white slices...\")\n",
        "    image_location = image_loc\n",
        "    mask_location = \"drive/My Drive/seg/\"\n",
        "    sorted_image_list = sorted(os.listdir(image_location))\n",
        "    sorted_mask_list = sorted(os.listdir(mask_location))\n",
        "    non_zero_index=[]\n",
        "\n",
        "    for i in range(210):\n",
        "        #print(\"i \"+str(i))\n",
        "        #globber_image = glob.glob(image_location + sorted_image_list[i])\n",
        "        globber_mask = glob.glob(mask_location + sorted_mask_list[i])\n",
        "        #images = sisitktk.ReadImage(globber_image[0])\n",
        "        masks = sitk.ReadImage(globber_mask[0])\n",
        "        masks = sitk.GetArrayFromImage(masks)\n",
        "        #images = sitk.GetArrayFromImage(images)\n",
        "        #masks=to_categorical(masks,num_classes=5)\n",
        "        masks=tumor(masks,label_value)\n",
        "        #if label_num == 4:\n",
        "          #masks[masks != 4] = 0\n",
        "          #masks[masks == 4] = 1\n",
        "        #masks=masks[:,:,:,4]\n",
        "        start=-1\n",
        "        print(\"Calculating image \"+str(i))\n",
        "        for j in range(155):\n",
        "          if(np.max(masks[j])==1):\n",
        "              #print(\"found\")\n",
        "              #print(j)\n",
        "              start=j\n",
        "              break\n",
        "        for j in range(155):\n",
        "            if(np.max(masks[154-j])==1):\n",
        "              non_zero_index.append((start,154-j))\n",
        "              #print(154-j)\n",
        "              break\n",
        "        del masks\n",
        "    print(\"Finished.\")"
      ],
      "execution_count": null,
      "outputs": []
    },
    {
      "cell_type": "code",
      "metadata": {
        "id": "samd6tzzI39e",
        "colab": {
          "base_uri": "https://localhost:8080/",
          "height": 1000
        },
        "outputId": "8fb94223-28d0-40fc-c7a0-762d379d3bed"
      },
      "source": [
        "df = pd.read_csv('drive/My Drive/survival_data-2017.csv')\n",
        "label_value=6\n",
        "saving_location='Necrotic_t1ce_stats_withsurvival.csv'\n",
        "survival_list = df['Brats17ID'].values.copy()\n",
        "model1= Unet_plusplus_with_mixed_pool()\n",
        "model1.load_weights('drive/My Drive/unet++_mixedpool_t1ce_NECROTIC.h5')\n",
        "tumor_volume=[]\n",
        "tumor_actual_volume=[]\n",
        "survival_name=[]\n",
        "modality = image_location.split('/')[-2]\n",
        "for i in range(0,163):\n",
        "  image=[]\n",
        "  mask=[]\n",
        "  print(\"Finding volume of patient \"+str(i))\n",
        "  image_list_val = survival_list[i]+'_'+modality+'.nii.gz'\n",
        "  mask_list_val = survival_list[i]+'_seg.nii.gz'\n",
        "  globber_image = glob.glob(image_location + image_list_val)\n",
        "  globber_mask = glob.glob(mask_location + mask_list_val)\n",
        "  images = sitk.ReadImage(globber_image[0])\n",
        "  masks = sitk.ReadImage(globber_mask[0])\n",
        "  masks = sitk.GetArrayFromImage(masks)\n",
        "  images = sitk.GetArrayFromImage(images)\n",
        "  masks=tumor(masks,label_value)\n",
        "  start=-1\n",
        "  print(\"Calculating image \"+str(i))\n",
        "  for j in range(155):\n",
        "    if(np.max(masks[j])==1):\n",
        "      start=j\n",
        "      break\n",
        "  for j in range(155):\n",
        "    if(np.max(masks[154-j])==1):\n",
        "        break\n",
        "  #if label_num == 4:\n",
        "         # masks[masks != 4] = 0\n",
        "          #masks[masks == 4] = 1\n",
        "  #masks=to_categorical(masks,num_classes=5)\n",
        "  masks=masks[:,24:216,24:216]\n",
        "  images=images[:,24:216,24:216]\n",
        "  for j in range(start,155-j):\n",
        "    #masks=masks[non_zero_index[i][0]:non_zero_index[i][1],24:216,24:216,4].reshape(-1,192,192,1)\n",
        "    #images=images[non_zero_index[i][0]:non_zero_index[i][1],24:216,24:216].reshape(-1,192,192,1)\n",
        "    #if(np.sum(masks[j])>=400):\n",
        "    image.append(np.array(images[j]).reshape(-1,192,192))\n",
        "    mask.append(np.array(masks[j]).reshape(-1,192,192))\n",
        "  prediction_masks = model1.predict(np.array(image).reshape(-1,192,192,1))\n",
        "  prediction_masks_test=prediction_masks.copy()\n",
        "  prediction_masks_test[prediction_masks>=0.5]=1\n",
        "  prediction_masks_test[prediction_masks<0.5]=0\n",
        "  survival_name.append(survival_list[i])\n",
        "  tumor_volume.append(np.sum(np.sum(np.sum(prediction_masks_test))))\n",
        "  tumor_actual_volume.append(np.sum(np.sum(np.sum(mask))))\n",
        "\n",
        "  print(\"Predicted: \"+str(tumor_volume[i])+\" Actual: \"+str(tumor_actual_volume[i]))\n",
        "\n",
        "\n"
      ],
      "execution_count": null,
      "outputs": [
        {
          "output_type": "stream",
          "text": [
            "Finding volume of patient 0\n",
            "Calculating image 0\n",
            "Predicted: 24635.0 Actual: 26654\n",
            "Finding volume of patient 1\n",
            "Calculating image 1\n",
            "Predicted: 11182.0 Actual: 9087\n",
            "Finding volume of patient 2\n",
            "Calculating image 2\n",
            "Predicted: 5124.0 Actual: 11694\n",
            "Finding volume of patient 3\n",
            "Calculating image 3\n",
            "Predicted: 47296.0 Actual: 28927\n",
            "Finding volume of patient 4\n",
            "Calculating image 4\n",
            "Predicted: 2907.0 Actual: 3274\n",
            "Finding volume of patient 5\n",
            "Calculating image 5\n",
            "Predicted: 5.0 Actual: 47\n",
            "Finding volume of patient 6\n",
            "Calculating image 6\n",
            "Predicted: 56.0 Actual: 1590\n",
            "Finding volume of patient 7\n",
            "Calculating image 7\n",
            "Predicted: 28596.0 Actual: 32228\n",
            "Finding volume of patient 8\n",
            "Calculating image 8\n",
            "Predicted: 16039.0 Actual: 22932\n",
            "Finding volume of patient 9\n",
            "Calculating image 9\n",
            "Predicted: 9118.0 Actual: 8769\n",
            "Finding volume of patient 10\n",
            "Calculating image 10\n",
            "Predicted: 25340.0 Actual: 23009\n",
            "Finding volume of patient 11\n",
            "Calculating image 11\n",
            "Predicted: 23878.0 Actual: 31605\n",
            "Finding volume of patient 12\n",
            "Calculating image 12\n",
            "Predicted: 1287.0 Actual: 10590\n",
            "Finding volume of patient 13\n",
            "Calculating image 13\n",
            "Predicted: 79323.0 Actual: 76834\n",
            "Finding volume of patient 14\n",
            "Calculating image 14\n",
            "Predicted: 11439.0 Actual: 10326\n",
            "Finding volume of patient 15\n",
            "Calculating image 15\n",
            "Predicted: 57998.0 Actual: 52012\n",
            "Finding volume of patient 16\n",
            "Calculating image 16\n",
            "Predicted: 0.0 Actual: 60\n",
            "Finding volume of patient 17\n",
            "Calculating image 17\n",
            "Predicted: 6361.0 Actual: 4556\n",
            "Finding volume of patient 18\n",
            "Calculating image 18\n",
            "Predicted: 38.0 Actual: 574\n",
            "Finding volume of patient 19\n",
            "Calculating image 19\n",
            "Predicted: 4917.0 Actual: 6323\n",
            "Finding volume of patient 20\n",
            "Calculating image 20\n",
            "Predicted: 4021.0 Actual: 3342\n",
            "Finding volume of patient 21\n",
            "Calculating image 21\n",
            "Predicted: 257.0 Actual: 1167\n",
            "Finding volume of patient 22\n",
            "Calculating image 22\n",
            "Predicted: 4595.0 Actual: 7774\n",
            "Finding volume of patient 23\n",
            "Calculating image 23\n",
            "Predicted: 46352.0 Actual: 8971\n",
            "Finding volume of patient 24\n",
            "Calculating image 24\n",
            "Predicted: 39174.0 Actual: 35326\n",
            "Finding volume of patient 25\n",
            "Calculating image 25\n",
            "Predicted: 3503.0 Actual: 2506\n",
            "Finding volume of patient 26\n",
            "Calculating image 26\n",
            "Predicted: 235.0 Actual: 2287\n",
            "Finding volume of patient 27\n",
            "Calculating image 27\n",
            "Predicted: 18183.0 Actual: 17679\n",
            "Finding volume of patient 28\n",
            "Calculating image 28\n",
            "Predicted: 9182.0 Actual: 8884\n",
            "Finding volume of patient 29\n",
            "Calculating image 29\n",
            "Predicted: 8135.0 Actual: 7328\n",
            "Finding volume of patient 30\n",
            "Calculating image 30\n",
            "Predicted: 30856.0 Actual: 21404\n",
            "Finding volume of patient 31\n",
            "Calculating image 31\n",
            "Predicted: 3370.0 Actual: 3066\n",
            "Finding volume of patient 32\n",
            "Calculating image 32\n",
            "Predicted: 23819.0 Actual: 21996\n",
            "Finding volume of patient 33\n",
            "Calculating image 33\n",
            "Predicted: 8978.0 Actual: 10058\n",
            "Finding volume of patient 34\n",
            "Calculating image 34\n",
            "Predicted: 4538.0 Actual: 4749\n",
            "Finding volume of patient 35\n",
            "Calculating image 35\n",
            "Predicted: 13044.0 Actual: 15982\n",
            "Finding volume of patient 36\n",
            "Calculating image 36\n",
            "Predicted: 616.0 Actual: 319\n",
            "Finding volume of patient 37\n",
            "Calculating image 37\n",
            "Predicted: 619.0 Actual: 460\n",
            "Finding volume of patient 38\n",
            "Calculating image 38\n",
            "Predicted: 3680.0 Actual: 3940\n",
            "Finding volume of patient 39\n",
            "Calculating image 39\n",
            "Predicted: 10569.0 Actual: 5991\n",
            "Finding volume of patient 40\n",
            "Calculating image 40\n",
            "Predicted: 5854.0 Actual: 3614\n",
            "Finding volume of patient 41\n",
            "Calculating image 41\n",
            "Predicted: 6571.0 Actual: 6284\n",
            "Finding volume of patient 42\n",
            "Calculating image 42\n",
            "Predicted: 14150.0 Actual: 11141\n",
            "Finding volume of patient 43\n",
            "Calculating image 43\n",
            "Predicted: 43955.0 Actual: 39266\n",
            "Finding volume of patient 44\n",
            "Calculating image 44\n",
            "Predicted: 18614.0 Actual: 17388\n",
            "Finding volume of patient 45\n",
            "Calculating image 45\n",
            "Predicted: 10603.0 Actual: 15951\n",
            "Finding volume of patient 46\n",
            "Calculating image 46\n",
            "Predicted: 213.0 Actual: 326\n",
            "Finding volume of patient 47\n",
            "Calculating image 47\n",
            "Predicted: 7538.0 Actual: 6401\n",
            "Finding volume of patient 48\n",
            "Calculating image 48\n",
            "Predicted: 2011.0 Actual: 1719\n",
            "Finding volume of patient 49\n",
            "Calculating image 49\n",
            "Predicted: 12021.0 Actual: 17111\n",
            "Finding volume of patient 50\n",
            "Calculating image 50\n",
            "Predicted: 9872.0 Actual: 8759\n",
            "Finding volume of patient 51\n",
            "Calculating image 51\n",
            "Predicted: 14363.0 Actual: 18787\n",
            "Finding volume of patient 52\n",
            "Calculating image 52\n",
            "Predicted: 14320.0 Actual: 15565\n",
            "Finding volume of patient 53\n",
            "Calculating image 53\n",
            "Predicted: 10034.0 Actual: 7195\n",
            "Finding volume of patient 54\n",
            "Calculating image 54\n",
            "Predicted: 3494.0 Actual: 2147\n",
            "Finding volume of patient 55\n",
            "Calculating image 55\n",
            "Predicted: 1082.0 Actual: 736\n",
            "Finding volume of patient 56\n",
            "Calculating image 56\n",
            "Predicted: 16733.0 Actual: 15826\n",
            "Finding volume of patient 57\n",
            "Calculating image 57\n",
            "Predicted: 3051.0 Actual: 1665\n",
            "Finding volume of patient 58\n",
            "Calculating image 58\n",
            "Predicted: 17604.0 Actual: 12627\n",
            "Finding volume of patient 59\n",
            "Calculating image 59\n",
            "Predicted: 0.0 Actual: 204\n",
            "Finding volume of patient 60\n",
            "Calculating image 60\n",
            "Predicted: 12936.0 Actual: 16013\n",
            "Finding volume of patient 61\n",
            "Calculating image 61\n",
            "Predicted: 3568.0 Actual: 3277\n",
            "Finding volume of patient 62\n",
            "Calculating image 62\n",
            "Predicted: 15094.0 Actual: 25826\n",
            "Finding volume of patient 63\n",
            "Calculating image 63\n",
            "Predicted: 9310.0 Actual: 11978\n",
            "Finding volume of patient 64\n",
            "Calculating image 64\n",
            "Predicted: 10990.0 Actual: 9905\n",
            "Finding volume of patient 65\n",
            "Calculating image 65\n",
            "Predicted: 30777.0 Actual: 27014\n",
            "Finding volume of patient 66\n",
            "Calculating image 66\n",
            "Predicted: 213.0 Actual: 8969\n",
            "Finding volume of patient 67\n",
            "Calculating image 67\n",
            "Predicted: 15719.0 Actual: 11908\n",
            "Finding volume of patient 68\n",
            "Calculating image 68\n",
            "Predicted: 5692.0 Actual: 4212\n",
            "Finding volume of patient 69\n",
            "Calculating image 69\n",
            "Predicted: 13951.0 Actual: 13188\n",
            "Finding volume of patient 70\n",
            "Calculating image 70\n",
            "Predicted: 24317.0 Actual: 25394\n",
            "Finding volume of patient 71\n",
            "Calculating image 71\n",
            "Predicted: 8390.0 Actual: 7137\n",
            "Finding volume of patient 72\n",
            "Calculating image 72\n",
            "Predicted: 8093.0 Actual: 7587\n",
            "Finding volume of patient 73\n",
            "Calculating image 73\n",
            "Predicted: 12281.0 Actual: 48610\n",
            "Finding volume of patient 74\n",
            "Calculating image 74\n",
            "Predicted: 0.0 Actual: 4349\n",
            "Finding volume of patient 75\n",
            "Calculating image 75\n",
            "Predicted: 0.0 Actual: 384\n",
            "Finding volume of patient 76\n",
            "Calculating image 76\n",
            "Predicted: 52530.0 Actual: 45839\n",
            "Finding volume of patient 77\n",
            "Calculating image 77\n",
            "Predicted: 13818.0 Actual: 11727\n",
            "Finding volume of patient 78\n",
            "Calculating image 78\n",
            "Predicted: 3111.0 Actual: 2310\n",
            "Finding volume of patient 79\n",
            "Calculating image 79\n",
            "Predicted: 0.0 Actual: 455\n",
            "Finding volume of patient 80\n",
            "Calculating image 80\n",
            "Predicted: 3229.0 Actual: 3391\n",
            "Finding volume of patient 81\n",
            "Calculating image 81\n",
            "Predicted: 1829.0 Actual: 1777\n",
            "Finding volume of patient 82\n",
            "Calculating image 82\n",
            "Predicted: 9834.0 Actual: 9230\n",
            "Finding volume of patient 83\n",
            "Calculating image 83\n",
            "Predicted: 2469.0 Actual: 3872\n",
            "Finding volume of patient 84\n",
            "Calculating image 84\n",
            "Predicted: 0.0 Actual: 2139\n",
            "Finding volume of patient 85\n",
            "Calculating image 85\n",
            "Predicted: 1175.0 Actual: 2853\n",
            "Finding volume of patient 86\n",
            "Calculating image 86\n",
            "Predicted: 3594.0 Actual: 3736\n",
            "Finding volume of patient 87\n",
            "Calculating image 87\n",
            "Predicted: 2932.0 Actual: 8432\n",
            "Finding volume of patient 88\n",
            "Calculating image 88\n",
            "Predicted: 85431.0 Actual: 80489\n",
            "Finding volume of patient 89\n",
            "Calculating image 89\n",
            "Predicted: 14140.0 Actual: 15955\n",
            "Finding volume of patient 90\n",
            "Calculating image 90\n",
            "Predicted: 7380.0 Actual: 7469\n",
            "Finding volume of patient 91\n",
            "Calculating image 91\n",
            "Predicted: 7671.0 Actual: 10817\n",
            "Finding volume of patient 92\n",
            "Calculating image 92\n",
            "Predicted: 3354.0 Actual: 5976\n",
            "Finding volume of patient 93\n",
            "Calculating image 93\n",
            "Predicted: 19433.0 Actual: 22543\n",
            "Finding volume of patient 94\n",
            "Calculating image 94\n",
            "Predicted: 16645.0 Actual: 19298\n",
            "Finding volume of patient 95\n",
            "Calculating image 95\n",
            "Predicted: 16767.0 Actual: 19830\n",
            "Finding volume of patient 96\n",
            "Calculating image 96\n",
            "Predicted: 11469.0 Actual: 13856\n",
            "Finding volume of patient 97\n",
            "Calculating image 97\n",
            "Predicted: 6575.0 Actual: 6796\n",
            "Finding volume of patient 98\n",
            "Calculating image 98\n",
            "Predicted: 899.0 Actual: 1034\n",
            "Finding volume of patient 99\n",
            "Calculating image 99\n",
            "Predicted: 39557.0 Actual: 44601\n",
            "Finding volume of patient 100\n",
            "Calculating image 100\n",
            "Predicted: 55.0 Actual: 782\n",
            "Finding volume of patient 101\n",
            "Calculating image 101\n",
            "Predicted: 18191.0 Actual: 20008\n",
            "Finding volume of patient 102\n",
            "Calculating image 102\n",
            "Predicted: 5049.0 Actual: 6878\n",
            "Finding volume of patient 103\n",
            "Calculating image 103\n",
            "Predicted: 18780.0 Actual: 18358\n",
            "Finding volume of patient 104\n",
            "Calculating image 104\n",
            "Predicted: 228.0 Actual: 901\n",
            "Finding volume of patient 105\n",
            "Calculating image 105\n",
            "Predicted: 11308.0 Actual: 10482\n",
            "Finding volume of patient 106\n",
            "Calculating image 106\n",
            "Predicted: 3015.0 Actual: 3149\n",
            "Finding volume of patient 107\n",
            "Calculating image 107\n",
            "Predicted: 7829.0 Actual: 8872\n",
            "Finding volume of patient 108\n",
            "Calculating image 108\n",
            "Predicted: 4972.0 Actual: 6590\n",
            "Finding volume of patient 109\n",
            "Calculating image 109\n",
            "Predicted: 6759.0 Actual: 6651\n",
            "Finding volume of patient 110\n",
            "Calculating image 110\n",
            "Predicted: 8643.0 Actual: 12395\n",
            "Finding volume of patient 111\n",
            "Calculating image 111\n",
            "Predicted: 5677.0 Actual: 5989\n",
            "Finding volume of patient 112\n",
            "Calculating image 112\n",
            "Predicted: 4510.0 Actual: 4449\n",
            "Finding volume of patient 113\n",
            "Calculating image 113\n",
            "Predicted: 32210.0 Actual: 35661\n",
            "Finding volume of patient 114\n",
            "Calculating image 114\n",
            "Predicted: 441.0 Actual: 1588\n",
            "Finding volume of patient 115\n",
            "Calculating image 115\n",
            "Predicted: 1516.0 Actual: 1420\n",
            "Finding volume of patient 116\n",
            "Calculating image 116\n",
            "Predicted: 27355.0 Actual: 30245\n",
            "Finding volume of patient 117\n",
            "Calculating image 117\n",
            "Predicted: 51.0 Actual: 163\n",
            "Finding volume of patient 118\n",
            "Calculating image 118\n",
            "Predicted: 15453.0 Actual: 16558\n",
            "Finding volume of patient 119\n",
            "Calculating image 119\n",
            "Predicted: 0.0 Actual: 402\n",
            "Finding volume of patient 120\n",
            "Calculating image 120\n",
            "Predicted: 2345.0 Actual: 5082\n",
            "Finding volume of patient 121\n",
            "Calculating image 121\n",
            "Predicted: 20867.0 Actual: 19887\n",
            "Finding volume of patient 122\n",
            "Calculating image 122\n",
            "Predicted: 14263.0 Actual: 19169\n",
            "Finding volume of patient 123\n",
            "Calculating image 123\n",
            "Predicted: 21785.0 Actual: 20192\n",
            "Finding volume of patient 124\n",
            "Calculating image 124\n",
            "Predicted: 6085.0 Actual: 6192\n",
            "Finding volume of patient 125\n",
            "Calculating image 125\n",
            "Predicted: 9843.0 Actual: 10976\n",
            "Finding volume of patient 126\n",
            "Calculating image 126\n",
            "Predicted: 10101.0 Actual: 9752\n",
            "Finding volume of patient 127\n",
            "Calculating image 127\n",
            "Predicted: 560.0 Actual: 585\n",
            "Finding volume of patient 128\n",
            "Calculating image 128\n",
            "Predicted: 11332.0 Actual: 23946\n",
            "Finding volume of patient 129\n",
            "Calculating image 129\n",
            "Predicted: 20850.0 Actual: 20555\n",
            "Finding volume of patient 130\n",
            "Calculating image 130\n",
            "Predicted: 6024.0 Actual: 8346\n",
            "Finding volume of patient 131\n",
            "Calculating image 131\n",
            "Predicted: 6040.0 Actual: 7867\n",
            "Finding volume of patient 132\n",
            "Calculating image 132\n",
            "Predicted: 5300.0 Actual: 6619\n",
            "Finding volume of patient 133\n",
            "Calculating image 133\n",
            "Predicted: 297.0 Actual: 1748\n",
            "Finding volume of patient 134\n",
            "Calculating image 134\n",
            "Predicted: 1583.0 Actual: 1693\n",
            "Finding volume of patient 135\n",
            "Calculating image 135\n",
            "Predicted: 6875.0 Actual: 5746\n",
            "Finding volume of patient 136\n",
            "Calculating image 136\n",
            "Predicted: 10877.0 Actual: 8653\n",
            "Finding volume of patient 137\n",
            "Calculating image 137\n",
            "Predicted: 12534.0 Actual: 11237\n",
            "Finding volume of patient 138\n",
            "Calculating image 138\n",
            "Predicted: 19866.0 Actual: 19476\n",
            "Finding volume of patient 139\n",
            "Calculating image 139\n",
            "Predicted: 5200.0 Actual: 5200\n",
            "Finding volume of patient 140\n",
            "Calculating image 140\n",
            "Predicted: 5375.0 Actual: 6589\n",
            "Finding volume of patient 141\n",
            "Calculating image 141\n",
            "Predicted: 10172.0 Actual: 12416\n",
            "Finding volume of patient 142\n",
            "Calculating image 142\n",
            "Predicted: 76.0 Actual: 2666\n",
            "Finding volume of patient 143\n",
            "Calculating image 143\n",
            "Predicted: 72152.0 Actual: 91299\n",
            "Finding volume of patient 144\n",
            "Calculating image 144\n",
            "Predicted: 5411.0 Actual: 10734\n",
            "Finding volume of patient 145\n",
            "Calculating image 145\n",
            "Predicted: 227.0 Actual: 341\n",
            "Finding volume of patient 146\n",
            "Calculating image 146\n",
            "Predicted: 6977.0 Actual: 7491\n",
            "Finding volume of patient 147\n",
            "Calculating image 147\n",
            "Predicted: 8313.0 Actual: 28051\n",
            "Finding volume of patient 148\n",
            "Calculating image 148\n",
            "Predicted: 2329.0 Actual: 8675\n",
            "Finding volume of patient 149\n",
            "Calculating image 149\n",
            "Predicted: 9671.0 Actual: 9313\n",
            "Finding volume of patient 150\n",
            "Calculating image 150\n",
            "Predicted: 9059.0 Actual: 10496\n",
            "Finding volume of patient 151\n",
            "Calculating image 151\n",
            "Predicted: 2507.0 Actual: 2307\n",
            "Finding volume of patient 152\n",
            "Calculating image 152\n",
            "Predicted: 1800.0 Actual: 4603\n",
            "Finding volume of patient 153\n",
            "Calculating image 153\n",
            "Predicted: 373.0 Actual: 521\n",
            "Finding volume of patient 154\n",
            "Calculating image 154\n",
            "Predicted: 22648.0 Actual: 25359\n",
            "Finding volume of patient 155\n",
            "Calculating image 155\n",
            "Predicted: 91.0 Actual: 157\n",
            "Finding volume of patient 156\n",
            "Calculating image 156\n",
            "Predicted: 3433.0 Actual: 3398\n",
            "Finding volume of patient 157\n",
            "Calculating image 157\n",
            "Predicted: 9922.0 Actual: 19827\n",
            "Finding volume of patient 158\n",
            "Calculating image 158\n",
            "Predicted: 1922.0 Actual: 3624\n",
            "Finding volume of patient 159\n",
            "Calculating image 159\n",
            "Predicted: 8949.0 Actual: 10902\n",
            "Finding volume of patient 160\n",
            "Calculating image 160\n",
            "Predicted: 606.0 Actual: 733\n",
            "Finding volume of patient 161\n",
            "Calculating image 161\n",
            "Predicted: 9674.0 Actual: 9160\n",
            "Finding volume of patient 162\n",
            "Calculating image 162\n",
            "Predicted: 16661.0 Actual: 15443\n"
          ],
          "name": "stdout"
        }
      ]
    },
    {
      "cell_type": "code",
      "metadata": {
        "id": "uk-mlbxdK7d2",
        "colab": {
          "base_uri": "https://localhost:8080/",
          "height": 52
        },
        "outputId": "53497bf6-6909-4016-dffe-17cd001fdd55"
      },
      "source": [
        "print(\"predicted tumor volume: \"+str(tumor_volume))\n",
        "print(\"actual tumor volume: \"+str(np.sum(np.sum(np.sum(mask)))))"
      ],
      "execution_count": null,
      "outputs": [
        {
          "output_type": "stream",
          "text": [
            "predicted tumor volume: 106130.0\n",
            "actual tumor volume: 101416\n"
          ],
          "name": "stdout"
        }
      ]
    },
    {
      "cell_type": "code",
      "metadata": {
        "id": "BIQNVSYD45Sd",
        "colab": {
          "base_uri": "https://localhost:8080/",
          "height": 35
        },
        "outputId": "787135b1-f7c0-4839-eaad-f14d757b3ada"
      },
      "source": [
        "tumor_volume."
      ],
      "execution_count": null,
      "outputs": [
        {
          "output_type": "execute_result",
          "data": {
            "text/plain": [
              "[66517.0, 28338.0, 33936.0, 175920.0, 6725.0]"
            ]
          },
          "metadata": {
            "tags": []
          },
          "execution_count": 37
        }
      ]
    },
    {
      "cell_type": "code",
      "metadata": {
        "id": "KPEkCAI76YaV"
      },
      "source": [
        "#d = {'Brats17ID': survival_name,'Predicted_complete_t2_tumor_volume':tumor_volume,'Actual_complete_t2_tumor_volume':tumor_actual_volume}\n",
        "df['Predicted_complete_t2_tumor_volume']=tumor_volume\n",
        "df['Actual_complete_t2_tumor_volume']=tumor_actual_volume\n",
        "#df1 = pd.DataFrame(d)"
      ],
      "execution_count": null,
      "outputs": []
    },
    {
      "cell_type": "code",
      "metadata": {
        "id": "TMwgGnDF6w-N",
        "colab": {
          "base_uri": "https://localhost:8080/",
          "height": 415
        },
        "outputId": "e010800a-96ef-4e12-af40-6afb74e3d305"
      },
      "source": [
        "df"
      ],
      "execution_count": null,
      "outputs": [
        {
          "output_type": "execute_result",
          "data": {
            "text/html": [
              "<div>\n",
              "<style scoped>\n",
              "    .dataframe tbody tr th:only-of-type {\n",
              "        vertical-align: middle;\n",
              "    }\n",
              "\n",
              "    .dataframe tbody tr th {\n",
              "        vertical-align: top;\n",
              "    }\n",
              "\n",
              "    .dataframe thead th {\n",
              "        text-align: right;\n",
              "    }\n",
              "</style>\n",
              "<table border=\"1\" class=\"dataframe\">\n",
              "  <thead>\n",
              "    <tr style=\"text-align: right;\">\n",
              "      <th></th>\n",
              "      <th>Brats17ID</th>\n",
              "      <th>Age</th>\n",
              "      <th>Survival</th>\n",
              "      <th>Predicted_complete_t2_tumor_volume</th>\n",
              "      <th>Actual_complete_t2_tumor_volume</th>\n",
              "    </tr>\n",
              "  </thead>\n",
              "  <tbody>\n",
              "    <tr>\n",
              "      <th>0</th>\n",
              "      <td>Brats17_TCIA_167_1</td>\n",
              "      <td>74.907</td>\n",
              "      <td>153</td>\n",
              "      <td>24635.0</td>\n",
              "      <td>26654</td>\n",
              "    </tr>\n",
              "    <tr>\n",
              "      <th>1</th>\n",
              "      <td>Brats17_TCIA_242_1</td>\n",
              "      <td>66.479</td>\n",
              "      <td>147</td>\n",
              "      <td>11182.0</td>\n",
              "      <td>9087</td>\n",
              "    </tr>\n",
              "    <tr>\n",
              "      <th>2</th>\n",
              "      <td>Brats17_TCIA_319_1</td>\n",
              "      <td>64.860</td>\n",
              "      <td>254</td>\n",
              "      <td>5124.0</td>\n",
              "      <td>11694</td>\n",
              "    </tr>\n",
              "    <tr>\n",
              "      <th>3</th>\n",
              "      <td>Brats17_TCIA_469_1</td>\n",
              "      <td>63.899</td>\n",
              "      <td>519</td>\n",
              "      <td>47296.0</td>\n",
              "      <td>28927</td>\n",
              "    </tr>\n",
              "    <tr>\n",
              "      <th>4</th>\n",
              "      <td>Brats17_TCIA_218_1</td>\n",
              "      <td>57.345</td>\n",
              "      <td>346</td>\n",
              "      <td>2907.0</td>\n",
              "      <td>3274</td>\n",
              "    </tr>\n",
              "    <tr>\n",
              "      <th>...</th>\n",
              "      <td>...</td>\n",
              "      <td>...</td>\n",
              "      <td>...</td>\n",
              "      <td>...</td>\n",
              "      <td>...</td>\n",
              "    </tr>\n",
              "    <tr>\n",
              "      <th>158</th>\n",
              "      <td>Brats17_CBICA_ABB_1</td>\n",
              "      <td>68.493</td>\n",
              "      <td>465</td>\n",
              "      <td>1922.0</td>\n",
              "      <td>3624</td>\n",
              "    </tr>\n",
              "    <tr>\n",
              "      <th>159</th>\n",
              "      <td>Brats17_CBICA_AAP_1</td>\n",
              "      <td>39.068</td>\n",
              "      <td>788</td>\n",
              "      <td>8949.0</td>\n",
              "      <td>10902</td>\n",
              "    </tr>\n",
              "    <tr>\n",
              "      <th>160</th>\n",
              "      <td>Brats17_CBICA_AAL_1</td>\n",
              "      <td>54.301</td>\n",
              "      <td>464</td>\n",
              "      <td>606.0</td>\n",
              "      <td>733</td>\n",
              "    </tr>\n",
              "    <tr>\n",
              "      <th>161</th>\n",
              "      <td>Brats17_CBICA_AAG_1</td>\n",
              "      <td>52.263</td>\n",
              "      <td>616</td>\n",
              "      <td>9674.0</td>\n",
              "      <td>9160</td>\n",
              "    </tr>\n",
              "    <tr>\n",
              "      <th>162</th>\n",
              "      <td>Brats17_CBICA_AAB_1</td>\n",
              "      <td>60.463</td>\n",
              "      <td>289</td>\n",
              "      <td>16661.0</td>\n",
              "      <td>15443</td>\n",
              "    </tr>\n",
              "  </tbody>\n",
              "</table>\n",
              "<p>163 rows × 5 columns</p>\n",
              "</div>"
            ],
            "text/plain": [
              "               Brats17ID  ...  Actual_complete_t2_tumor_volume\n",
              "0     Brats17_TCIA_167_1  ...                            26654\n",
              "1     Brats17_TCIA_242_1  ...                             9087\n",
              "2     Brats17_TCIA_319_1  ...                            11694\n",
              "3     Brats17_TCIA_469_1  ...                            28927\n",
              "4     Brats17_TCIA_218_1  ...                             3274\n",
              "..                   ...  ...                              ...\n",
              "158  Brats17_CBICA_ABB_1  ...                             3624\n",
              "159  Brats17_CBICA_AAP_1  ...                            10902\n",
              "160  Brats17_CBICA_AAL_1  ...                              733\n",
              "161  Brats17_CBICA_AAG_1  ...                             9160\n",
              "162  Brats17_CBICA_AAB_1  ...                            15443\n",
              "\n",
              "[163 rows x 5 columns]"
            ]
          },
          "metadata": {
            "tags": []
          },
          "execution_count": 7
        }
      ]
    },
    {
      "cell_type": "code",
      "metadata": {
        "id": "iVdvKmHaCNbs"
      },
      "source": [
        "df.to_csv(saving_location)"
      ],
      "execution_count": null,
      "outputs": []
    },
    {
      "cell_type": "markdown",
      "metadata": {
        "id": "Xg3Egn1e5Qx2"
      },
      "source": [
        "# Level 1 Statistics"
      ]
    },
    {
      "cell_type": "code",
      "metadata": {
        "id": "L9cMd556CiPh",
        "colab": {
          "base_uri": "https://localhost:8080/",
          "height": 1000
        },
        "outputId": "a5bc5187-e4f3-4ee5-b5a1-1b2293e0c4bd"
      },
      "source": [
        "label_value=6\n",
        "image_location = \"drive/My Drive/t1ce/\"\n",
        "mask_location = \"drive/My Drive/seg/\"\n",
        "df = pd.read_csv('drive/My Drive/survival_data-2017.csv')\n",
        "survival_list = df['Brats17ID'].values\n",
        "model1= Unet_plusplus_with_mixed_pool()\n",
        "model1.load_weights('drive/My Drive/unet++_mixedpool_t1ce_NECROTIC.h5')\n",
        "tumor_volume=[]\n",
        "tumor_actual_volume=[]\n",
        "survival_name=[]\n",
        "final_image=[]\n",
        "final_mask=[]\n",
        "final_predicted_mask=[]\n",
        "final_predicted_image_tumor=[]\n",
        "modality = image_location.split('/')[-2]\n",
        "for i in range(0,163):\n",
        "  image=[]\n",
        "  mask=[]\n",
        "  print(\"Finding volume of patient \"+str(i))\n",
        "  image_list_val = survival_list[i]+'_'+modality+'.nii.gz'\n",
        "  mask_list_val = survival_list[i]+'_seg.nii.gz'\n",
        "  globber_image = glob.glob(image_location + image_list_val)\n",
        "  globber_mask = glob.glob(mask_location + mask_list_val)\n",
        "  images = sitk.ReadImage(globber_image[0])\n",
        "  masks = sitk.ReadImage(globber_mask[0])\n",
        "  masks = sitk.GetArrayFromImage(masks)\n",
        "  images = sitk.GetArrayFromImage(images)\n",
        "  masks=tumor(masks,label_value)\n",
        "  start=-1\n",
        "  print(\"Calculating image \"+str(i))\n",
        "  for j in range(155):\n",
        "    if(np.max(masks[j])==1):\n",
        "      start=j\n",
        "      break\n",
        "  for i in range(155):\n",
        "    if(np.max(masks[154-i])==1):\n",
        "        break\n",
        "  #if label_num == 4:\n",
        "         # masks[masks != 4] = 0\n",
        "          #masks[masks == 4] = 1\n",
        "  #masks=to_categorical(masks,num_classes=5)\n",
        "  masks=masks[:,24:216,24:216]\n",
        "  images=images[:,24:216,24:216]\n",
        "  for j in range(start,155-i):\n",
        "    #masks=masks[non_zero_index[i][0]:non_zero_index[i][1],24:216,24:216,4].reshape(-1,192,192,1)\n",
        "    #images=images[non_zero_index[i][0]:non_zero_index[i][1],24:216,24:216].reshape(-1,192,192,1)\n",
        "    #if(np.sum(masks[j])>=400):\n",
        "    image.append(np.array(images[j]).reshape(-1,192,192))\n",
        "    mask.append(np.array(masks[j]).reshape(-1,192,192))\n",
        "  prediction_masks = model1.predict(np.array(image).reshape(-1,192,192,1))\n",
        "  prediction_masks_test=prediction_masks.copy()\n",
        "  prediction_masks_test[prediction_masks>=0.5]=1\n",
        "  prediction_masks_test[prediction_masks<0.5]=0\n",
        "  final_image.append(np.array(image).reshape(-1,192,192,1))\n",
        "  final_mask.append(np.array(mask).reshape(-1,192,192,1))\n",
        "  final_predicted_mask.append(prediction_masks_test)\n",
        "  final_predicted_image_tumor.append(np.array(image).reshape(-1,192,192,1)*prediction_masks_test)\n",
        "  del images\n",
        "  del masks\n",
        "  del image\n",
        "  del mask\n",
        "del model1\n",
        "final_image=np.array(final_image)\n",
        "final_mask=np.array(final_mask)\n",
        "final_predicted_image_tumor=np.array(final_predicted_image_tumor)\n",
        "final_predicted_mask=np.array(final_predicted_mask)\n",
        "\n"
      ],
      "execution_count": null,
      "outputs": [
        {
          "output_type": "stream",
          "text": [
            "Finding volume of patient 0\n",
            "Calculating image 0\n",
            "Finding volume of patient 1\n",
            "Calculating image 1\n",
            "Finding volume of patient 2\n",
            "Calculating image 2\n",
            "Finding volume of patient 3\n",
            "Calculating image 3\n",
            "Finding volume of patient 4\n",
            "Calculating image 4\n",
            "Finding volume of patient 5\n",
            "Calculating image 5\n",
            "Finding volume of patient 6\n",
            "Calculating image 6\n",
            "Finding volume of patient 7\n",
            "Calculating image 7\n",
            "Finding volume of patient 8\n",
            "Calculating image 8\n",
            "Finding volume of patient 9\n",
            "Calculating image 9\n",
            "Finding volume of patient 10\n",
            "Calculating image 10\n",
            "Finding volume of patient 11\n",
            "Calculating image 11\n",
            "Finding volume of patient 12\n",
            "Calculating image 12\n",
            "Finding volume of patient 13\n",
            "Calculating image 13\n",
            "Finding volume of patient 14\n",
            "Calculating image 14\n",
            "Finding volume of patient 15\n",
            "Calculating image 15\n",
            "Finding volume of patient 16\n",
            "Calculating image 16\n",
            "Finding volume of patient 17\n",
            "Calculating image 17\n",
            "Finding volume of patient 18\n",
            "Calculating image 18\n",
            "Finding volume of patient 19\n",
            "Calculating image 19\n",
            "Finding volume of patient 20\n",
            "Calculating image 20\n",
            "Finding volume of patient 21\n",
            "Calculating image 21\n",
            "Finding volume of patient 22\n",
            "Calculating image 22\n",
            "Finding volume of patient 23\n",
            "Calculating image 23\n",
            "Finding volume of patient 24\n",
            "Calculating image 24\n",
            "Finding volume of patient 25\n",
            "Calculating image 25\n",
            "Finding volume of patient 26\n",
            "Calculating image 26\n",
            "Finding volume of patient 27\n",
            "Calculating image 27\n",
            "Finding volume of patient 28\n",
            "Calculating image 28\n",
            "Finding volume of patient 29\n",
            "Calculating image 29\n",
            "Finding volume of patient 30\n",
            "Calculating image 30\n",
            "Finding volume of patient 31\n",
            "Calculating image 31\n",
            "Finding volume of patient 32\n",
            "Calculating image 32\n",
            "Finding volume of patient 33\n",
            "Calculating image 33\n",
            "Finding volume of patient 34\n",
            "Calculating image 34\n",
            "Finding volume of patient 35\n",
            "Calculating image 35\n",
            "Finding volume of patient 36\n",
            "Calculating image 36\n",
            "Finding volume of patient 37\n",
            "Calculating image 37\n",
            "Finding volume of patient 38\n",
            "Calculating image 38\n",
            "Finding volume of patient 39\n",
            "Calculating image 39\n",
            "Finding volume of patient 40\n",
            "Calculating image 40\n",
            "Finding volume of patient 41\n",
            "Calculating image 41\n",
            "Finding volume of patient 42\n",
            "Calculating image 42\n",
            "Finding volume of patient 43\n",
            "Calculating image 43\n",
            "Finding volume of patient 44\n",
            "Calculating image 44\n",
            "Finding volume of patient 45\n",
            "Calculating image 45\n",
            "Finding volume of patient 46\n",
            "Calculating image 46\n",
            "Finding volume of patient 47\n",
            "Calculating image 47\n",
            "Finding volume of patient 48\n",
            "Calculating image 48\n",
            "Finding volume of patient 49\n",
            "Calculating image 49\n",
            "Finding volume of patient 50\n",
            "Calculating image 50\n",
            "Finding volume of patient 51\n",
            "Calculating image 51\n",
            "Finding volume of patient 52\n",
            "Calculating image 52\n",
            "Finding volume of patient 53\n",
            "Calculating image 53\n",
            "Finding volume of patient 54\n",
            "Calculating image 54\n",
            "Finding volume of patient 55\n",
            "Calculating image 55\n",
            "Finding volume of patient 56\n",
            "Calculating image 56\n",
            "Finding volume of patient 57\n",
            "Calculating image 57\n",
            "Finding volume of patient 58\n",
            "Calculating image 58\n",
            "Finding volume of patient 59\n",
            "Calculating image 59\n",
            "Finding volume of patient 60\n",
            "Calculating image 60\n",
            "Finding volume of patient 61\n",
            "Calculating image 61\n",
            "Finding volume of patient 62\n",
            "Calculating image 62\n",
            "Finding volume of patient 63\n",
            "Calculating image 63\n",
            "Finding volume of patient 64\n",
            "Calculating image 64\n",
            "Finding volume of patient 65\n",
            "Calculating image 65\n",
            "Finding volume of patient 66\n",
            "Calculating image 66\n",
            "Finding volume of patient 67\n",
            "Calculating image 67\n",
            "Finding volume of patient 68\n",
            "Calculating image 68\n",
            "Finding volume of patient 69\n",
            "Calculating image 69\n",
            "Finding volume of patient 70\n",
            "Calculating image 70\n",
            "Finding volume of patient 71\n",
            "Calculating image 71\n",
            "Finding volume of patient 72\n",
            "Calculating image 72\n",
            "Finding volume of patient 73\n",
            "Calculating image 73\n",
            "Finding volume of patient 74\n",
            "Calculating image 74\n",
            "Finding volume of patient 75\n",
            "Calculating image 75\n",
            "Finding volume of patient 76\n",
            "Calculating image 76\n",
            "Finding volume of patient 77\n",
            "Calculating image 77\n",
            "Finding volume of patient 78\n",
            "Calculating image 78\n",
            "Finding volume of patient 79\n",
            "Calculating image 79\n",
            "Finding volume of patient 80\n",
            "Calculating image 80\n",
            "Finding volume of patient 81\n",
            "Calculating image 81\n",
            "Finding volume of patient 82\n",
            "Calculating image 82\n",
            "Finding volume of patient 83\n",
            "Calculating image 83\n",
            "Finding volume of patient 84\n",
            "Calculating image 84\n",
            "Finding volume of patient 85\n",
            "Calculating image 85\n",
            "Finding volume of patient 86\n",
            "Calculating image 86\n",
            "Finding volume of patient 87\n",
            "Calculating image 87\n",
            "Finding volume of patient 88\n",
            "Calculating image 88\n",
            "Finding volume of patient 89\n",
            "Calculating image 89\n",
            "Finding volume of patient 90\n",
            "Calculating image 90\n",
            "Finding volume of patient 91\n",
            "Calculating image 91\n",
            "Finding volume of patient 92\n",
            "Calculating image 92\n",
            "Finding volume of patient 93\n",
            "Calculating image 93\n",
            "Finding volume of patient 94\n",
            "Calculating image 94\n",
            "Finding volume of patient 95\n",
            "Calculating image 95\n",
            "Finding volume of patient 96\n",
            "Calculating image 96\n",
            "Finding volume of patient 97\n",
            "Calculating image 97\n",
            "Finding volume of patient 98\n",
            "Calculating image 98\n",
            "Finding volume of patient 99\n",
            "Calculating image 99\n",
            "Finding volume of patient 100\n",
            "Calculating image 100\n",
            "Finding volume of patient 101\n",
            "Calculating image 101\n",
            "Finding volume of patient 102\n",
            "Calculating image 102\n",
            "Finding volume of patient 103\n",
            "Calculating image 103\n",
            "Finding volume of patient 104\n",
            "Calculating image 104\n",
            "Finding volume of patient 105\n",
            "Calculating image 105\n",
            "Finding volume of patient 106\n",
            "Calculating image 106\n",
            "Finding volume of patient 107\n",
            "Calculating image 107\n",
            "Finding volume of patient 108\n",
            "Calculating image 108\n",
            "Finding volume of patient 109\n",
            "Calculating image 109\n",
            "Finding volume of patient 110\n",
            "Calculating image 110\n",
            "Finding volume of patient 111\n",
            "Calculating image 111\n",
            "Finding volume of patient 112\n",
            "Calculating image 112\n",
            "Finding volume of patient 113\n",
            "Calculating image 113\n",
            "Finding volume of patient 114\n",
            "Calculating image 114\n",
            "Finding volume of patient 115\n",
            "Calculating image 115\n",
            "Finding volume of patient 116\n",
            "Calculating image 116\n",
            "Finding volume of patient 117\n",
            "Calculating image 117\n",
            "Finding volume of patient 118\n",
            "Calculating image 118\n",
            "Finding volume of patient 119\n",
            "Calculating image 119\n",
            "Finding volume of patient 120\n",
            "Calculating image 120\n",
            "Finding volume of patient 121\n",
            "Calculating image 121\n",
            "Finding volume of patient 122\n",
            "Calculating image 122\n",
            "Finding volume of patient 123\n",
            "Calculating image 123\n",
            "Finding volume of patient 124\n",
            "Calculating image 124\n",
            "Finding volume of patient 125\n",
            "Calculating image 125\n",
            "Finding volume of patient 126\n",
            "Calculating image 126\n",
            "Finding volume of patient 127\n",
            "Calculating image 127\n",
            "Finding volume of patient 128\n",
            "Calculating image 128\n",
            "Finding volume of patient 129\n",
            "Calculating image 129\n",
            "Finding volume of patient 130\n",
            "Calculating image 130\n",
            "Finding volume of patient 131\n",
            "Calculating image 131\n",
            "Finding volume of patient 132\n",
            "Calculating image 132\n",
            "Finding volume of patient 133\n",
            "Calculating image 133\n",
            "Finding volume of patient 134\n",
            "Calculating image 134\n",
            "Finding volume of patient 135\n",
            "Calculating image 135\n",
            "Finding volume of patient 136\n",
            "Calculating image 136\n",
            "Finding volume of patient 137\n",
            "Calculating image 137\n",
            "Finding volume of patient 138\n",
            "Calculating image 138\n",
            "Finding volume of patient 139\n",
            "Calculating image 139\n",
            "Finding volume of patient 140\n",
            "Calculating image 140\n",
            "Finding volume of patient 141\n",
            "Calculating image 141\n",
            "Finding volume of patient 142\n",
            "Calculating image 142\n",
            "Finding volume of patient 143\n",
            "Calculating image 143\n",
            "Finding volume of patient 144\n",
            "Calculating image 144\n",
            "Finding volume of patient 145\n",
            "Calculating image 145\n",
            "Finding volume of patient 146\n",
            "Calculating image 146\n",
            "Finding volume of patient 147\n",
            "Calculating image 147\n",
            "Finding volume of patient 148\n",
            "Calculating image 148\n",
            "Finding volume of patient 149\n",
            "Calculating image 149\n",
            "Finding volume of patient 150\n",
            "Calculating image 150\n",
            "Finding volume of patient 151\n",
            "Calculating image 151\n",
            "Finding volume of patient 152\n",
            "Calculating image 152\n",
            "Finding volume of patient 153\n",
            "Calculating image 153\n",
            "Finding volume of patient 154\n",
            "Calculating image 154\n",
            "Finding volume of patient 155\n",
            "Calculating image 155\n",
            "Finding volume of patient 156\n",
            "Calculating image 156\n",
            "Finding volume of patient 157\n",
            "Calculating image 157\n",
            "Finding volume of patient 158\n",
            "Calculating image 158\n",
            "Finding volume of patient 159\n",
            "Calculating image 159\n",
            "Finding volume of patient 160\n",
            "Calculating image 160\n",
            "Finding volume of patient 161\n",
            "Calculating image 161\n",
            "Finding volume of patient 162\n",
            "Calculating image 162\n"
          ],
          "name": "stdout"
        }
      ]
    },
    {
      "cell_type": "code",
      "metadata": {
        "id": "cYZlag5S5jkY",
        "colab": {
          "base_uri": "https://localhost:8080/",
          "height": 191
        },
        "outputId": "649fe338-ac76-4db3-9209-641ea19ec4d1"
      },
      "source": [
        "plt.figure(figsize=[10,10])\n",
        "patient_number = 0 #@param {type:\"slider\", min:0, max:162, step:1}\n",
        "slice_number = 0 #@param {type:\"slider\", min:0, max:154, step:1}\n",
        "plt.subplot(141)\n",
        "plt.imshow(final_image[patient_number][slice_number].reshape(192,192))\n",
        "plt.subplot(142)\n",
        "plt.imshow(final_mask[patient_number][slice_number].reshape(192,192))\n",
        "plt.subplot(143)\n",
        "plt.imshow(final_predicted_mask[patient_number][slice_number].reshape(192,192))\n",
        "plt.subplot(144)\n",
        "plt.imshow(final_predicted_image_tumor[patient_number][slice_number].reshape(192,192))"
      ],
      "execution_count": null,
      "outputs": [
        {
          "output_type": "execute_result",
          "data": {
            "text/plain": [
              "<matplotlib.image.AxesImage at 0x7f107ce17f98>"
            ]
          },
          "metadata": {
            "tags": []
          },
          "execution_count": 12
        },
        {
          "output_type": "display_data",
          "data": {
            "image/png": "[encoded data removed]",
            "text/plain": [
              "<Figure size 720x720 with 4 Axes>"
            ]
          },
          "metadata": {
            "tags": [],
            "needs_background": "light"
          }
        }
      ]
    },
    {
      "cell_type": "code",
      "metadata": {
        "id": "wIgc4K-aZi8h",
        "colab": {
          "base_uri": "https://localhost:8080/",
          "height": 35
        },
        "outputId": "6eae47b3-5510-4665-8977-c352f7043685"
      },
      "source": [
        "from sklearn.metrics import f1_score\n",
        "score = f1_score(final_predicted_mask.reshape(-1), final_mask.reshape(-1),average='macro')\n",
        "# print\n",
        "print(score)"
      ],
      "execution_count": null,
      "outputs": [
        {
          "output_type": "stream",
          "text": [
            "0.9540827901640259\n"
          ],
          "name": "stdout"
        }
      ]
    },
    {
      "cell_type": "code",
      "metadata": {
        "id": "INT10HvpLsKj",
        "colab": {
          "base_uri": "https://localhost:8080/",
          "height": 35
        },
        "outputId": "cd792ad5-cb46-4bc6-a97b-c17169b2614a"
      },
      "source": [
        "#import pywt\n",
        "string='haar'\n",
        "cA, (cH, cV, cD) = pywt.dwt2(final_predicted_image_tumor[0][10].reshape(192,192), string)\n",
        "cA, (cH, cV, cD) = pywt.dwt2(cA, string)\n",
        "cA.shape"
      ],
      "execution_count": null,
      "outputs": [
        {
          "output_type": "execute_result",
          "data": {
            "text/plain": [
              "(48, 48)"
            ]
          },
          "metadata": {
            "tags": []
          },
          "execution_count": 28
        }
      ]
    },
    {
      "cell_type": "code",
      "metadata": {
        "id": "ZnwcuhvlMIHF"
      },
      "source": [
        "cH"
      ],
      "execution_count": null,
      "outputs": []
    },
    {
      "cell_type": "code",
      "metadata": {
        "id": "ijOG6mepceLF"
      },
      "source": [
        "\n",
        "def find_feature_value(img,feature,sigma):\n",
        "  edge = canny(img,sigma=sigma)\n",
        "  glcm = greycomatrix(edge.astype(np.int),[1],[0],levels=2,symmetric=True,normed=True)\n",
        "  prop_value = greycoprops(glcm,prop=feature)\n",
        "  return prop_value"
      ],
      "execution_count": null,
      "outputs": []
    },
    {
      "cell_type": "code",
      "metadata": {
        "id": "IJuulHW36gKd",
        "colab": {
          "base_uri": "https://localhost:8080/",
          "height": 1000
        },
        "outputId": "faadaa5e-8739-4470-cae3-5f7352aaa4b4"
      },
      "source": [
        "max_pixel=[]\n",
        "min_pixel=[]\n",
        "avg_pixel=[]\n",
        "std_dev=[]\n",
        "max_perimeter=[]\n",
        "contrast=[]\n",
        "dissimilarity=[]\n",
        "homogeneity=[]\n",
        "ASM=[]\n",
        "energy=[]\n",
        "correlation=[]\n",
        "for i in range(0,163):\n",
        "  print('Finding features of patient '+ str(i))\n",
        "  max_pixel.append(np.max(final_predicted_image_tumor[i]))\n",
        "  min_pixel.append(np.min(final_predicted_image_tumor[i]))\n",
        "  avg_pixel.append(np.average(final_predicted_image_tumor[i]))\n",
        "  std_dev.append(np.std(final_predicted_image_tumor[i]))\n",
        "  test_peri=[]\n",
        "  contrast_slice=[]\n",
        "  dissimilarity_slice=[]\n",
        "  homogeneity_slice=[]\n",
        "  ASM_slice=[]\n",
        "  energy_slice=[]\n",
        "  correlation_slice=[]\n",
        "  for sliced in final_predicted_mask[i]:\n",
        "    peri =perimeter(sliced.reshape(192,192),neighbourhood=8)\n",
        "    test_peri.append(peri)\n",
        "    #print(\"Peri: \" + str(peri))\n",
        "  max = np.max(np.array(test_peri))\n",
        "  max_perimeter.append(max)\n",
        "  for sliced in final_predicted_image_tumor[i]:\n",
        "    contrast_slice.append(find_feature_value(img=sliced.reshape(192,192),feature='contrast',sigma=2.0))\n",
        "    homogeneity_slice.append(find_feature_value(img=sliced.reshape(192,192),feature='homogeneity',sigma=2.0))\n",
        "    dissimilarity_slice.append(find_feature_value(img=sliced.reshape(192,192),feature='dissimilarity',sigma=2.0))\n",
        "    ASM_slice.append(find_feature_value(img=sliced.reshape(192,192),feature='ASM',sigma=2.0))\n",
        "    energy_slice.append(find_feature_value(img=sliced.reshape(192,192),feature='energy',sigma=2.0))\n",
        "    correlation_slice.append(find_feature_value(img=sliced.reshape(192,192),feature='correlation',sigma=2.0))\n",
        "  contrast.append(np.average(np.array(contrast_slice)))\n",
        "  homogeneity.append(np.average(np.array(homogeneity_slice)))\n",
        "  correlation.append(np.average(np.array(correlation_slice)))\n",
        "  ASM.append(np.average(np.array(ASM_slice)))\n",
        "  energy.append(np.average(np.array(energy_slice)))\n",
        "  dissimilarity.append(np.average(np.array(dissimilarity_slice)))\n",
        "  #print(max)"
      ],
      "execution_count": null,
      "outputs": [
        {
          "output_type": "stream",
          "text": [
            "Finding features of patient 0\n",
            "Finding features of patient 1\n",
            "Finding features of patient 2\n",
            "Finding features of patient 3\n",
            "Finding features of patient 4\n",
            "Finding features of patient 5\n",
            "Finding features of patient 6\n",
            "Finding features of patient 7\n",
            "Finding features of patient 8\n",
            "Finding features of patient 9\n",
            "Finding features of patient 10\n",
            "Finding features of patient 11\n",
            "Finding features of patient 12\n",
            "Finding features of patient 13\n",
            "Finding features of patient 14\n",
            "Finding features of patient 15\n",
            "Finding features of patient 16\n",
            "Finding features of patient 17\n",
            "Finding features of patient 18\n",
            "Finding features of patient 19\n",
            "Finding features of patient 20\n",
            "Finding features of patient 21\n",
            "Finding features of patient 22\n",
            "Finding features of patient 23\n",
            "Finding features of patient 24\n",
            "Finding features of patient 25\n",
            "Finding features of patient 26\n",
            "Finding features of patient 27\n",
            "Finding features of patient 28\n",
            "Finding features of patient 29\n",
            "Finding features of patient 30\n",
            "Finding features of patient 31\n",
            "Finding features of patient 32\n",
            "Finding features of patient 33\n",
            "Finding features of patient 34\n",
            "Finding features of patient 35\n",
            "Finding features of patient 36\n",
            "Finding features of patient 37\n",
            "Finding features of patient 38\n",
            "Finding features of patient 39\n",
            "Finding features of patient 40\n",
            "Finding features of patient 41\n",
            "Finding features of patient 42\n",
            "Finding features of patient 43\n",
            "Finding features of patient 44\n",
            "Finding features of patient 45\n",
            "Finding features of patient 46\n",
            "Finding features of patient 47\n",
            "Finding features of patient 48\n",
            "Finding features of patient 49\n",
            "Finding features of patient 50\n",
            "Finding features of patient 51\n",
            "Finding features of patient 52\n",
            "Finding features of patient 53\n",
            "Finding features of patient 54\n",
            "Finding features of patient 55\n",
            "Finding features of patient 56\n",
            "Finding features of patient 57\n",
            "Finding features of patient 58\n",
            "Finding features of patient 59\n",
            "Finding features of patient 60\n",
            "Finding features of patient 61\n",
            "Finding features of patient 62\n",
            "Finding features of patient 63\n",
            "Finding features of patient 64\n",
            "Finding features of patient 65\n",
            "Finding features of patient 66\n",
            "Finding features of patient 67\n",
            "Finding features of patient 68\n",
            "Finding features of patient 69\n",
            "Finding features of patient 70\n",
            "Finding features of patient 71\n",
            "Finding features of patient 72\n",
            "Finding features of patient 73\n",
            "Finding features of patient 74\n",
            "Finding features of patient 75\n",
            "Finding features of patient 76\n",
            "Finding features of patient 77\n",
            "Finding features of patient 78\n",
            "Finding features of patient 79\n",
            "Finding features of patient 80\n",
            "Finding features of patient 81\n",
            "Finding features of patient 82\n",
            "Finding features of patient 83\n",
            "Finding features of patient 84\n",
            "Finding features of patient 85\n",
            "Finding features of patient 86\n",
            "Finding features of patient 87\n",
            "Finding features of patient 88\n",
            "Finding features of patient 89\n",
            "Finding features of patient 90\n",
            "Finding features of patient 91\n",
            "Finding features of patient 92\n",
            "Finding features of patient 93\n",
            "Finding features of patient 94\n",
            "Finding features of patient 95\n",
            "Finding features of patient 96\n",
            "Finding features of patient 97\n",
            "Finding features of patient 98\n",
            "Finding features of patient 99\n",
            "Finding features of patient 100\n",
            "Finding features of patient 101\n",
            "Finding features of patient 102\n",
            "Finding features of patient 103\n",
            "Finding features of patient 104\n",
            "Finding features of patient 105\n",
            "Finding features of patient 106\n",
            "Finding features of patient 107\n",
            "Finding features of patient 108\n",
            "Finding features of patient 109\n",
            "Finding features of patient 110\n",
            "Finding features of patient 111\n",
            "Finding features of patient 112\n",
            "Finding features of patient 113\n",
            "Finding features of patient 114\n",
            "Finding features of patient 115\n",
            "Finding features of patient 116\n",
            "Finding features of patient 117\n",
            "Finding features of patient 118\n",
            "Finding features of patient 119\n",
            "Finding features of patient 120\n",
            "Finding features of patient 121\n",
            "Finding features of patient 122\n",
            "Finding features of patient 123\n",
            "Finding features of patient 124\n",
            "Finding features of patient 125\n",
            "Finding features of patient 126\n",
            "Finding features of patient 127\n",
            "Finding features of patient 128\n",
            "Finding features of patient 129\n",
            "Finding features of patient 130\n",
            "Finding features of patient 131\n",
            "Finding features of patient 132\n",
            "Finding features of patient 133\n",
            "Finding features of patient 134\n",
            "Finding features of patient 135\n",
            "Finding features of patient 136\n",
            "Finding features of patient 137\n",
            "Finding features of patient 138\n",
            "Finding features of patient 139\n",
            "Finding features of patient 140\n",
            "Finding features of patient 141\n",
            "Finding features of patient 142\n",
            "Finding features of patient 143\n",
            "Finding features of patient 144\n",
            "Finding features of patient 145\n",
            "Finding features of patient 146\n",
            "Finding features of patient 147\n",
            "Finding features of patient 148\n",
            "Finding features of patient 149\n",
            "Finding features of patient 150\n",
            "Finding features of patient 151\n",
            "Finding features of patient 152\n",
            "Finding features of patient 153\n",
            "Finding features of patient 154\n",
            "Finding features of patient 155\n",
            "Finding features of patient 156\n",
            "Finding features of patient 157\n",
            "Finding features of patient 158\n",
            "Finding features of patient 159\n",
            "Finding features of patient 160\n",
            "Finding features of patient 161\n",
            "Finding features of patient 162\n"
          ],
          "name": "stdout"
        }
      ]
    },
    {
      "cell_type": "code",
      "metadata": {
        "id": "of2yNCBb7P0S",
        "colab": {
          "base_uri": "https://localhost:8080/",
          "height": 470
        },
        "outputId": "6d69f45d-2bcd-4a2a-afb2-9200863203ac"
      },
      "source": [
        "df = pd.read_csv('drive/My Drive/Necrotic_t1ce_stats_withsurvival.csv')\n",
        "df = df.drop('Unnamed: 0',axis=1)\n",
        "df['Max Pixel Value'] = max_pixel\n",
        "df['Min Pixel Value'] = min_pixel\n",
        "df['Avg Pixel Value'] = avg_pixel\n",
        "df['Standard Deviation'] = std_dev\n",
        "df['Max Perimeter'] = max_perimeter\n",
        "df['Contrast'] = contrast\n",
        "df['Homogeneity'] = homogeneity\n",
        "df['Dissimilarity'] = dissimilarity\n",
        "df['Energy'] = energy\n",
        "df['Correlation'] = correlation\n",
        "df['ASM'] = ASM\n",
        "df"
      ],
      "execution_count": null,
      "outputs": [
        {
          "output_type": "execute_result",
          "data": {
            "text/html": [
              "<div>\n",
              "<style scoped>\n",
              "    .dataframe tbody tr th:only-of-type {\n",
              "        vertical-align: middle;\n",
              "    }\n",
              "\n",
              "    .dataframe tbody tr th {\n",
              "        vertical-align: top;\n",
              "    }\n",
              "\n",
              "    .dataframe thead th {\n",
              "        text-align: right;\n",
              "    }\n",
              "</style>\n",
              "<table border=\"1\" class=\"dataframe\">\n",
              "  <thead>\n",
              "    <tr style=\"text-align: right;\">\n",
              "      <th></th>\n",
              "      <th>Brats17ID</th>\n",
              "      <th>Age</th>\n",
              "      <th>Survival</th>\n",
              "      <th>Predicted_complete_t2_tumor_volume</th>\n",
              "      <th>Actual_complete_t2_tumor_volume</th>\n",
              "      <th>Max Pixel Value</th>\n",
              "      <th>Min Pixel Value</th>\n",
              "      <th>Avg Pixel Value</th>\n",
              "      <th>Standard Deviation</th>\n",
              "      <th>Max Perimeter</th>\n",
              "      <th>Contrast</th>\n",
              "      <th>Homogeneity</th>\n",
              "      <th>Dissimilarity</th>\n",
              "      <th>Energy</th>\n",
              "      <th>Correlation</th>\n",
              "      <th>ASM</th>\n",
              "    </tr>\n",
              "  </thead>\n",
              "  <tbody>\n",
              "    <tr>\n",
              "      <th>0</th>\n",
              "      <td>Brats17_TCIA_167_1</td>\n",
              "      <td>74.907</td>\n",
              "      <td>153</td>\n",
              "      <td>24635.0</td>\n",
              "      <td>26654</td>\n",
              "      <td>3.369565</td>\n",
              "      <td>-0.0</td>\n",
              "      <td>0.026052</td>\n",
              "      <td>0.245434</td>\n",
              "      <td>355.071068</td>\n",
              "      <td>0.005231</td>\n",
              "      <td>0.997385</td>\n",
              "      <td>0.005231</td>\n",
              "      <td>0.992909</td>\n",
              "      <td>0.500384</td>\n",
              "      <td>0.985894</td>\n",
              "    </tr>\n",
              "    <tr>\n",
              "      <th>1</th>\n",
              "      <td>Brats17_TCIA_242_1</td>\n",
              "      <td>66.479</td>\n",
              "      <td>147</td>\n",
              "      <td>11182.0</td>\n",
              "      <td>9087</td>\n",
              "      <td>3.894870</td>\n",
              "      <td>-0.0</td>\n",
              "      <td>0.012633</td>\n",
              "      <td>0.175279</td>\n",
              "      <td>320.242641</td>\n",
              "      <td>0.004327</td>\n",
              "      <td>0.997837</td>\n",
              "      <td>0.004327</td>\n",
              "      <td>0.994142</td>\n",
              "      <td>0.463929</td>\n",
              "      <td>0.988339</td>\n",
              "    </tr>\n",
              "    <tr>\n",
              "      <th>2</th>\n",
              "      <td>Brats17_TCIA_319_1</td>\n",
              "      <td>64.860</td>\n",
              "      <td>254</td>\n",
              "      <td>5124.0</td>\n",
              "      <td>11694</td>\n",
              "      <td>3.377796</td>\n",
              "      <td>-0.0</td>\n",
              "      <td>0.007580</td>\n",
              "      <td>0.135319</td>\n",
              "      <td>158.071068</td>\n",
              "      <td>0.002693</td>\n",
              "      <td>0.998654</td>\n",
              "      <td>0.002693</td>\n",
              "      <td>0.996323</td>\n",
              "      <td>0.632627</td>\n",
              "      <td>0.992672</td>\n",
              "    </tr>\n",
              "    <tr>\n",
              "      <th>3</th>\n",
              "      <td>Brats17_TCIA_469_1</td>\n",
              "      <td>63.899</td>\n",
              "      <td>519</td>\n",
              "      <td>47296.0</td>\n",
              "      <td>28927</td>\n",
              "      <td>2.786596</td>\n",
              "      <td>-0.0</td>\n",
              "      <td>0.028456</td>\n",
              "      <td>0.185408</td>\n",
              "      <td>501.106602</td>\n",
              "      <td>0.009628</td>\n",
              "      <td>0.995186</td>\n",
              "      <td>0.009628</td>\n",
              "      <td>0.986634</td>\n",
              "      <td>0.551270</td>\n",
              "      <td>0.973547</td>\n",
              "    </tr>\n",
              "    <tr>\n",
              "      <th>4</th>\n",
              "      <td>Brats17_TCIA_218_1</td>\n",
              "      <td>57.345</td>\n",
              "      <td>346</td>\n",
              "      <td>2907.0</td>\n",
              "      <td>3274</td>\n",
              "      <td>3.734844</td>\n",
              "      <td>-0.0</td>\n",
              "      <td>0.004256</td>\n",
              "      <td>0.096303</td>\n",
              "      <td>89.207107</td>\n",
              "      <td>0.000933</td>\n",
              "      <td>0.999534</td>\n",
              "      <td>0.000933</td>\n",
              "      <td>0.998596</td>\n",
              "      <td>0.645129</td>\n",
              "      <td>0.997194</td>\n",
              "    </tr>\n",
              "    <tr>\n",
              "      <th>...</th>\n",
              "      <td>...</td>\n",
              "      <td>...</td>\n",
              "      <td>...</td>\n",
              "      <td>...</td>\n",
              "      <td>...</td>\n",
              "      <td>...</td>\n",
              "      <td>...</td>\n",
              "      <td>...</td>\n",
              "      <td>...</td>\n",
              "      <td>...</td>\n",
              "      <td>...</td>\n",
              "      <td>...</td>\n",
              "      <td>...</td>\n",
              "      <td>...</td>\n",
              "      <td>...</td>\n",
              "      <td>...</td>\n",
              "    </tr>\n",
              "    <tr>\n",
              "      <th>158</th>\n",
              "      <td>Brats17_CBICA_ABB_1</td>\n",
              "      <td>68.493</td>\n",
              "      <td>465</td>\n",
              "      <td>1922.0</td>\n",
              "      <td>3624</td>\n",
              "      <td>4.341398</td>\n",
              "      <td>-0.0</td>\n",
              "      <td>0.003380</td>\n",
              "      <td>0.097519</td>\n",
              "      <td>114.621320</td>\n",
              "      <td>0.001160</td>\n",
              "      <td>0.999420</td>\n",
              "      <td>0.001160</td>\n",
              "      <td>0.998390</td>\n",
              "      <td>0.702502</td>\n",
              "      <td>0.996786</td>\n",
              "    </tr>\n",
              "    <tr>\n",
              "      <th>159</th>\n",
              "      <td>Brats17_CBICA_AAP_1</td>\n",
              "      <td>39.068</td>\n",
              "      <td>788</td>\n",
              "      <td>8949.0</td>\n",
              "      <td>10902</td>\n",
              "      <td>3.679187</td>\n",
              "      <td>-0.0</td>\n",
              "      <td>0.008928</td>\n",
              "      <td>0.128527</td>\n",
              "      <td>137.621320</td>\n",
              "      <td>0.002931</td>\n",
              "      <td>0.998534</td>\n",
              "      <td>0.002931</td>\n",
              "      <td>0.996053</td>\n",
              "      <td>0.509851</td>\n",
              "      <td>0.992127</td>\n",
              "    </tr>\n",
              "    <tr>\n",
              "      <th>160</th>\n",
              "      <td>Brats17_CBICA_AAL_1</td>\n",
              "      <td>54.301</td>\n",
              "      <td>464</td>\n",
              "      <td>606.0</td>\n",
              "      <td>733</td>\n",
              "      <td>4.022229</td>\n",
              "      <td>-0.0</td>\n",
              "      <td>0.002301</td>\n",
              "      <td>0.078196</td>\n",
              "      <td>42.000000</td>\n",
              "      <td>0.000576</td>\n",
              "      <td>0.999712</td>\n",
              "      <td>0.000576</td>\n",
              "      <td>0.999146</td>\n",
              "      <td>0.635142</td>\n",
              "      <td>0.998293</td>\n",
              "    </tr>\n",
              "    <tr>\n",
              "      <th>161</th>\n",
              "      <td>Brats17_CBICA_AAG_1</td>\n",
              "      <td>52.263</td>\n",
              "      <td>616</td>\n",
              "      <td>9674.0</td>\n",
              "      <td>9160</td>\n",
              "      <td>2.983400</td>\n",
              "      <td>-0.0</td>\n",
              "      <td>0.007051</td>\n",
              "      <td>0.088342</td>\n",
              "      <td>107.414214</td>\n",
              "      <td>0.003397</td>\n",
              "      <td>0.998301</td>\n",
              "      <td>0.003397</td>\n",
              "      <td>0.995746</td>\n",
              "      <td>0.413486</td>\n",
              "      <td>0.991515</td>\n",
              "    </tr>\n",
              "    <tr>\n",
              "      <th>162</th>\n",
              "      <td>Brats17_CBICA_AAB_1</td>\n",
              "      <td>60.463</td>\n",
              "      <td>289</td>\n",
              "      <td>16661.0</td>\n",
              "      <td>15443</td>\n",
              "      <td>3.986872</td>\n",
              "      <td>-0.0</td>\n",
              "      <td>0.021282</td>\n",
              "      <td>0.202560</td>\n",
              "      <td>333.656854</td>\n",
              "      <td>0.005718</td>\n",
              "      <td>0.997141</td>\n",
              "      <td>0.005718</td>\n",
              "      <td>0.992157</td>\n",
              "      <td>0.436394</td>\n",
              "      <td>0.984394</td>\n",
              "    </tr>\n",
              "  </tbody>\n",
              "</table>\n",
              "<p>163 rows × 16 columns</p>\n",
              "</div>"
            ],
            "text/plain": [
              "               Brats17ID     Age  Survival  ...    Energy  Correlation       ASM\n",
              "0     Brats17_TCIA_167_1  74.907       153  ...  0.992909     0.500384  0.985894\n",
              "1     Brats17_TCIA_242_1  66.479       147  ...  0.994142     0.463929  0.988339\n",
              "2     Brats17_TCIA_319_1  64.860       254  ...  0.996323     0.632627  0.992672\n",
              "3     Brats17_TCIA_469_1  63.899       519  ...  0.986634     0.551270  0.973547\n",
              "4     Brats17_TCIA_218_1  57.345       346  ...  0.998596     0.645129  0.997194\n",
              "..                   ...     ...       ...  ...       ...          ...       ...\n",
              "158  Brats17_CBICA_ABB_1  68.493       465  ...  0.998390     0.702502  0.996786\n",
              "159  Brats17_CBICA_AAP_1  39.068       788  ...  0.996053     0.509851  0.992127\n",
              "160  Brats17_CBICA_AAL_1  54.301       464  ...  0.999146     0.635142  0.998293\n",
              "161  Brats17_CBICA_AAG_1  52.263       616  ...  0.995746     0.413486  0.991515\n",
              "162  Brats17_CBICA_AAB_1  60.463       289  ...  0.992157     0.436394  0.984394\n",
              "\n",
              "[163 rows x 16 columns]"
            ]
          },
          "metadata": {
            "tags": []
          },
          "execution_count": 14
        }
      ]
    },
    {
      "cell_type": "code",
      "metadata": {
        "id": "2MDVweMyHnYz"
      },
      "source": [
        "df.to_csv('Necrotic_t1ce_stats_withsurvival.csv')"
      ],
      "execution_count": null,
      "outputs": []
    },
    {
      "cell_type": "code",
      "metadata": {
        "id": "wbk_dqeIwpoK",
        "colab": {
          "base_uri": "https://localhost:8080/",
          "height": 470
        },
        "outputId": "8163d3dc-a77c-4a12-d27a-07b2d2e41bcb"
      },
      "source": [
        "df1 = pd.read_csv('drive/My Drive/survival_data-2017.csv')\n",
        "df['Age']=df1['Age'].values\n",
        "df['Survival'] = df1['Survival'].values\n",
        "df"
      ],
      "execution_count": null,
      "outputs": [
        {
          "output_type": "execute_result",
          "data": {
            "text/html": [
              "<div>\n",
              "<style scoped>\n",
              "    .dataframe tbody tr th:only-of-type {\n",
              "        vertical-align: middle;\n",
              "    }\n",
              "\n",
              "    .dataframe tbody tr th {\n",
              "        vertical-align: top;\n",
              "    }\n",
              "\n",
              "    .dataframe thead th {\n",
              "        text-align: right;\n",
              "    }\n",
              "</style>\n",
              "<table border=\"1\" class=\"dataframe\">\n",
              "  <thead>\n",
              "    <tr style=\"text-align: right;\">\n",
              "      <th></th>\n",
              "      <th>Brats17ID</th>\n",
              "      <th>Predicted_complete_t2_tumor_volume</th>\n",
              "      <th>Actual_complete_t2_tumor_volume</th>\n",
              "      <th>Max Pixel Value</th>\n",
              "      <th>Min Pixel Value</th>\n",
              "      <th>Avg Pixel Value</th>\n",
              "      <th>Standard Deviation</th>\n",
              "      <th>Max Perimeter</th>\n",
              "      <th>Contrast</th>\n",
              "      <th>Homogeneity</th>\n",
              "      <th>Dissimilarity</th>\n",
              "      <th>Energy</th>\n",
              "      <th>Correlation</th>\n",
              "      <th>ASM</th>\n",
              "      <th>Age</th>\n",
              "      <th>Survival</th>\n",
              "    </tr>\n",
              "  </thead>\n",
              "  <tbody>\n",
              "    <tr>\n",
              "      <th>0</th>\n",
              "      <td>Brats17_TCIA_167_1</td>\n",
              "      <td>166166.0</td>\n",
              "      <td>163612</td>\n",
              "      <td>5.185662</td>\n",
              "      <td>-0.412493</td>\n",
              "      <td>0.165075</td>\n",
              "      <td>0.709962</td>\n",
              "      <td>439.414214</td>\n",
              "      <td>0.012513</td>\n",
              "      <td>0.993743</td>\n",
              "      <td>0.012513</td>\n",
              "      <td>0.984037</td>\n",
              "      <td>0.403931</td>\n",
              "      <td>0.968422</td>\n",
              "      <td>74.907</td>\n",
              "      <td>153</td>\n",
              "    </tr>\n",
              "    <tr>\n",
              "      <th>1</th>\n",
              "      <td>Brats17_TCIA_242_1</td>\n",
              "      <td>149734.0</td>\n",
              "      <td>156606</td>\n",
              "      <td>5.906012</td>\n",
              "      <td>-0.000000</td>\n",
              "      <td>0.160548</td>\n",
              "      <td>0.697488</td>\n",
              "      <td>397.414214</td>\n",
              "      <td>0.012181</td>\n",
              "      <td>0.993910</td>\n",
              "      <td>0.012181</td>\n",
              "      <td>0.983972</td>\n",
              "      <td>0.400764</td>\n",
              "      <td>0.968281</td>\n",
              "      <td>66.479</td>\n",
              "      <td>147</td>\n",
              "    </tr>\n",
              "    <tr>\n",
              "      <th>2</th>\n",
              "      <td>Brats17_TCIA_319_1</td>\n",
              "      <td>41166.0</td>\n",
              "      <td>43881</td>\n",
              "      <td>6.767469</td>\n",
              "      <td>-0.000000</td>\n",
              "      <td>0.066216</td>\n",
              "      <td>0.464019</td>\n",
              "      <td>203.207107</td>\n",
              "      <td>0.005315</td>\n",
              "      <td>0.997343</td>\n",
              "      <td>0.005315</td>\n",
              "      <td>0.993098</td>\n",
              "      <td>0.466600</td>\n",
              "      <td>0.986260</td>\n",
              "      <td>64.860</td>\n",
              "      <td>254</td>\n",
              "    </tr>\n",
              "    <tr>\n",
              "      <th>3</th>\n",
              "      <td>Brats17_TCIA_469_1</td>\n",
              "      <td>176450.0</td>\n",
              "      <td>204242</td>\n",
              "      <td>4.627936</td>\n",
              "      <td>-0.000000</td>\n",
              "      <td>0.197897</td>\n",
              "      <td>0.795683</td>\n",
              "      <td>351.207107</td>\n",
              "      <td>0.011597</td>\n",
              "      <td>0.994201</td>\n",
              "      <td>0.011597</td>\n",
              "      <td>0.984827</td>\n",
              "      <td>0.417381</td>\n",
              "      <td>0.969960</td>\n",
              "      <td>63.899</td>\n",
              "      <td>519</td>\n",
              "    </tr>\n",
              "    <tr>\n",
              "      <th>4</th>\n",
              "      <td>Brats17_TCIA_218_1</td>\n",
              "      <td>82570.0</td>\n",
              "      <td>82921</td>\n",
              "      <td>7.155013</td>\n",
              "      <td>-0.000000</td>\n",
              "      <td>0.164034</td>\n",
              "      <td>0.836476</td>\n",
              "      <td>245.207107</td>\n",
              "      <td>0.007867</td>\n",
              "      <td>0.996066</td>\n",
              "      <td>0.007867</td>\n",
              "      <td>0.989415</td>\n",
              "      <td>0.385866</td>\n",
              "      <td>0.978963</td>\n",
              "      <td>57.345</td>\n",
              "      <td>346</td>\n",
              "    </tr>\n",
              "    <tr>\n",
              "      <th>...</th>\n",
              "      <td>...</td>\n",
              "      <td>...</td>\n",
              "      <td>...</td>\n",
              "      <td>...</td>\n",
              "      <td>...</td>\n",
              "      <td>...</td>\n",
              "      <td>...</td>\n",
              "      <td>...</td>\n",
              "      <td>...</td>\n",
              "      <td>...</td>\n",
              "      <td>...</td>\n",
              "      <td>...</td>\n",
              "      <td>...</td>\n",
              "      <td>...</td>\n",
              "      <td>...</td>\n",
              "      <td>...</td>\n",
              "    </tr>\n",
              "    <tr>\n",
              "      <th>158</th>\n",
              "      <td>Brats17_CBICA_ABB_1</td>\n",
              "      <td>15461.0</td>\n",
              "      <td>21963</td>\n",
              "      <td>4.114760</td>\n",
              "      <td>-0.191152</td>\n",
              "      <td>0.018927</td>\n",
              "      <td>0.214408</td>\n",
              "      <td>144.000000</td>\n",
              "      <td>0.002557</td>\n",
              "      <td>0.998722</td>\n",
              "      <td>0.002557</td>\n",
              "      <td>0.996425</td>\n",
              "      <td>0.495511</td>\n",
              "      <td>0.992867</td>\n",
              "      <td>68.493</td>\n",
              "      <td>465</td>\n",
              "    </tr>\n",
              "    <tr>\n",
              "      <th>159</th>\n",
              "      <td>Brats17_CBICA_AAP_1</td>\n",
              "      <td>102224.0</td>\n",
              "      <td>103496</td>\n",
              "      <td>6.150978</td>\n",
              "      <td>-0.000000</td>\n",
              "      <td>0.157040</td>\n",
              "      <td>0.786456</td>\n",
              "      <td>436.000000</td>\n",
              "      <td>0.009213</td>\n",
              "      <td>0.995394</td>\n",
              "      <td>0.009213</td>\n",
              "      <td>0.988043</td>\n",
              "      <td>0.410468</td>\n",
              "      <td>0.976264</td>\n",
              "      <td>39.068</td>\n",
              "      <td>788</td>\n",
              "    </tr>\n",
              "    <tr>\n",
              "      <th>160</th>\n",
              "      <td>Brats17_CBICA_AAL_1</td>\n",
              "      <td>26349.0</td>\n",
              "      <td>29807</td>\n",
              "      <td>4.111916</td>\n",
              "      <td>-0.000000</td>\n",
              "      <td>0.036501</td>\n",
              "      <td>0.312464</td>\n",
              "      <td>245.207107</td>\n",
              "      <td>0.004497</td>\n",
              "      <td>0.997751</td>\n",
              "      <td>0.004497</td>\n",
              "      <td>0.994272</td>\n",
              "      <td>0.426342</td>\n",
              "      <td>0.988586</td>\n",
              "      <td>54.301</td>\n",
              "      <td>464</td>\n",
              "    </tr>\n",
              "    <tr>\n",
              "      <th>161</th>\n",
              "      <td>Brats17_CBICA_AAG_1</td>\n",
              "      <td>63071.0</td>\n",
              "      <td>67008</td>\n",
              "      <td>6.163480</td>\n",
              "      <td>-0.000000</td>\n",
              "      <td>0.122642</td>\n",
              "      <td>0.698659</td>\n",
              "      <td>241.207107</td>\n",
              "      <td>0.007114</td>\n",
              "      <td>0.996443</td>\n",
              "      <td>0.007114</td>\n",
              "      <td>0.990591</td>\n",
              "      <td>0.408670</td>\n",
              "      <td>0.981289</td>\n",
              "      <td>52.263</td>\n",
              "      <td>616</td>\n",
              "    </tr>\n",
              "    <tr>\n",
              "      <th>162</th>\n",
              "      <td>Brats17_CBICA_AAB_1</td>\n",
              "      <td>208199.0</td>\n",
              "      <td>211979</td>\n",
              "      <td>5.971834</td>\n",
              "      <td>-0.000000</td>\n",
              "      <td>0.233866</td>\n",
              "      <td>0.888154</td>\n",
              "      <td>499.000000</td>\n",
              "      <td>0.015307</td>\n",
              "      <td>0.992346</td>\n",
              "      <td>0.015307</td>\n",
              "      <td>0.980292</td>\n",
              "      <td>0.392364</td>\n",
              "      <td>0.961140</td>\n",
              "      <td>60.463</td>\n",
              "      <td>289</td>\n",
              "    </tr>\n",
              "  </tbody>\n",
              "</table>\n",
              "<p>163 rows × 16 columns</p>\n",
              "</div>"
            ],
            "text/plain": [
              "               Brats17ID  Predicted_complete_t2_tumor_volume  ...     Age  Survival\n",
              "0     Brats17_TCIA_167_1                            166166.0  ...  74.907       153\n",
              "1     Brats17_TCIA_242_1                            149734.0  ...  66.479       147\n",
              "2     Brats17_TCIA_319_1                             41166.0  ...  64.860       254\n",
              "3     Brats17_TCIA_469_1                            176450.0  ...  63.899       519\n",
              "4     Brats17_TCIA_218_1                             82570.0  ...  57.345       346\n",
              "..                   ...                                 ...  ...     ...       ...\n",
              "158  Brats17_CBICA_ABB_1                             15461.0  ...  68.493       465\n",
              "159  Brats17_CBICA_AAP_1                            102224.0  ...  39.068       788\n",
              "160  Brats17_CBICA_AAL_1                             26349.0  ...  54.301       464\n",
              "161  Brats17_CBICA_AAG_1                             63071.0  ...  52.263       616\n",
              "162  Brats17_CBICA_AAB_1                            208199.0  ...  60.463       289\n",
              "\n",
              "[163 rows x 16 columns]"
            ]
          },
          "metadata": {
            "tags": []
          },
          "execution_count": 117
        }
      ]
    },
    {
      "cell_type": "code",
      "metadata": {
        "id": "rljlFU9J4EhS",
        "colab": {
          "base_uri": "https://localhost:8080/",
          "height": 415
        },
        "outputId": "452d5560-1ec8-4970-9c78-ac7eed16185b"
      },
      "source": [
        "df1"
      ],
      "execution_count": null,
      "outputs": [
        {
          "output_type": "execute_result",
          "data": {
            "text/html": [
              "<div>\n",
              "<style scoped>\n",
              "    .dataframe tbody tr th:only-of-type {\n",
              "        vertical-align: middle;\n",
              "    }\n",
              "\n",
              "    .dataframe tbody tr th {\n",
              "        vertical-align: top;\n",
              "    }\n",
              "\n",
              "    .dataframe thead th {\n",
              "        text-align: right;\n",
              "    }\n",
              "</style>\n",
              "<table border=\"1\" class=\"dataframe\">\n",
              "  <thead>\n",
              "    <tr style=\"text-align: right;\">\n",
              "      <th></th>\n",
              "      <th>Brats17ID</th>\n",
              "      <th>Age</th>\n",
              "      <th>Survival</th>\n",
              "    </tr>\n",
              "  </thead>\n",
              "  <tbody>\n",
              "    <tr>\n",
              "      <th>0</th>\n",
              "      <td>Brats17_TCIA_167_1</td>\n",
              "      <td>74.907</td>\n",
              "      <td>153</td>\n",
              "    </tr>\n",
              "    <tr>\n",
              "      <th>1</th>\n",
              "      <td>Brats17_TCIA_242_1</td>\n",
              "      <td>66.479</td>\n",
              "      <td>147</td>\n",
              "    </tr>\n",
              "    <tr>\n",
              "      <th>2</th>\n",
              "      <td>Brats17_TCIA_319_1</td>\n",
              "      <td>64.860</td>\n",
              "      <td>254</td>\n",
              "    </tr>\n",
              "    <tr>\n",
              "      <th>3</th>\n",
              "      <td>Brats17_TCIA_469_1</td>\n",
              "      <td>63.899</td>\n",
              "      <td>519</td>\n",
              "    </tr>\n",
              "    <tr>\n",
              "      <th>4</th>\n",
              "      <td>Brats17_TCIA_218_1</td>\n",
              "      <td>57.345</td>\n",
              "      <td>346</td>\n",
              "    </tr>\n",
              "    <tr>\n",
              "      <th>...</th>\n",
              "      <td>...</td>\n",
              "      <td>...</td>\n",
              "      <td>...</td>\n",
              "    </tr>\n",
              "    <tr>\n",
              "      <th>158</th>\n",
              "      <td>Brats17_CBICA_ABB_1</td>\n",
              "      <td>68.493</td>\n",
              "      <td>465</td>\n",
              "    </tr>\n",
              "    <tr>\n",
              "      <th>159</th>\n",
              "      <td>Brats17_CBICA_AAP_1</td>\n",
              "      <td>39.068</td>\n",
              "      <td>788</td>\n",
              "    </tr>\n",
              "    <tr>\n",
              "      <th>160</th>\n",
              "      <td>Brats17_CBICA_AAL_1</td>\n",
              "      <td>54.301</td>\n",
              "      <td>464</td>\n",
              "    </tr>\n",
              "    <tr>\n",
              "      <th>161</th>\n",
              "      <td>Brats17_CBICA_AAG_1</td>\n",
              "      <td>52.263</td>\n",
              "      <td>616</td>\n",
              "    </tr>\n",
              "    <tr>\n",
              "      <th>162</th>\n",
              "      <td>Brats17_CBICA_AAB_1</td>\n",
              "      <td>60.463</td>\n",
              "      <td>289</td>\n",
              "    </tr>\n",
              "  </tbody>\n",
              "</table>\n",
              "<p>163 rows × 3 columns</p>\n",
              "</div>"
            ],
            "text/plain": [
              "               Brats17ID     Age  Survival\n",
              "0     Brats17_TCIA_167_1  74.907       153\n",
              "1     Brats17_TCIA_242_1  66.479       147\n",
              "2     Brats17_TCIA_319_1  64.860       254\n",
              "3     Brats17_TCIA_469_1  63.899       519\n",
              "4     Brats17_TCIA_218_1  57.345       346\n",
              "..                   ...     ...       ...\n",
              "158  Brats17_CBICA_ABB_1  68.493       465\n",
              "159  Brats17_CBICA_AAP_1  39.068       788\n",
              "160  Brats17_CBICA_AAL_1  54.301       464\n",
              "161  Brats17_CBICA_AAG_1  52.263       616\n",
              "162  Brats17_CBICA_AAB_1  60.463       289\n",
              "\n",
              "[163 rows x 3 columns]"
            ]
          },
          "metadata": {
            "tags": []
          },
          "execution_count": 116
        }
      ]
    },
    {
      "cell_type": "code",
      "metadata": {
        "id": "wDoP3U5P4S79",
        "colab": {
          "base_uri": "https://localhost:8080/",
          "height": 1000
        },
        "outputId": "505cc418-9175-4989-948f-b34a4e0b217b"
      },
      "source": [
        "correlation"
      ],
      "execution_count": null,
      "outputs": [
        {
          "output_type": "execute_result",
          "data": {
            "text/plain": [
              "[0.4039311034235669,\n",
              " 0.4007641301917474,\n",
              " 0.4666004328787915,\n",
              " 0.41738097097990023,\n",
              " 0.38586571183883034,\n",
              " 0.39793416658036734,\n",
              " 0.5037883015063636,\n",
              " 0.4308658816777774,\n",
              " 0.4115160677900331,\n",
              " 0.4171242089225917,\n",
              " 0.36945224942293925,\n",
              " 0.3603964834058169,\n",
              " 0.38913633018754545,\n",
              " 0.3754335345344881,\n",
              " 0.42791467555124435,\n",
              " 0.42355730989443086,\n",
              " 0.4658102401198059,\n",
              " 0.3937552662720429,\n",
              " 0.390484374193099,\n",
              " 0.3946942964341716,\n",
              " 0.45767042749282555,\n",
              " 0.5041854097314825,\n",
              " 0.3927282358828061,\n",
              " 0.491232824314543,\n",
              " 0.401630195612092,\n",
              " 0.39279245368913696,\n",
              " 0.5222071766675657,\n",
              " 0.3843921915449025,\n",
              " 0.4434118602383606,\n",
              " 0.47330590227074837,\n",
              " 0.40330948726059196,\n",
              " 0.6158640294713705,\n",
              " 0.40038145666366576,\n",
              " 0.3899552191793928,\n",
              " 0.3847130469462209,\n",
              " 0.3969534399062189,\n",
              " 0.4691739989286007,\n",
              " 0.5591679850431395,\n",
              " 0.4022826247019672,\n",
              " 0.42470734385525655,\n",
              " 0.38395132847576935,\n",
              " 0.37578866062146826,\n",
              " 0.4564606896905216,\n",
              " 0.38070274315743674,\n",
              " 0.4513033744318055,\n",
              " 0.4572136526307983,\n",
              " 0.5065714494703428,\n",
              " 0.381443986810409,\n",
              " 0.43884180304067955,\n",
              " 0.4296434109911748,\n",
              " 0.34316362472071343,\n",
              " 0.4868024885266781,\n",
              " 0.41275424734187627,\n",
              " 0.41192012966596486,\n",
              " 0.4207313166720433,\n",
              " 0.4235179558027635,\n",
              " 0.36308899765522734,\n",
              " 0.4134866189927605,\n",
              " 0.557041398559779,\n",
              " 0.5178006858773141,\n",
              " 0.4704901393375647,\n",
              " 0.3812414727961584,\n",
              " 0.45927305312263894,\n",
              " 0.4813257792450852,\n",
              " 0.40323721109575694,\n",
              " 0.4012937344622816,\n",
              " 0.4159781175260621,\n",
              " 0.43184361746946126,\n",
              " 0.39351957241690394,\n",
              " 0.4938509298724475,\n",
              " 0.37561359035389197,\n",
              " 0.4982130439109874,\n",
              " 0.41846807674004227,\n",
              " 0.4712144675330455,\n",
              " 0.7077891449050067,\n",
              " 0.5796929010176877,\n",
              " 0.3995670104723054,\n",
              " 0.3808327648168806,\n",
              " 0.5730527264227049,\n",
              " 0.5608481406513104,\n",
              " 0.4361340511180475,\n",
              " 0.7213225375321498,\n",
              " 0.5938769809847694,\n",
              " 0.42626042003738934,\n",
              " 0.6026983249975266,\n",
              " 0.36983590862504095,\n",
              " 0.43950659887534027,\n",
              " 0.42132690696677527,\n",
              " 0.47137335459044755,\n",
              " 0.5138236954444688,\n",
              " 0.4792911098633339,\n",
              " 0.44312018701896533,\n",
              " 0.4850285830232587,\n",
              " 0.47644537864875236,\n",
              " 0.3541451591231957,\n",
              " 0.44984810179717877,\n",
              " 0.43974986577898967,\n",
              " 0.49203237764959473,\n",
              " 0.41367129857988816,\n",
              " 0.44186549103320105,\n",
              " 0.47107556420774876,\n",
              " 0.4270765978989654,\n",
              " 0.537315407259201,\n",
              " 0.3784165494242625,\n",
              " 0.4227895696158639,\n",
              " 0.4253129415207332,\n",
              " 0.5053241967660148,\n",
              " 0.42389368525415894,\n",
              " 0.42773197469934326,\n",
              " 0.4212981614225725,\n",
              " 0.40736058306927825,\n",
              " 0.40567276150499426,\n",
              " 0.42869146223898963,\n",
              " 0.4820245176190239,\n",
              " 0.42400102258886463,\n",
              " 0.49553999940430676,\n",
              " 0.45052219203132254,\n",
              " 0.47725898215143775,\n",
              " 0.4009807002010704,\n",
              " 0.40251634799595637,\n",
              " 0.46368742811151226,\n",
              " 0.4634417313808796,\n",
              " 0.427305008579004,\n",
              " 0.4045461271474968,\n",
              " 0.43162926298769866,\n",
              " 0.46651170155688676,\n",
              " 0.39329327010131865,\n",
              " 0.5417750002995451,\n",
              " 0.48823898829355905,\n",
              " 0.38185850509744607,\n",
              " 0.43087888334299046,\n",
              " 0.40730560078149425,\n",
              " 0.43929691343788263,\n",
              " 0.43546466466790124,\n",
              " 0.44572426208734,\n",
              " 0.5504796331303364,\n",
              " 0.3497851238017075,\n",
              " 0.39511682589883257,\n",
              " 0.3726527195676783,\n",
              " 0.41528496410867266,\n",
              " 0.4740067878596421,\n",
              " 0.40418713105331167,\n",
              " 0.47351971756163147,\n",
              " 0.3824322825739259,\n",
              " 0.41958896850252764,\n",
              " 0.4441505276846997,\n",
              " 0.4596275807711973,\n",
              " 0.43483864602229316,\n",
              " 0.3982903592256712,\n",
              " 0.36277128107320755,\n",
              " 0.47124405097915306,\n",
              " 0.5287269468408048,\n",
              " 0.40604659842576835,\n",
              " 0.4823883183566866,\n",
              " 0.40224595014335884,\n",
              " 0.42380014211575323,\n",
              " 0.46068502789055726,\n",
              " 0.3749675234651326,\n",
              " 0.4955108265202321,\n",
              " 0.4104683850770486,\n",
              " 0.42634212356730483,\n",
              " 0.4086695447411658,\n",
              " 0.39236365413996926]"
            ]
          },
          "metadata": {
            "tags": []
          },
          "execution_count": 101
        }
      ]
    },
    {
      "cell_type": "code",
      "metadata": {
        "id": "hGH7PslhL7uB"
      },
      "source": [
        "scaling_image=final_image[0][10].reshape(192,192)\n",
        "\"\"\"scaler = MinMaxScaler(feature_range=(0,1))\n",
        "scaler.fit(scaling_image)\n",
        "scaled_image=scaler.transform(scaling_image)\"\"\"\n",
        "scaled_image=scaling_image/np.max(scaling_image)"
      ],
      "execution_count": null,
      "outputs": []
    },
    {
      "cell_type": "code",
      "metadata": {
        "id": "NuBBeBmbKBBL",
        "colab": {
          "base_uri": "https://localhost:8080/",
          "height": 72
        },
        "outputId": "8c3c6aaa-dbc8-41f9-802c-a13db15e7d00"
      },
      "source": [
        "entr_img = entropy(scaled_image, disk(30))"
      ],
      "execution_count": null,
      "outputs": [
        {
          "output_type": "stream",
          "text": [
            "/usr/local/lib/python3.6/dist-packages/skimage/filters/rank/generic.py:119: UserWarning: Possible precision loss converting image of type float64 to uint8 as required by rank filters. Convert manually using skimage.util.img_as_ubyte to silence this warning.\n",
            "  out_dtype)\n"
          ],
          "name": "stderr"
        }
      ]
    },
    {
      "cell_type": "code",
      "metadata": {
        "id": "IiYCvYtDLLHT",
        "colab": {
          "base_uri": "https://localhost:8080/",
          "height": 235
        },
        "outputId": "b3adf5c6-6208-40ed-ccb0-2258e94ec926"
      },
      "source": [
        "plt.figure(figsize=[10,10])\n",
        "plt.subplot(131)\n",
        "plt.imshow(scaling_image)\n",
        "plt.subplot(132)\n",
        "plt.imshow(scaled_image)\n",
        "plt.subplot(133)\n",
        "plt.imshow(entr_img)"
      ],
      "execution_count": null,
      "outputs": [
        {
          "output_type": "error",
          "ename": "NameError",
          "evalue": "ignored",
          "traceback": [
            "\u001b[0;31m---------------------------------------------------------------------------\u001b[0m",
            "\u001b[0;31mNameError\u001b[0m                                 Traceback (most recent call last)",
            "\u001b[0;32m<ipython-input-1-56ddb3b23e8a>\u001b[0m in \u001b[0;36m<module>\u001b[0;34m()\u001b[0m\n\u001b[0;32m----> 1\u001b[0;31m \u001b[0mplt\u001b[0m\u001b[0;34m.\u001b[0m\u001b[0mfigure\u001b[0m\u001b[0;34m(\u001b[0m\u001b[0mfigsize\u001b[0m\u001b[0;34m=\u001b[0m\u001b[0;34m[\u001b[0m\u001b[0;36m10\u001b[0m\u001b[0;34m,\u001b[0m\u001b[0;36m10\u001b[0m\u001b[0;34m]\u001b[0m\u001b[0;34m)\u001b[0m\u001b[0;34m\u001b[0m\u001b[0;34m\u001b[0m\u001b[0m\n\u001b[0m\u001b[1;32m      2\u001b[0m \u001b[0mplt\u001b[0m\u001b[0;34m.\u001b[0m\u001b[0msubplot\u001b[0m\u001b[0;34m(\u001b[0m\u001b[0;36m131\u001b[0m\u001b[0;34m)\u001b[0m\u001b[0;34m\u001b[0m\u001b[0;34m\u001b[0m\u001b[0m\n\u001b[1;32m      3\u001b[0m \u001b[0mplt\u001b[0m\u001b[0;34m.\u001b[0m\u001b[0mimshow\u001b[0m\u001b[0;34m(\u001b[0m\u001b[0mscaling_image\u001b[0m\u001b[0;34m)\u001b[0m\u001b[0;34m\u001b[0m\u001b[0;34m\u001b[0m\u001b[0m\n\u001b[1;32m      4\u001b[0m \u001b[0mplt\u001b[0m\u001b[0;34m.\u001b[0m\u001b[0msubplot\u001b[0m\u001b[0;34m(\u001b[0m\u001b[0;36m132\u001b[0m\u001b[0;34m)\u001b[0m\u001b[0;34m\u001b[0m\u001b[0;34m\u001b[0m\u001b[0m\n\u001b[1;32m      5\u001b[0m \u001b[0mplt\u001b[0m\u001b[0;34m.\u001b[0m\u001b[0mimshow\u001b[0m\u001b[0;34m(\u001b[0m\u001b[0mscaled_image\u001b[0m\u001b[0;34m)\u001b[0m\u001b[0;34m\u001b[0m\u001b[0;34m\u001b[0m\u001b[0m\n",
            "\u001b[0;31mNameError\u001b[0m: name 'plt' is not defined"
          ]
        }
      ]
    },
    {
      "cell_type": "code",
      "metadata": {
        "id": "h0WC53RmMhmZ",
        "colab": {
          "base_uri": "https://localhost:8080/",
          "height": 35
        },
        "outputId": "df0b2636-60f9-4eb9-c550-6419c5191d04"
      },
      "source": [
        "np.sum(entr_img)"
      ],
      "execution_count": null,
      "outputs": [
        {
          "output_type": "execute_result",
          "data": {
            "text/plain": [
              "10842.741357423216"
            ]
          },
          "metadata": {
            "tags": []
          },
          "execution_count": 107
        }
      ]
    },
    {
      "cell_type": "code",
      "metadata": {
        "id": "fPZmuAfBoLkh"
      },
      "source": [],
      "execution_count": null,
      "outputs": []
    },
    {
      "cell_type": "code",
      "metadata": {
        "id": "R63_GJI_N10J",
        "colab": {
          "base_uri": "https://localhost:8080/",
          "height": 381
        },
        "outputId": "b9e1ad87-2ece-4e76-e90d-2889f67a2d5c"
      },
      "source": [
        "\n",
        "image_to_edge = final_predicted_image_tumor[1].reshape(-1,192,192)\n",
        "tst_img = canny(image_to_edge,sigma=1.0)\n",
        "plt.subplot(121)\n",
        "plt.imshow(image_to_edge[20],cmap='gray')\n",
        "plt.subplot(122)\n",
        "plt.imshow(tst_img,cmap='gray')"
      ],
      "execution_count": null,
      "outputs": [
        {
          "output_type": "error",
          "ename": "ValueError",
          "evalue": "ignored",
          "traceback": [
            "\u001b[0;31m---------------------------------------------------------------------------\u001b[0m",
            "\u001b[0;31mValueError\u001b[0m                                Traceback (most recent call last)",
            "\u001b[0;32m<ipython-input-85-83fe813bb844>\u001b[0m in \u001b[0;36m<module>\u001b[0;34m()\u001b[0m\n\u001b[1;32m      1\u001b[0m \u001b[0;32mfrom\u001b[0m \u001b[0mskimage\u001b[0m\u001b[0;34m.\u001b[0m\u001b[0mfeature\u001b[0m \u001b[0;32mimport\u001b[0m \u001b[0mcanny\u001b[0m\u001b[0;34m\u001b[0m\u001b[0;34m\u001b[0m\u001b[0m\n\u001b[1;32m      2\u001b[0m \u001b[0mimage_to_edge\u001b[0m \u001b[0;34m=\u001b[0m \u001b[0mfinal_predicted_image_tumor\u001b[0m\u001b[0;34m[\u001b[0m\u001b[0;36m1\u001b[0m\u001b[0;34m]\u001b[0m\u001b[0;34m.\u001b[0m\u001b[0mreshape\u001b[0m\u001b[0;34m(\u001b[0m\u001b[0;34m-\u001b[0m\u001b[0;36m1\u001b[0m\u001b[0;34m,\u001b[0m\u001b[0;36m192\u001b[0m\u001b[0;34m,\u001b[0m\u001b[0;36m192\u001b[0m\u001b[0;34m)\u001b[0m\u001b[0;34m\u001b[0m\u001b[0;34m\u001b[0m\u001b[0m\n\u001b[0;32m----> 3\u001b[0;31m \u001b[0mtst_img\u001b[0m \u001b[0;34m=\u001b[0m \u001b[0mcanny\u001b[0m\u001b[0;34m(\u001b[0m\u001b[0mimage_to_edge\u001b[0m\u001b[0;34m,\u001b[0m\u001b[0msigma\u001b[0m\u001b[0;34m=\u001b[0m\u001b[0;36m1.0\u001b[0m\u001b[0;34m)\u001b[0m\u001b[0;34m\u001b[0m\u001b[0;34m\u001b[0m\u001b[0m\n\u001b[0m\u001b[1;32m      4\u001b[0m \u001b[0mplt\u001b[0m\u001b[0;34m.\u001b[0m\u001b[0msubplot\u001b[0m\u001b[0;34m(\u001b[0m\u001b[0;36m121\u001b[0m\u001b[0;34m)\u001b[0m\u001b[0;34m\u001b[0m\u001b[0;34m\u001b[0m\u001b[0m\n\u001b[1;32m      5\u001b[0m \u001b[0mplt\u001b[0m\u001b[0;34m.\u001b[0m\u001b[0mimshow\u001b[0m\u001b[0;34m(\u001b[0m\u001b[0mimage_to_edge\u001b[0m\u001b[0;34m[\u001b[0m\u001b[0;36m20\u001b[0m\u001b[0;34m]\u001b[0m\u001b[0;34m,\u001b[0m\u001b[0mcmap\u001b[0m\u001b[0;34m=\u001b[0m\u001b[0;34m'gray'\u001b[0m\u001b[0;34m)\u001b[0m\u001b[0;34m\u001b[0m\u001b[0;34m\u001b[0m\u001b[0m\n",
            "\u001b[0;32m/usr/local/lib/python3.6/dist-packages/skimage/feature/_canny.py\u001b[0m in \u001b[0;36mcanny\u001b[0;34m(image, sigma, low_threshold, high_threshold, mask, use_quantiles)\u001b[0m\n\u001b[1;32m    155\u001b[0m     \u001b[0;31m# because who knows what lies beyond the edge of the image?\u001b[0m\u001b[0;34m\u001b[0m\u001b[0;34m\u001b[0m\u001b[0;34m\u001b[0m\u001b[0m\n\u001b[1;32m    156\u001b[0m     \u001b[0;31m#\u001b[0m\u001b[0;34m\u001b[0m\u001b[0;34m\u001b[0m\u001b[0;34m\u001b[0m\u001b[0m\n\u001b[0;32m--> 157\u001b[0;31m     \u001b[0mcheck_nD\u001b[0m\u001b[0;34m(\u001b[0m\u001b[0mimage\u001b[0m\u001b[0;34m,\u001b[0m \u001b[0;36m2\u001b[0m\u001b[0;34m)\u001b[0m\u001b[0;34m\u001b[0m\u001b[0;34m\u001b[0m\u001b[0m\n\u001b[0m\u001b[1;32m    158\u001b[0m     \u001b[0mdtype_max\u001b[0m \u001b[0;34m=\u001b[0m \u001b[0mdtype_limits\u001b[0m\u001b[0;34m(\u001b[0m\u001b[0mimage\u001b[0m\u001b[0;34m,\u001b[0m \u001b[0mclip_negative\u001b[0m\u001b[0;34m=\u001b[0m\u001b[0;32mFalse\u001b[0m\u001b[0;34m)\u001b[0m\u001b[0;34m[\u001b[0m\u001b[0;36m1\u001b[0m\u001b[0;34m]\u001b[0m\u001b[0;34m\u001b[0m\u001b[0;34m\u001b[0m\u001b[0m\n\u001b[1;32m    159\u001b[0m \u001b[0;34m\u001b[0m\u001b[0m\n",
            "\u001b[0;32m/usr/local/lib/python3.6/dist-packages/skimage/_shared/utils.py\u001b[0m in \u001b[0;36mcheck_nD\u001b[0;34m(array, ndim, arg_name)\u001b[0m\n\u001b[1;32m    181\u001b[0m         \u001b[0;32mraise\u001b[0m \u001b[0mValueError\u001b[0m\u001b[0;34m(\u001b[0m\u001b[0mmsg_empty_array\u001b[0m \u001b[0;34m%\u001b[0m \u001b[0;34m(\u001b[0m\u001b[0marg_name\u001b[0m\u001b[0;34m)\u001b[0m\u001b[0;34m)\u001b[0m\u001b[0;34m\u001b[0m\u001b[0;34m\u001b[0m\u001b[0m\n\u001b[1;32m    182\u001b[0m     \u001b[0;32mif\u001b[0m \u001b[0;32mnot\u001b[0m \u001b[0marray\u001b[0m\u001b[0;34m.\u001b[0m\u001b[0mndim\u001b[0m \u001b[0;32min\u001b[0m \u001b[0mndim\u001b[0m\u001b[0;34m:\u001b[0m\u001b[0;34m\u001b[0m\u001b[0;34m\u001b[0m\u001b[0m\n\u001b[0;32m--> 183\u001b[0;31m         \u001b[0;32mraise\u001b[0m \u001b[0mValueError\u001b[0m\u001b[0;34m(\u001b[0m\u001b[0mmsg_incorrect_dim\u001b[0m \u001b[0;34m%\u001b[0m \u001b[0;34m(\u001b[0m\u001b[0marg_name\u001b[0m\u001b[0;34m,\u001b[0m \u001b[0;34m'-or-'\u001b[0m\u001b[0;34m.\u001b[0m\u001b[0mjoin\u001b[0m\u001b[0;34m(\u001b[0m\u001b[0;34m[\u001b[0m\u001b[0mstr\u001b[0m\u001b[0;34m(\u001b[0m\u001b[0mn\u001b[0m\u001b[0;34m)\u001b[0m \u001b[0;32mfor\u001b[0m \u001b[0mn\u001b[0m \u001b[0;32min\u001b[0m \u001b[0mndim\u001b[0m\u001b[0;34m]\u001b[0m\u001b[0;34m)\u001b[0m\u001b[0;34m)\u001b[0m\u001b[0;34m)\u001b[0m\u001b[0;34m\u001b[0m\u001b[0;34m\u001b[0m\u001b[0m\n\u001b[0m\u001b[1;32m    184\u001b[0m \u001b[0;34m\u001b[0m\u001b[0m\n\u001b[1;32m    185\u001b[0m \u001b[0;34m\u001b[0m\u001b[0m\n",
            "\u001b[0;31mValueError\u001b[0m: The parameter `image` must be a 2-dimensional array"
          ]
        }
      ]
    },
    {
      "cell_type": "code",
      "metadata": {
        "id": "nkc94BHhVJ3e"
      },
      "source": [
        "\n",
        "patch_size=16\n",
        "image_for_glcm = tst_img.astype(np.int)\n",
        "out_img=np.zeros((192-patch_size+1,192-patch_size+1))\n",
        "for i in range(192-patch_size+1):\n",
        "  for j in range(192-patch_size+1):\n",
        "    patch = image_for_glcm[i:i+patch_size,j:j+patch_size].copy()\n",
        "    glcm = greycomatrix(patch,[1],[0],levels=2,symmetric=True,normed=True)\n",
        "    output= greycoprops(glcm,prop='homogeneity')\n",
        "    out_img[i][j]=output"
      ],
      "execution_count": null,
      "outputs": []
    },
    {
      "cell_type": "code",
      "metadata": {
        "id": "-JA7tfDjZsOH",
        "colab": {
          "base_uri": "https://localhost:8080/",
          "height": 287
        },
        "outputId": "d1b5f6bf-1144-4c7a-a76e-ff66af2fbdb9"
      },
      "source": [
        "plt.imshow(-out_img,cmap='gray')"
      ],
      "execution_count": null,
      "outputs": [
        {
          "output_type": "execute_result",
          "data": {
            "text/plain": [
              "<matplotlib.image.AxesImage at 0x7f7e7d058dd8>"
            ]
          },
          "metadata": {
            "tags": []
          },
          "execution_count": 81
        },
        {
          "output_type": "display_data",
          "data": {
            "image/png": "[encoded data removed]",
            "text/plain": [
              "<Figure size 432x288 with 1 Axes>"
            ]
          },
          "metadata": {
            "tags": [],
            "needs_background": "light"
          }
        }
      ]
    },
    {
      "cell_type": "code",
      "metadata": {
        "id": "bovuinF4a_pu",
        "colab": {
          "base_uri": "https://localhost:8080/",
          "height": 35
        },
        "outputId": "e61f421b-37e6-4f78-9c5b-de269801613d"
      },
      "source": [
        "greycoprops(greycomatrix(tst_img.astype(np.int),[1],[0],levels=2,symmetric=True,normed=True),prop='contrast')"
      ],
      "execution_count": null,
      "outputs": [
        {
          "output_type": "execute_result",
          "data": {
            "text/plain": [
              "array([[0.01783377]])"
            ]
          },
          "metadata": {
            "tags": []
          },
          "execution_count": 82
        }
      ]
    },
    {
      "cell_type": "code",
      "metadata": {
        "id": "i0bs41--hotH",
        "colab": {
          "base_uri": "https://localhost:8080/",
          "height": 287
        },
        "outputId": "1d53c1bf-ccf5-4f03-90dc-09392fd274b3"
      },
      "source": [
        "plt.imshow((final_image*final_predicted_mask)[0][50].reshape(192,192))"
      ],
      "execution_count": null,
      "outputs": [
        {
          "output_type": "execute_result",
          "data": {
            "text/plain": [
              "<matplotlib.image.AxesImage at 0x7f7bdab97550>"
            ]
          },
          "metadata": {
            "tags": []
          },
          "execution_count": 69
        },
        {
          "output_type": "display_data",
          "data": {
            "image/png": "[encoded data removed]",
            "text/plain": [
              "<Figure size 432x288 with 1 Axes>"
            ]
          },
          "metadata": {
            "tags": [],
            "needs_background": "light"
          }
        }
      ]
    },
    {
      "cell_type": "code",
      "metadata": {
        "id": "xb1x00AZiCqg",
        "colab": {
          "base_uri": "https://localhost:8080/",
          "height": 287
        },
        "outputId": "24a37ace-727a-485e-e1c9-ecc08ca4795e"
      },
      "source": [
        "plt.imshow(np.abs(final_predicted_image_tumor[0][50].reshape(192,192)))"
      ],
      "execution_count": null,
      "outputs": [
        {
          "output_type": "execute_result",
          "data": {
            "text/plain": [
              "<matplotlib.image.AxesImage at 0x7f7bdaa3fef0>"
            ]
          },
          "metadata": {
            "tags": []
          },
          "execution_count": 73
        },
        {
          "output_type": "display_data",
          "data": {
            "image/png": "[encoded data removed]",
            "text/plain": [
              "<Figure size 432x288 with 1 Axes>"
            ]
          },
          "metadata": {
            "tags": [],
            "needs_background": "light"
          }
        }
      ]
    },
    {
      "cell_type": "code",
      "metadata": {
        "id": "1HmDJ5K1icRJ",
        "colab": {
          "base_uri": "https://localhost:8080/",
          "height": 1000
        },
        "outputId": "09ffcdde-81c2-4c63-df75-471b05f18cad"
      },
      "source": [],
      "execution_count": null,
      "outputs": [
        {
          "output_type": "execute_result",
          "data": {
            "text/plain": [
              "array([[0.        , 0.        , 0.        , 0.        , 0.        ,\n",
              "        0.        , 0.        , 0.        , 0.        , 0.        ,\n",
              "        1.87044004, 2.27142433, 2.70323303, 2.9139383 , 2.84186432,\n",
              "        2.28653696, 0.        , 0.        , 0.        , 2.2245018 ],\n",
              "       [0.        , 0.        , 0.        , 0.        , 0.        ,\n",
              "        0.        , 0.        , 0.        , 0.        , 0.        ,\n",
              "        1.76753139, 2.19934609, 2.64655697, 2.7698475 , 2.68749014,\n",
              "        2.25556367, 1.62832163, 0.        , 1.84406802, 2.46593107],\n",
              "       [0.        , 0.        , 0.        , 0.        , 0.        ,\n",
              "        0.        , 0.        , 0.        , 0.        , 0.        ,\n",
              "        0.        , 2.12727006, 2.5744571 , 2.70801807, 2.62051744,\n",
              "        2.25543262, 1.76700423, 1.76692276, 2.32709264, 2.6250906 ],\n",
              "       [0.        , 0.        , 0.        , 0.        , 0.        ,\n",
              "        0.        , 0.        , 0.        , 0.        , 0.        ,\n",
              "        0.        , 2.12717044, 2.50235944, 2.70273697, 2.62037187,\n",
              "        2.378663  , 2.15753131, 2.15742806, 2.57363328, 2.46558152],\n",
              "       [0.        , 0.        , 0.        , 0.        , 0.        ,\n",
              "        0.        , 0.        , 0.        , 0.        , 0.        ,\n",
              "        1.89581915, 2.24530649, 2.50223345, 2.73343523, 2.73330703,\n",
              "        2.56869699, 2.44007689, 2.67123383, 2.67623864, 2.35233992],\n",
              "       [0.        , 0.        , 0.        , 0.        , 0.        ,\n",
              "        0.        , 0.        , 0.        , 0.        , 0.        ,\n",
              "        1.91629387, 2.36343039, 2.59463074, 2.75384664, 2.79482796,\n",
              "        2.70731013, 2.67633242, 2.67619096, 2.57326795, 2.07980711],\n",
              "       [0.        , 0.        , 0.        , 0.        , 0.        ,\n",
              "        0.        , 0.        , 0.        , 0.        , 0.        ,\n",
              "        2.04985831, 2.36331261, 2.60477487, 2.72285409, 2.75354572,\n",
              "        2.73283749, 2.73268624, 2.7068387 , 2.37781045, 1.95632144],\n",
              "       [0.        , 0.        , 0.        , 0.        , 0.        ,\n",
              "        0.        , 0.        , 0.        , 0.        , 0.        ,\n",
              "        2.04975964, 2.36319325, 2.56351599, 2.73297927, 2.80477411,\n",
              "        2.80461181, 2.76333651, 2.6398461 , 2.29541804, 1.93047311],\n",
              "       [0.        , 0.        , 0.        , 0.        , 0.        ,\n",
              "        0.        , 0.        , 0.        , 0.        , 1.68994929,\n",
              "        2.03423905, 2.32709232, 2.6353323 , 2.74310067, 2.82515994,\n",
              "        2.83012591, 2.73231744, 2.55744454, 2.14624018, 1.89948861],\n",
              "       [0.        , 0.        , 0.        , 0.        , 0.        ,\n",
              "        0.        , 0.        , 0.        , 0.        , 1.79267432,\n",
              "        2.03413832, 2.37836777, 2.7071393 , 2.83030653, 2.87637508,\n",
              "        2.84535758, 2.76295981, 2.41853285, 2.13579766, 1.89933089],\n",
              "       [0.        , 0.        , 0.        , 0.        , 0.        ,\n",
              "        0.        , 0.        , 0.        , 1.79270826, 1.9879111 ,\n",
              "        2.14197141, 2.39366132, 2.73782525, 2.8404194 , 2.95327577,\n",
              "        2.90683084, 2.78845844, 2.3978041 , 2.22296468, 2.04300914],\n",
              "       [0.        , 0.        , 0.        , 0.        , 0.        ,\n",
              "        0.        , 0.        , 1.99322867, 2.03421615, 2.13173366,\n",
              "        2.16242245, 2.45006693, 2.7890628 , 2.88136157, 3.00961413,\n",
              "        2.98371006, 2.8550546 , 2.55688343, 2.23820124, 2.11475346],\n",
              "       [0.        , 0.        , 0.        , 0.        , 0.        ,\n",
              "        1.95229123, 2.08581557, 2.22960087, 2.14206693, 2.16247218,\n",
              "        2.21370721, 2.50646654, 2.80432415, 3.03534231, 3.05053199,\n",
              "        3.00920301, 2.86513179, 2.64402394, 2.47944879, 2.39194074],\n",
              "       [0.        , 0.        , 0.        , 0.        , 0.        ,\n",
              "        2.10130569, 2.25537263, 2.36829531, 2.28588807, 2.26515995,\n",
              "        2.28554389, 2.53202801, 2.93262912, 3.04544097, 3.0452051 ,\n",
              "        2.94735747, 2.85465895, 2.71060667, 2.61793799, 2.52014688],\n",
              "       [0.        , 0.        , 0.        , 0.        , 2.25046665,\n",
              "        2.31713891, 2.48146145, 2.53781969, 2.51707137, 2.37297899,\n",
              "        2.42931892, 2.52161738, 2.98384899, 3.0452632 , 3.04501691,\n",
              "        2.94716454, 2.82877856, 2.74636374, 2.63314598, 2.55589479],\n",
              "       [0.        , 0.        , 0.        , 0.        , 2.44574638,\n",
              "        2.43529186, 2.53791379, 2.60967769, 2.65572871, 2.5784319 ,\n",
              "        2.53197244, 2.55745275, 2.98368575, 3.06049929, 3.06024131,\n",
              "        2.93669896, 2.85426614, 2.76670978, 2.64835333, 2.53515152],\n",
              "       [0.        , 0.        , 0.        , 0.        , 2.67185904,\n",
              "        2.56371871, 2.56866321, 2.60957665, 2.69159251, 2.68109157,\n",
              "        2.59864911, 2.63952876, 2.89618212, 3.07573443, 3.0754654 ,\n",
              "        2.96732839, 2.82325496, 2.76137564, 2.63788397, 2.51441235],\n",
              "       [0.        , 0.        , 0.        , 0.        , 0.        ,\n",
              "        2.67157738, 2.56857164, 2.59919727, 2.69148073, 2.73235785,\n",
              "        2.69615083, 2.68049573, 2.88575065, 3.07555887, 3.07527974,\n",
              "        2.9722751 , 2.8590155 , 2.7611805 , 2.65822764, 2.53475524],\n",
              "       [0.        , 0.        , 0.        , 0.        , 0.        ,\n",
              "        2.89251014, 2.61473744, 2.64535108, 2.73248068, 2.78876031,\n",
              "        2.78850738, 2.72659869, 2.7879889 , 3.01888107, 3.01859689,\n",
              "        2.98749572, 2.89990936, 2.78152812, 2.66830262, 2.58590374],\n",
              "       [0.        , 0.        , 0.        , 0.        , 0.        ,\n",
              "        3.05689267, 2.67631916, 2.65552915, 2.73236954, 2.80405355,\n",
              "        2.85003116, 2.7881111 , 2.74674549, 2.8646171 , 2.94651407,\n",
              "        2.94108993, 2.86890923, 2.79674211, 2.67324523, 2.61137932]])"
            ]
          },
          "metadata": {
            "tags": []
          },
          "execution_count": 72
        }
      ]
    },
    {
      "cell_type": "code",
      "metadata": {
        "id": "Tfmi7q6cio_N"
      },
      "source": [],
      "execution_count": null,
      "outputs": []
    }
  ]
}